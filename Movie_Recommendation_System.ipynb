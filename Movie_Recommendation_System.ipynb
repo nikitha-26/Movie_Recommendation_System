{
  "nbformat": 4,
  "nbformat_minor": 0,
  "metadata": {
    "colab": {
      "provenance": [],
      "authorship_tag": "ABX9TyNV9SBEheadJuPTzUfgMMav",
      "include_colab_link": true
    },
    "kernelspec": {
      "name": "python3",
      "display_name": "Python 3"
    },
    "language_info": {
      "name": "python"
    }
  },
  "cells": [
    {
      "cell_type": "markdown",
      "metadata": {
        "id": "view-in-github",
        "colab_type": "text"
      },
      "source": [
        "<a href=\"https://colab.research.google.com/github/nikitha-26/Movie_Recommendation_System/blob/main/Movie_Recommendation_System.ipynb\" target=\"_parent\"><img src=\"https://colab.research.google.com/assets/colab-badge.svg\" alt=\"Open In Colab\"/></a>"
      ]
    },
    {
      "cell_type": "markdown",
      "source": [
        "# **MOVIE RECOMENDATION SYSTEM**"
      ],
      "metadata": {
        "id": "Aq_biAmX3_yG"
      }
    },
    {
      "cell_type": "markdown",
      "source": [
        "## **Objective**"
      ],
      "metadata": {
        "id": "d8JGPPtg4qNU"
      }
    },
    {
      "cell_type": "markdown",
      "source": [
        "The objective of this Movie Recommendation System is to provide users with highly accurate and personalized movie suggestions based on their preferences and inputs. This system aims to offer spot-on recommendations, even accommodating minor deviations in movie titles. By tailoring suggestions to individual tastes and ensuring a seamless user experience, this system strives to enhance user engagement and satisfaction, making movie discovery an enjoyable and effortless process for every user."
      ],
      "metadata": {
        "id": "wHCtHGoM52kI"
      }
    },
    {
      "cell_type": "markdown",
      "source": [
        "## Data Source\n",
        "The dataset for this project was obtained from the YBI Foundation Kaggle repository. It includes information about movies, user ratings, and other relevant features necessary for building the recommendation system."
      ],
      "metadata": {
        "id": "P_UUzwj47yjs"
      }
    },
    {
      "cell_type": "markdown",
      "source": [
        "## Import Libraries"
      ],
      "metadata": {
        "id": "XoVeMdYY9TU0"
      }
    },
    {
      "cell_type": "code",
      "source": [
        "import pandas as pd\n",
        "import numpy as np"
      ],
      "metadata": {
        "id": "gmu4fbh45lYH"
      },
      "execution_count": null,
      "outputs": []
    },
    {
      "cell_type": "markdown",
      "source": [
        "## Import Dataset"
      ],
      "metadata": {
        "id": "TkGkC4Jh9pGg"
      }
    },
    {
      "cell_type": "code",
      "execution_count": null,
      "metadata": {
        "id": "NAKB9uMw3-kf"
      },
      "outputs": [],
      "source": [
        "df=pd.read_csv(\"https://raw.githubusercontent.com/YBI-Foundation/Dataset/main/Movies%20Recommendation.csv\")"
      ]
    },
    {
      "cell_type": "markdown",
      "source": [
        "## Describe Data"
      ],
      "metadata": {
        "id": "vn73K-ulA1T9"
      }
    },
    {
      "cell_type": "code",
      "source": [
        "df.head()"
      ],
      "metadata": {
        "colab": {
          "base_uri": "https://localhost:8080/",
          "height": 672
        },
        "id": "js7WWy1SAAid",
        "outputId": "b32002af-17a6-4f0a-e184-f1d952ef496b"
      },
      "execution_count": null,
      "outputs": [
        {
          "output_type": "execute_result",
          "data": {
            "text/plain": [
              "   Movie_ID      Movie_Title                       Movie_Genre Movie_Language  \\\n",
              "0         1       Four Rooms                      Crime Comedy             en   \n",
              "1         2        Star Wars  Adventure Action Science Fiction             en   \n",
              "2         3     Finding Nemo                  Animation Family             en   \n",
              "3         4     Forrest Gump              Comedy Drama Romance             en   \n",
              "4         5  American Beauty                             Drama             en   \n",
              "\n",
              "   Movie_Budget  Movie_Popularity Movie_Release_Date  Movie_Revenue  \\\n",
              "0       4000000         22.876230         09-12-1995        4300000   \n",
              "1      11000000        126.393695         25-05-1977      775398007   \n",
              "2      94000000         85.688789         30-05-2003      940335536   \n",
              "3      55000000        138.133331         06-07-1994      677945399   \n",
              "4      15000000         80.878605         15-09-1999      356296601   \n",
              "\n",
              "   Movie_Runtime  Movie_Vote  ...  \\\n",
              "0           98.0         6.5  ...   \n",
              "1          121.0         8.1  ...   \n",
              "2          100.0         7.6  ...   \n",
              "3          142.0         8.2  ...   \n",
              "4          122.0         7.9  ...   \n",
              "\n",
              "                                      Movie_Homepage  \\\n",
              "0                                                NaN   \n",
              "1  http://www.starwars.com/films/star-wars-episod...   \n",
              "2              http://movies.disney.com/finding-nemo   \n",
              "3                                                NaN   \n",
              "4                      http://www.dreamworks.com/ab/   \n",
              "\n",
              "                                      Movie_Keywords  \\\n",
              "0          hotel new year's eve witch bet hotel room   \n",
              "1        android galaxy hermit death star lightsaber   \n",
              "2  father son relationship harbor underwater fish...   \n",
              "3  vietnam veteran hippie mentally disabled runni...   \n",
              "4  male nudity female nudity adultery midlife cri...   \n",
              "\n",
              "                                      Movie_Overview  \\\n",
              "0  It's Ted the Bellhop's first night on the job....   \n",
              "1  Princess Leia is captured and held hostage by ...   \n",
              "2  Nemo, an adventurous young clownfish, is unexp...   \n",
              "3  A man with a low IQ has accomplished great thi...   \n",
              "4  Lester Burnham, a depressed suburban father in...   \n",
              "\n",
              "                              Movie_Production_House  \\\n",
              "0  [{\"name\": \"Miramax Films\", \"id\": 14}, {\"name\":...   \n",
              "1  [{\"name\": \"Lucasfilm\", \"id\": 1}, {\"name\": \"Twe...   \n",
              "2     [{\"name\": \"Pixar Animation Studios\", \"id\": 3}]   \n",
              "3          [{\"name\": \"Paramount Pictures\", \"id\": 4}]   \n",
              "4  [{\"name\": \"DreamWorks SKG\", \"id\": 27}, {\"name\"...   \n",
              "\n",
              "                            Movie_Production_Country  \\\n",
              "0  [{\"iso_3166_1\": \"US\", \"name\": \"United States o...   \n",
              "1  [{\"iso_3166_1\": \"US\", \"name\": \"United States o...   \n",
              "2  [{\"iso_3166_1\": \"US\", \"name\": \"United States o...   \n",
              "3  [{\"iso_3166_1\": \"US\", \"name\": \"United States o...   \n",
              "4  [{\"iso_3166_1\": \"US\", \"name\": \"United States o...   \n",
              "\n",
              "                      Movie_Spoken_Language  \\\n",
              "0  [{\"iso_639_1\": \"en\", \"name\": \"English\"}]   \n",
              "1  [{\"iso_639_1\": \"en\", \"name\": \"English\"}]   \n",
              "2  [{\"iso_639_1\": \"en\", \"name\": \"English\"}]   \n",
              "3  [{\"iso_639_1\": \"en\", \"name\": \"English\"}]   \n",
              "4  [{\"iso_639_1\": \"en\", \"name\": \"English\"}]   \n",
              "\n",
              "                                       Movie_Tagline  \\\n",
              "0  Twelve outrageous guests. Four scandalous requ...   \n",
              "1       A long time ago in a galaxy far, far away...   \n",
              "2  There are 3.7 trillion fish in the ocean, they...   \n",
              "3  The world will never be the same, once you've ...   \n",
              "4                                       Look closer.   \n",
              "\n",
              "                                          Movie_Cast  \\\n",
              "0  Tim Roth Antonio Banderas Jennifer Beals Madon...   \n",
              "1  Mark Hamill Harrison Ford Carrie Fisher Peter ...   \n",
              "2  Albert Brooks Ellen DeGeneres Alexander Gould ...   \n",
              "3  Tom Hanks Robin Wright Gary Sinise Mykelti Wil...   \n",
              "4  Kevin Spacey Annette Bening Thora Birch Wes Be...   \n",
              "\n",
              "                                          Movie_Crew   Movie_Director  \n",
              "0  [{'name': 'Allison Anders', 'gender': 1, 'depa...   Allison Anders  \n",
              "1  [{'name': 'George Lucas', 'gender': 2, 'depart...     George Lucas  \n",
              "2  [{'name': 'Andrew Stanton', 'gender': 2, 'depa...   Andrew Stanton  \n",
              "3  [{'name': 'Alan Silvestri', 'gender': 2, 'depa...  Robert Zemeckis  \n",
              "4  [{'name': 'Thomas Newman', 'gender': 2, 'depar...       Sam Mendes  \n",
              "\n",
              "[5 rows x 21 columns]"
            ],
            "text/html": [
              "\n",
              "  <div id=\"df-3e0071bd-63cc-4b94-9af9-305f3fca1013\" class=\"colab-df-container\">\n",
              "    <div>\n",
              "<style scoped>\n",
              "    .dataframe tbody tr th:only-of-type {\n",
              "        vertical-align: middle;\n",
              "    }\n",
              "\n",
              "    .dataframe tbody tr th {\n",
              "        vertical-align: top;\n",
              "    }\n",
              "\n",
              "    .dataframe thead th {\n",
              "        text-align: right;\n",
              "    }\n",
              "</style>\n",
              "<table border=\"1\" class=\"dataframe\">\n",
              "  <thead>\n",
              "    <tr style=\"text-align: right;\">\n",
              "      <th></th>\n",
              "      <th>Movie_ID</th>\n",
              "      <th>Movie_Title</th>\n",
              "      <th>Movie_Genre</th>\n",
              "      <th>Movie_Language</th>\n",
              "      <th>Movie_Budget</th>\n",
              "      <th>Movie_Popularity</th>\n",
              "      <th>Movie_Release_Date</th>\n",
              "      <th>Movie_Revenue</th>\n",
              "      <th>Movie_Runtime</th>\n",
              "      <th>Movie_Vote</th>\n",
              "      <th>...</th>\n",
              "      <th>Movie_Homepage</th>\n",
              "      <th>Movie_Keywords</th>\n",
              "      <th>Movie_Overview</th>\n",
              "      <th>Movie_Production_House</th>\n",
              "      <th>Movie_Production_Country</th>\n",
              "      <th>Movie_Spoken_Language</th>\n",
              "      <th>Movie_Tagline</th>\n",
              "      <th>Movie_Cast</th>\n",
              "      <th>Movie_Crew</th>\n",
              "      <th>Movie_Director</th>\n",
              "    </tr>\n",
              "  </thead>\n",
              "  <tbody>\n",
              "    <tr>\n",
              "      <th>0</th>\n",
              "      <td>1</td>\n",
              "      <td>Four Rooms</td>\n",
              "      <td>Crime Comedy</td>\n",
              "      <td>en</td>\n",
              "      <td>4000000</td>\n",
              "      <td>22.876230</td>\n",
              "      <td>09-12-1995</td>\n",
              "      <td>4300000</td>\n",
              "      <td>98.0</td>\n",
              "      <td>6.5</td>\n",
              "      <td>...</td>\n",
              "      <td>NaN</td>\n",
              "      <td>hotel new year's eve witch bet hotel room</td>\n",
              "      <td>It's Ted the Bellhop's first night on the job....</td>\n",
              "      <td>[{\"name\": \"Miramax Films\", \"id\": 14}, {\"name\":...</td>\n",
              "      <td>[{\"iso_3166_1\": \"US\", \"name\": \"United States o...</td>\n",
              "      <td>[{\"iso_639_1\": \"en\", \"name\": \"English\"}]</td>\n",
              "      <td>Twelve outrageous guests. Four scandalous requ...</td>\n",
              "      <td>Tim Roth Antonio Banderas Jennifer Beals Madon...</td>\n",
              "      <td>[{'name': 'Allison Anders', 'gender': 1, 'depa...</td>\n",
              "      <td>Allison Anders</td>\n",
              "    </tr>\n",
              "    <tr>\n",
              "      <th>1</th>\n",
              "      <td>2</td>\n",
              "      <td>Star Wars</td>\n",
              "      <td>Adventure Action Science Fiction</td>\n",
              "      <td>en</td>\n",
              "      <td>11000000</td>\n",
              "      <td>126.393695</td>\n",
              "      <td>25-05-1977</td>\n",
              "      <td>775398007</td>\n",
              "      <td>121.0</td>\n",
              "      <td>8.1</td>\n",
              "      <td>...</td>\n",
              "      <td>http://www.starwars.com/films/star-wars-episod...</td>\n",
              "      <td>android galaxy hermit death star lightsaber</td>\n",
              "      <td>Princess Leia is captured and held hostage by ...</td>\n",
              "      <td>[{\"name\": \"Lucasfilm\", \"id\": 1}, {\"name\": \"Twe...</td>\n",
              "      <td>[{\"iso_3166_1\": \"US\", \"name\": \"United States o...</td>\n",
              "      <td>[{\"iso_639_1\": \"en\", \"name\": \"English\"}]</td>\n",
              "      <td>A long time ago in a galaxy far, far away...</td>\n",
              "      <td>Mark Hamill Harrison Ford Carrie Fisher Peter ...</td>\n",
              "      <td>[{'name': 'George Lucas', 'gender': 2, 'depart...</td>\n",
              "      <td>George Lucas</td>\n",
              "    </tr>\n",
              "    <tr>\n",
              "      <th>2</th>\n",
              "      <td>3</td>\n",
              "      <td>Finding Nemo</td>\n",
              "      <td>Animation Family</td>\n",
              "      <td>en</td>\n",
              "      <td>94000000</td>\n",
              "      <td>85.688789</td>\n",
              "      <td>30-05-2003</td>\n",
              "      <td>940335536</td>\n",
              "      <td>100.0</td>\n",
              "      <td>7.6</td>\n",
              "      <td>...</td>\n",
              "      <td>http://movies.disney.com/finding-nemo</td>\n",
              "      <td>father son relationship harbor underwater fish...</td>\n",
              "      <td>Nemo, an adventurous young clownfish, is unexp...</td>\n",
              "      <td>[{\"name\": \"Pixar Animation Studios\", \"id\": 3}]</td>\n",
              "      <td>[{\"iso_3166_1\": \"US\", \"name\": \"United States o...</td>\n",
              "      <td>[{\"iso_639_1\": \"en\", \"name\": \"English\"}]</td>\n",
              "      <td>There are 3.7 trillion fish in the ocean, they...</td>\n",
              "      <td>Albert Brooks Ellen DeGeneres Alexander Gould ...</td>\n",
              "      <td>[{'name': 'Andrew Stanton', 'gender': 2, 'depa...</td>\n",
              "      <td>Andrew Stanton</td>\n",
              "    </tr>\n",
              "    <tr>\n",
              "      <th>3</th>\n",
              "      <td>4</td>\n",
              "      <td>Forrest Gump</td>\n",
              "      <td>Comedy Drama Romance</td>\n",
              "      <td>en</td>\n",
              "      <td>55000000</td>\n",
              "      <td>138.133331</td>\n",
              "      <td>06-07-1994</td>\n",
              "      <td>677945399</td>\n",
              "      <td>142.0</td>\n",
              "      <td>8.2</td>\n",
              "      <td>...</td>\n",
              "      <td>NaN</td>\n",
              "      <td>vietnam veteran hippie mentally disabled runni...</td>\n",
              "      <td>A man with a low IQ has accomplished great thi...</td>\n",
              "      <td>[{\"name\": \"Paramount Pictures\", \"id\": 4}]</td>\n",
              "      <td>[{\"iso_3166_1\": \"US\", \"name\": \"United States o...</td>\n",
              "      <td>[{\"iso_639_1\": \"en\", \"name\": \"English\"}]</td>\n",
              "      <td>The world will never be the same, once you've ...</td>\n",
              "      <td>Tom Hanks Robin Wright Gary Sinise Mykelti Wil...</td>\n",
              "      <td>[{'name': 'Alan Silvestri', 'gender': 2, 'depa...</td>\n",
              "      <td>Robert Zemeckis</td>\n",
              "    </tr>\n",
              "    <tr>\n",
              "      <th>4</th>\n",
              "      <td>5</td>\n",
              "      <td>American Beauty</td>\n",
              "      <td>Drama</td>\n",
              "      <td>en</td>\n",
              "      <td>15000000</td>\n",
              "      <td>80.878605</td>\n",
              "      <td>15-09-1999</td>\n",
              "      <td>356296601</td>\n",
              "      <td>122.0</td>\n",
              "      <td>7.9</td>\n",
              "      <td>...</td>\n",
              "      <td>http://www.dreamworks.com/ab/</td>\n",
              "      <td>male nudity female nudity adultery midlife cri...</td>\n",
              "      <td>Lester Burnham, a depressed suburban father in...</td>\n",
              "      <td>[{\"name\": \"DreamWorks SKG\", \"id\": 27}, {\"name\"...</td>\n",
              "      <td>[{\"iso_3166_1\": \"US\", \"name\": \"United States o...</td>\n",
              "      <td>[{\"iso_639_1\": \"en\", \"name\": \"English\"}]</td>\n",
              "      <td>Look closer.</td>\n",
              "      <td>Kevin Spacey Annette Bening Thora Birch Wes Be...</td>\n",
              "      <td>[{'name': 'Thomas Newman', 'gender': 2, 'depar...</td>\n",
              "      <td>Sam Mendes</td>\n",
              "    </tr>\n",
              "  </tbody>\n",
              "</table>\n",
              "<p>5 rows × 21 columns</p>\n",
              "</div>\n",
              "    <div class=\"colab-df-buttons\">\n",
              "\n",
              "  <div class=\"colab-df-container\">\n",
              "    <button class=\"colab-df-convert\" onclick=\"convertToInteractive('df-3e0071bd-63cc-4b94-9af9-305f3fca1013')\"\n",
              "            title=\"Convert this dataframe to an interactive table.\"\n",
              "            style=\"display:none;\">\n",
              "\n",
              "  <svg xmlns=\"http://www.w3.org/2000/svg\" height=\"24px\" viewBox=\"0 -960 960 960\">\n",
              "    <path d=\"M120-120v-720h720v720H120Zm60-500h600v-160H180v160Zm220 220h160v-160H400v160Zm0 220h160v-160H400v160ZM180-400h160v-160H180v160Zm440 0h160v-160H620v160ZM180-180h160v-160H180v160Zm440 0h160v-160H620v160Z\"/>\n",
              "  </svg>\n",
              "    </button>\n",
              "\n",
              "  <style>\n",
              "    .colab-df-container {\n",
              "      display:flex;\n",
              "      gap: 12px;\n",
              "    }\n",
              "\n",
              "    .colab-df-convert {\n",
              "      background-color: #E8F0FE;\n",
              "      border: none;\n",
              "      border-radius: 50%;\n",
              "      cursor: pointer;\n",
              "      display: none;\n",
              "      fill: #1967D2;\n",
              "      height: 32px;\n",
              "      padding: 0 0 0 0;\n",
              "      width: 32px;\n",
              "    }\n",
              "\n",
              "    .colab-df-convert:hover {\n",
              "      background-color: #E2EBFA;\n",
              "      box-shadow: 0px 1px 2px rgba(60, 64, 67, 0.3), 0px 1px 3px 1px rgba(60, 64, 67, 0.15);\n",
              "      fill: #174EA6;\n",
              "    }\n",
              "\n",
              "    .colab-df-buttons div {\n",
              "      margin-bottom: 4px;\n",
              "    }\n",
              "\n",
              "    [theme=dark] .colab-df-convert {\n",
              "      background-color: #3B4455;\n",
              "      fill: #D2E3FC;\n",
              "    }\n",
              "\n",
              "    [theme=dark] .colab-df-convert:hover {\n",
              "      background-color: #434B5C;\n",
              "      box-shadow: 0px 1px 3px 1px rgba(0, 0, 0, 0.15);\n",
              "      filter: drop-shadow(0px 1px 2px rgba(0, 0, 0, 0.3));\n",
              "      fill: #FFFFFF;\n",
              "    }\n",
              "  </style>\n",
              "\n",
              "    <script>\n",
              "      const buttonEl =\n",
              "        document.querySelector('#df-3e0071bd-63cc-4b94-9af9-305f3fca1013 button.colab-df-convert');\n",
              "      buttonEl.style.display =\n",
              "        google.colab.kernel.accessAllowed ? 'block' : 'none';\n",
              "\n",
              "      async function convertToInteractive(key) {\n",
              "        const element = document.querySelector('#df-3e0071bd-63cc-4b94-9af9-305f3fca1013');\n",
              "        const dataTable =\n",
              "          await google.colab.kernel.invokeFunction('convertToInteractive',\n",
              "                                                    [key], {});\n",
              "        if (!dataTable) return;\n",
              "\n",
              "        const docLinkHtml = 'Like what you see? Visit the ' +\n",
              "          '<a target=\"_blank\" href=https://colab.research.google.com/notebooks/data_table.ipynb>data table notebook</a>'\n",
              "          + ' to learn more about interactive tables.';\n",
              "        element.innerHTML = '';\n",
              "        dataTable['output_type'] = 'display_data';\n",
              "        await google.colab.output.renderOutput(dataTable, element);\n",
              "        const docLink = document.createElement('div');\n",
              "        docLink.innerHTML = docLinkHtml;\n",
              "        element.appendChild(docLink);\n",
              "      }\n",
              "    </script>\n",
              "  </div>\n",
              "\n",
              "\n",
              "<div id=\"df-d14e9645-3cc1-4c56-afef-5ded3bf8b673\">\n",
              "  <button class=\"colab-df-quickchart\" onclick=\"quickchart('df-d14e9645-3cc1-4c56-afef-5ded3bf8b673')\"\n",
              "            title=\"Suggest charts\"\n",
              "            style=\"display:none;\">\n",
              "\n",
              "<svg xmlns=\"http://www.w3.org/2000/svg\" height=\"24px\"viewBox=\"0 0 24 24\"\n",
              "     width=\"24px\">\n",
              "    <g>\n",
              "        <path d=\"M19 3H5c-1.1 0-2 .9-2 2v14c0 1.1.9 2 2 2h14c1.1 0 2-.9 2-2V5c0-1.1-.9-2-2-2zM9 17H7v-7h2v7zm4 0h-2V7h2v10zm4 0h-2v-4h2v4z\"/>\n",
              "    </g>\n",
              "</svg>\n",
              "  </button>\n",
              "\n",
              "<style>\n",
              "  .colab-df-quickchart {\n",
              "      --bg-color: #E8F0FE;\n",
              "      --fill-color: #1967D2;\n",
              "      --hover-bg-color: #E2EBFA;\n",
              "      --hover-fill-color: #174EA6;\n",
              "      --disabled-fill-color: #AAA;\n",
              "      --disabled-bg-color: #DDD;\n",
              "  }\n",
              "\n",
              "  [theme=dark] .colab-df-quickchart {\n",
              "      --bg-color: #3B4455;\n",
              "      --fill-color: #D2E3FC;\n",
              "      --hover-bg-color: #434B5C;\n",
              "      --hover-fill-color: #FFFFFF;\n",
              "      --disabled-bg-color: #3B4455;\n",
              "      --disabled-fill-color: #666;\n",
              "  }\n",
              "\n",
              "  .colab-df-quickchart {\n",
              "    background-color: var(--bg-color);\n",
              "    border: none;\n",
              "    border-radius: 50%;\n",
              "    cursor: pointer;\n",
              "    display: none;\n",
              "    fill: var(--fill-color);\n",
              "    height: 32px;\n",
              "    padding: 0;\n",
              "    width: 32px;\n",
              "  }\n",
              "\n",
              "  .colab-df-quickchart:hover {\n",
              "    background-color: var(--hover-bg-color);\n",
              "    box-shadow: 0 1px 2px rgba(60, 64, 67, 0.3), 0 1px 3px 1px rgba(60, 64, 67, 0.15);\n",
              "    fill: var(--button-hover-fill-color);\n",
              "  }\n",
              "\n",
              "  .colab-df-quickchart-complete:disabled,\n",
              "  .colab-df-quickchart-complete:disabled:hover {\n",
              "    background-color: var(--disabled-bg-color);\n",
              "    fill: var(--disabled-fill-color);\n",
              "    box-shadow: none;\n",
              "  }\n",
              "\n",
              "  .colab-df-spinner {\n",
              "    border: 2px solid var(--fill-color);\n",
              "    border-color: transparent;\n",
              "    border-bottom-color: var(--fill-color);\n",
              "    animation:\n",
              "      spin 1s steps(1) infinite;\n",
              "  }\n",
              "\n",
              "  @keyframes spin {\n",
              "    0% {\n",
              "      border-color: transparent;\n",
              "      border-bottom-color: var(--fill-color);\n",
              "      border-left-color: var(--fill-color);\n",
              "    }\n",
              "    20% {\n",
              "      border-color: transparent;\n",
              "      border-left-color: var(--fill-color);\n",
              "      border-top-color: var(--fill-color);\n",
              "    }\n",
              "    30% {\n",
              "      border-color: transparent;\n",
              "      border-left-color: var(--fill-color);\n",
              "      border-top-color: var(--fill-color);\n",
              "      border-right-color: var(--fill-color);\n",
              "    }\n",
              "    40% {\n",
              "      border-color: transparent;\n",
              "      border-right-color: var(--fill-color);\n",
              "      border-top-color: var(--fill-color);\n",
              "    }\n",
              "    60% {\n",
              "      border-color: transparent;\n",
              "      border-right-color: var(--fill-color);\n",
              "    }\n",
              "    80% {\n",
              "      border-color: transparent;\n",
              "      border-right-color: var(--fill-color);\n",
              "      border-bottom-color: var(--fill-color);\n",
              "    }\n",
              "    90% {\n",
              "      border-color: transparent;\n",
              "      border-bottom-color: var(--fill-color);\n",
              "    }\n",
              "  }\n",
              "</style>\n",
              "\n",
              "  <script>\n",
              "    async function quickchart(key) {\n",
              "      const quickchartButtonEl =\n",
              "        document.querySelector('#' + key + ' button');\n",
              "      quickchartButtonEl.disabled = true;  // To prevent multiple clicks.\n",
              "      quickchartButtonEl.classList.add('colab-df-spinner');\n",
              "      try {\n",
              "        const charts = await google.colab.kernel.invokeFunction(\n",
              "            'suggestCharts', [key], {});\n",
              "      } catch (error) {\n",
              "        console.error('Error during call to suggestCharts:', error);\n",
              "      }\n",
              "      quickchartButtonEl.classList.remove('colab-df-spinner');\n",
              "      quickchartButtonEl.classList.add('colab-df-quickchart-complete');\n",
              "    }\n",
              "    (() => {\n",
              "      let quickchartButtonEl =\n",
              "        document.querySelector('#df-d14e9645-3cc1-4c56-afef-5ded3bf8b673 button');\n",
              "      quickchartButtonEl.style.display =\n",
              "        google.colab.kernel.accessAllowed ? 'block' : 'none';\n",
              "    })();\n",
              "  </script>\n",
              "</div>\n",
              "\n",
              "    </div>\n",
              "  </div>\n"
            ],
            "application/vnd.google.colaboratory.intrinsic+json": {
              "type": "dataframe",
              "variable_name": "df"
            }
          },
          "metadata": {},
          "execution_count": 3
        }
      ]
    },
    {
      "cell_type": "code",
      "source": [
        "df.info()"
      ],
      "metadata": {
        "colab": {
          "base_uri": "https://localhost:8080/"
        },
        "id": "X_mczqmKAGjP",
        "outputId": "df227a93-1d86-45a6-bf5b-1be669c88a3a"
      },
      "execution_count": null,
      "outputs": [
        {
          "output_type": "stream",
          "name": "stdout",
          "text": [
            "<class 'pandas.core.frame.DataFrame'>\n",
            "RangeIndex: 4760 entries, 0 to 4759\n",
            "Data columns (total 21 columns):\n",
            " #   Column                    Non-Null Count  Dtype  \n",
            "---  ------                    --------------  -----  \n",
            " 0   Movie_ID                  4760 non-null   int64  \n",
            " 1   Movie_Title               4760 non-null   object \n",
            " 2   Movie_Genre               4760 non-null   object \n",
            " 3   Movie_Language            4760 non-null   object \n",
            " 4   Movie_Budget              4760 non-null   int64  \n",
            " 5   Movie_Popularity          4760 non-null   float64\n",
            " 6   Movie_Release_Date        4760 non-null   object \n",
            " 7   Movie_Revenue             4760 non-null   int64  \n",
            " 8   Movie_Runtime             4758 non-null   float64\n",
            " 9   Movie_Vote                4760 non-null   float64\n",
            " 10  Movie_Vote_Count          4760 non-null   int64  \n",
            " 11  Movie_Homepage            1699 non-null   object \n",
            " 12  Movie_Keywords            4373 non-null   object \n",
            " 13  Movie_Overview            4757 non-null   object \n",
            " 14  Movie_Production_House    4760 non-null   object \n",
            " 15  Movie_Production_Country  4760 non-null   object \n",
            " 16  Movie_Spoken_Language     4760 non-null   object \n",
            " 17  Movie_Tagline             3942 non-null   object \n",
            " 18  Movie_Cast                4733 non-null   object \n",
            " 19  Movie_Crew                4760 non-null   object \n",
            " 20  Movie_Director            4738 non-null   object \n",
            "dtypes: float64(3), int64(4), object(14)\n",
            "memory usage: 781.1+ KB\n"
          ]
        }
      ]
    },
    {
      "cell_type": "code",
      "source": [
        "df.describe()"
      ],
      "metadata": {
        "colab": {
          "base_uri": "https://localhost:8080/",
          "height": 300
        },
        "id": "rKFDh5bdAOqk",
        "outputId": "3a885805-3818-4c88-d1b6-d0be27d07e68"
      },
      "execution_count": null,
      "outputs": [
        {
          "output_type": "execute_result",
          "data": {
            "text/plain": [
              "          Movie_ID  Movie_Budget  Movie_Popularity  Movie_Revenue  \\\n",
              "count  4760.000000  4.760000e+03       4760.000000   4.760000e+03   \n",
              "mean   2382.566387  2.920129e+07         21.599510   8.263743e+07   \n",
              "std    1377.270159  4.075620e+07         31.887919   1.630554e+08   \n",
              "min       1.000000  0.000000e+00          0.000372   0.000000e+00   \n",
              "25%    1190.750000  9.257500e+05          4.807074   0.000000e+00   \n",
              "50%    2380.500000  1.500000e+07         13.119058   1.944716e+07   \n",
              "75%    3572.250000  4.000000e+07         28.411929   9.341276e+07   \n",
              "max    4788.000000  3.800000e+08        875.581305   2.787965e+09   \n",
              "\n",
              "       Movie_Runtime   Movie_Vote  Movie_Vote_Count  \n",
              "count    4758.000000  4760.000000       4760.000000  \n",
              "mean      107.184111     6.113866        692.508403  \n",
              "std        21.960332     1.141294       1235.007337  \n",
              "min         0.000000     0.000000          0.000000  \n",
              "25%        94.000000     5.600000         55.000000  \n",
              "50%       104.000000     6.200000        238.000000  \n",
              "75%       118.000000     6.800000        740.250000  \n",
              "max       338.000000    10.000000      13752.000000  "
            ],
            "text/html": [
              "\n",
              "  <div id=\"df-a457e740-e781-4408-94ef-f608f17ed0cf\" class=\"colab-df-container\">\n",
              "    <div>\n",
              "<style scoped>\n",
              "    .dataframe tbody tr th:only-of-type {\n",
              "        vertical-align: middle;\n",
              "    }\n",
              "\n",
              "    .dataframe tbody tr th {\n",
              "        vertical-align: top;\n",
              "    }\n",
              "\n",
              "    .dataframe thead th {\n",
              "        text-align: right;\n",
              "    }\n",
              "</style>\n",
              "<table border=\"1\" class=\"dataframe\">\n",
              "  <thead>\n",
              "    <tr style=\"text-align: right;\">\n",
              "      <th></th>\n",
              "      <th>Movie_ID</th>\n",
              "      <th>Movie_Budget</th>\n",
              "      <th>Movie_Popularity</th>\n",
              "      <th>Movie_Revenue</th>\n",
              "      <th>Movie_Runtime</th>\n",
              "      <th>Movie_Vote</th>\n",
              "      <th>Movie_Vote_Count</th>\n",
              "    </tr>\n",
              "  </thead>\n",
              "  <tbody>\n",
              "    <tr>\n",
              "      <th>count</th>\n",
              "      <td>4760.000000</td>\n",
              "      <td>4.760000e+03</td>\n",
              "      <td>4760.000000</td>\n",
              "      <td>4.760000e+03</td>\n",
              "      <td>4758.000000</td>\n",
              "      <td>4760.000000</td>\n",
              "      <td>4760.000000</td>\n",
              "    </tr>\n",
              "    <tr>\n",
              "      <th>mean</th>\n",
              "      <td>2382.566387</td>\n",
              "      <td>2.920129e+07</td>\n",
              "      <td>21.599510</td>\n",
              "      <td>8.263743e+07</td>\n",
              "      <td>107.184111</td>\n",
              "      <td>6.113866</td>\n",
              "      <td>692.508403</td>\n",
              "    </tr>\n",
              "    <tr>\n",
              "      <th>std</th>\n",
              "      <td>1377.270159</td>\n",
              "      <td>4.075620e+07</td>\n",
              "      <td>31.887919</td>\n",
              "      <td>1.630554e+08</td>\n",
              "      <td>21.960332</td>\n",
              "      <td>1.141294</td>\n",
              "      <td>1235.007337</td>\n",
              "    </tr>\n",
              "    <tr>\n",
              "      <th>min</th>\n",
              "      <td>1.000000</td>\n",
              "      <td>0.000000e+00</td>\n",
              "      <td>0.000372</td>\n",
              "      <td>0.000000e+00</td>\n",
              "      <td>0.000000</td>\n",
              "      <td>0.000000</td>\n",
              "      <td>0.000000</td>\n",
              "    </tr>\n",
              "    <tr>\n",
              "      <th>25%</th>\n",
              "      <td>1190.750000</td>\n",
              "      <td>9.257500e+05</td>\n",
              "      <td>4.807074</td>\n",
              "      <td>0.000000e+00</td>\n",
              "      <td>94.000000</td>\n",
              "      <td>5.600000</td>\n",
              "      <td>55.000000</td>\n",
              "    </tr>\n",
              "    <tr>\n",
              "      <th>50%</th>\n",
              "      <td>2380.500000</td>\n",
              "      <td>1.500000e+07</td>\n",
              "      <td>13.119058</td>\n",
              "      <td>1.944716e+07</td>\n",
              "      <td>104.000000</td>\n",
              "      <td>6.200000</td>\n",
              "      <td>238.000000</td>\n",
              "    </tr>\n",
              "    <tr>\n",
              "      <th>75%</th>\n",
              "      <td>3572.250000</td>\n",
              "      <td>4.000000e+07</td>\n",
              "      <td>28.411929</td>\n",
              "      <td>9.341276e+07</td>\n",
              "      <td>118.000000</td>\n",
              "      <td>6.800000</td>\n",
              "      <td>740.250000</td>\n",
              "    </tr>\n",
              "    <tr>\n",
              "      <th>max</th>\n",
              "      <td>4788.000000</td>\n",
              "      <td>3.800000e+08</td>\n",
              "      <td>875.581305</td>\n",
              "      <td>2.787965e+09</td>\n",
              "      <td>338.000000</td>\n",
              "      <td>10.000000</td>\n",
              "      <td>13752.000000</td>\n",
              "    </tr>\n",
              "  </tbody>\n",
              "</table>\n",
              "</div>\n",
              "    <div class=\"colab-df-buttons\">\n",
              "\n",
              "  <div class=\"colab-df-container\">\n",
              "    <button class=\"colab-df-convert\" onclick=\"convertToInteractive('df-a457e740-e781-4408-94ef-f608f17ed0cf')\"\n",
              "            title=\"Convert this dataframe to an interactive table.\"\n",
              "            style=\"display:none;\">\n",
              "\n",
              "  <svg xmlns=\"http://www.w3.org/2000/svg\" height=\"24px\" viewBox=\"0 -960 960 960\">\n",
              "    <path d=\"M120-120v-720h720v720H120Zm60-500h600v-160H180v160Zm220 220h160v-160H400v160Zm0 220h160v-160H400v160ZM180-400h160v-160H180v160Zm440 0h160v-160H620v160ZM180-180h160v-160H180v160Zm440 0h160v-160H620v160Z\"/>\n",
              "  </svg>\n",
              "    </button>\n",
              "\n",
              "  <style>\n",
              "    .colab-df-container {\n",
              "      display:flex;\n",
              "      gap: 12px;\n",
              "    }\n",
              "\n",
              "    .colab-df-convert {\n",
              "      background-color: #E8F0FE;\n",
              "      border: none;\n",
              "      border-radius: 50%;\n",
              "      cursor: pointer;\n",
              "      display: none;\n",
              "      fill: #1967D2;\n",
              "      height: 32px;\n",
              "      padding: 0 0 0 0;\n",
              "      width: 32px;\n",
              "    }\n",
              "\n",
              "    .colab-df-convert:hover {\n",
              "      background-color: #E2EBFA;\n",
              "      box-shadow: 0px 1px 2px rgba(60, 64, 67, 0.3), 0px 1px 3px 1px rgba(60, 64, 67, 0.15);\n",
              "      fill: #174EA6;\n",
              "    }\n",
              "\n",
              "    .colab-df-buttons div {\n",
              "      margin-bottom: 4px;\n",
              "    }\n",
              "\n",
              "    [theme=dark] .colab-df-convert {\n",
              "      background-color: #3B4455;\n",
              "      fill: #D2E3FC;\n",
              "    }\n",
              "\n",
              "    [theme=dark] .colab-df-convert:hover {\n",
              "      background-color: #434B5C;\n",
              "      box-shadow: 0px 1px 3px 1px rgba(0, 0, 0, 0.15);\n",
              "      filter: drop-shadow(0px 1px 2px rgba(0, 0, 0, 0.3));\n",
              "      fill: #FFFFFF;\n",
              "    }\n",
              "  </style>\n",
              "\n",
              "    <script>\n",
              "      const buttonEl =\n",
              "        document.querySelector('#df-a457e740-e781-4408-94ef-f608f17ed0cf button.colab-df-convert');\n",
              "      buttonEl.style.display =\n",
              "        google.colab.kernel.accessAllowed ? 'block' : 'none';\n",
              "\n",
              "      async function convertToInteractive(key) {\n",
              "        const element = document.querySelector('#df-a457e740-e781-4408-94ef-f608f17ed0cf');\n",
              "        const dataTable =\n",
              "          await google.colab.kernel.invokeFunction('convertToInteractive',\n",
              "                                                    [key], {});\n",
              "        if (!dataTable) return;\n",
              "\n",
              "        const docLinkHtml = 'Like what you see? Visit the ' +\n",
              "          '<a target=\"_blank\" href=https://colab.research.google.com/notebooks/data_table.ipynb>data table notebook</a>'\n",
              "          + ' to learn more about interactive tables.';\n",
              "        element.innerHTML = '';\n",
              "        dataTable['output_type'] = 'display_data';\n",
              "        await google.colab.output.renderOutput(dataTable, element);\n",
              "        const docLink = document.createElement('div');\n",
              "        docLink.innerHTML = docLinkHtml;\n",
              "        element.appendChild(docLink);\n",
              "      }\n",
              "    </script>\n",
              "  </div>\n",
              "\n",
              "\n",
              "<div id=\"df-bc8241e5-1663-4091-8337-ea3aa2430ae7\">\n",
              "  <button class=\"colab-df-quickchart\" onclick=\"quickchart('df-bc8241e5-1663-4091-8337-ea3aa2430ae7')\"\n",
              "            title=\"Suggest charts\"\n",
              "            style=\"display:none;\">\n",
              "\n",
              "<svg xmlns=\"http://www.w3.org/2000/svg\" height=\"24px\"viewBox=\"0 0 24 24\"\n",
              "     width=\"24px\">\n",
              "    <g>\n",
              "        <path d=\"M19 3H5c-1.1 0-2 .9-2 2v14c0 1.1.9 2 2 2h14c1.1 0 2-.9 2-2V5c0-1.1-.9-2-2-2zM9 17H7v-7h2v7zm4 0h-2V7h2v10zm4 0h-2v-4h2v4z\"/>\n",
              "    </g>\n",
              "</svg>\n",
              "  </button>\n",
              "\n",
              "<style>\n",
              "  .colab-df-quickchart {\n",
              "      --bg-color: #E8F0FE;\n",
              "      --fill-color: #1967D2;\n",
              "      --hover-bg-color: #E2EBFA;\n",
              "      --hover-fill-color: #174EA6;\n",
              "      --disabled-fill-color: #AAA;\n",
              "      --disabled-bg-color: #DDD;\n",
              "  }\n",
              "\n",
              "  [theme=dark] .colab-df-quickchart {\n",
              "      --bg-color: #3B4455;\n",
              "      --fill-color: #D2E3FC;\n",
              "      --hover-bg-color: #434B5C;\n",
              "      --hover-fill-color: #FFFFFF;\n",
              "      --disabled-bg-color: #3B4455;\n",
              "      --disabled-fill-color: #666;\n",
              "  }\n",
              "\n",
              "  .colab-df-quickchart {\n",
              "    background-color: var(--bg-color);\n",
              "    border: none;\n",
              "    border-radius: 50%;\n",
              "    cursor: pointer;\n",
              "    display: none;\n",
              "    fill: var(--fill-color);\n",
              "    height: 32px;\n",
              "    padding: 0;\n",
              "    width: 32px;\n",
              "  }\n",
              "\n",
              "  .colab-df-quickchart:hover {\n",
              "    background-color: var(--hover-bg-color);\n",
              "    box-shadow: 0 1px 2px rgba(60, 64, 67, 0.3), 0 1px 3px 1px rgba(60, 64, 67, 0.15);\n",
              "    fill: var(--button-hover-fill-color);\n",
              "  }\n",
              "\n",
              "  .colab-df-quickchart-complete:disabled,\n",
              "  .colab-df-quickchart-complete:disabled:hover {\n",
              "    background-color: var(--disabled-bg-color);\n",
              "    fill: var(--disabled-fill-color);\n",
              "    box-shadow: none;\n",
              "  }\n",
              "\n",
              "  .colab-df-spinner {\n",
              "    border: 2px solid var(--fill-color);\n",
              "    border-color: transparent;\n",
              "    border-bottom-color: var(--fill-color);\n",
              "    animation:\n",
              "      spin 1s steps(1) infinite;\n",
              "  }\n",
              "\n",
              "  @keyframes spin {\n",
              "    0% {\n",
              "      border-color: transparent;\n",
              "      border-bottom-color: var(--fill-color);\n",
              "      border-left-color: var(--fill-color);\n",
              "    }\n",
              "    20% {\n",
              "      border-color: transparent;\n",
              "      border-left-color: var(--fill-color);\n",
              "      border-top-color: var(--fill-color);\n",
              "    }\n",
              "    30% {\n",
              "      border-color: transparent;\n",
              "      border-left-color: var(--fill-color);\n",
              "      border-top-color: var(--fill-color);\n",
              "      border-right-color: var(--fill-color);\n",
              "    }\n",
              "    40% {\n",
              "      border-color: transparent;\n",
              "      border-right-color: var(--fill-color);\n",
              "      border-top-color: var(--fill-color);\n",
              "    }\n",
              "    60% {\n",
              "      border-color: transparent;\n",
              "      border-right-color: var(--fill-color);\n",
              "    }\n",
              "    80% {\n",
              "      border-color: transparent;\n",
              "      border-right-color: var(--fill-color);\n",
              "      border-bottom-color: var(--fill-color);\n",
              "    }\n",
              "    90% {\n",
              "      border-color: transparent;\n",
              "      border-bottom-color: var(--fill-color);\n",
              "    }\n",
              "  }\n",
              "</style>\n",
              "\n",
              "  <script>\n",
              "    async function quickchart(key) {\n",
              "      const quickchartButtonEl =\n",
              "        document.querySelector('#' + key + ' button');\n",
              "      quickchartButtonEl.disabled = true;  // To prevent multiple clicks.\n",
              "      quickchartButtonEl.classList.add('colab-df-spinner');\n",
              "      try {\n",
              "        const charts = await google.colab.kernel.invokeFunction(\n",
              "            'suggestCharts', [key], {});\n",
              "      } catch (error) {\n",
              "        console.error('Error during call to suggestCharts:', error);\n",
              "      }\n",
              "      quickchartButtonEl.classList.remove('colab-df-spinner');\n",
              "      quickchartButtonEl.classList.add('colab-df-quickchart-complete');\n",
              "    }\n",
              "    (() => {\n",
              "      let quickchartButtonEl =\n",
              "        document.querySelector('#df-bc8241e5-1663-4091-8337-ea3aa2430ae7 button');\n",
              "      quickchartButtonEl.style.display =\n",
              "        google.colab.kernel.accessAllowed ? 'block' : 'none';\n",
              "    })();\n",
              "  </script>\n",
              "</div>\n",
              "\n",
              "    </div>\n",
              "  </div>\n"
            ],
            "application/vnd.google.colaboratory.intrinsic+json": {
              "type": "dataframe",
              "summary": "{\n  \"name\": \"df\",\n  \"rows\": 8,\n  \"fields\": [\n    {\n      \"column\": \"Movie_ID\",\n      \"properties\": {\n        \"dtype\": \"number\",\n        \"std\": 1720.2332807214548,\n        \"min\": 1.0,\n        \"max\": 4788.0,\n        \"num_unique_values\": 8,\n        \"samples\": [\n          2382.5663865546217,\n          2380.5,\n          4760.0\n        ],\n        \"semantic_type\": \"\",\n        \"description\": \"\"\n      }\n    },\n    {\n      \"column\": \"Movie_Budget\",\n      \"properties\": {\n        \"dtype\": \"number\",\n        \"std\": 129145160.11869688,\n        \"min\": 0.0,\n        \"max\": 380000000.0,\n        \"num_unique_values\": 8,\n        \"samples\": [\n          29201287.084033612,\n          15000000.0,\n          4760.0\n        ],\n        \"semantic_type\": \"\",\n        \"description\": \"\"\n      }\n    },\n    {\n      \"column\": \"Movie_Popularity\",\n      \"properties\": {\n        \"dtype\": \"number\",\n        \"std\": 1661.1040447605237,\n        \"min\": 0.000372,\n        \"max\": 4760.0,\n        \"num_unique_values\": 8,\n        \"samples\": [\n          21.599509934663867,\n          13.119057999999999,\n          4760.0\n        ],\n        \"semantic_type\": \"\",\n        \"description\": \"\"\n      }\n    },\n    {\n      \"column\": \"Movie_Revenue\",\n      \"properties\": {\n        \"dtype\": \"number\",\n        \"std\": 969366059.9423022,\n        \"min\": 0.0,\n        \"max\": 2787965087.0,\n        \"num_unique_values\": 7,\n        \"samples\": [\n          4760.0,\n          82637425.44285715,\n          93412759.75\n        ],\n        \"semantic_type\": \"\",\n        \"description\": \"\"\n      }\n    },\n    {\n      \"column\": \"Movie_Runtime\",\n      \"properties\": {\n        \"dtype\": \"number\",\n        \"std\": 1645.7876738678387,\n        \"min\": 0.0,\n        \"max\": 4758.0,\n        \"num_unique_values\": 8,\n        \"samples\": [\n          107.18411097099622,\n          104.0,\n          4758.0\n        ],\n        \"semantic_type\": \"\",\n        \"description\": \"\"\n      }\n    },\n    {\n      \"column\": \"Movie_Vote\",\n      \"properties\": {\n        \"dtype\": \"number\",\n        \"std\": 1681.106199712945,\n        \"min\": 0.0,\n        \"max\": 4760.0,\n        \"num_unique_values\": 8,\n        \"samples\": [\n          6.113865546218487,\n          6.2,\n          4760.0\n        ],\n        \"semantic_type\": \"\",\n        \"description\": \"\"\n      }\n    },\n    {\n      \"column\": \"Movie_Vote_Count\",\n      \"properties\": {\n        \"dtype\": \"number\",\n        \"std\": 4732.148341860835,\n        \"min\": 0.0,\n        \"max\": 13752.0,\n        \"num_unique_values\": 8,\n        \"samples\": [\n          692.5084033613446,\n          238.0,\n          4760.0\n        ],\n        \"semantic_type\": \"\",\n        \"description\": \"\"\n      }\n    }\n  ]\n}"
            }
          },
          "metadata": {},
          "execution_count": 5
        }
      ]
    },
    {
      "cell_type": "code",
      "source": [
        "df.columns"
      ],
      "metadata": {
        "colab": {
          "base_uri": "https://localhost:8080/"
        },
        "id": "QVNtBIQ1ASON",
        "outputId": "a15f2133-fda0-4c6e-953b-af0ca4af65da"
      },
      "execution_count": null,
      "outputs": [
        {
          "output_type": "execute_result",
          "data": {
            "text/plain": [
              "Index(['Movie_ID', 'Movie_Title', 'Movie_Genre', 'Movie_Language',\n",
              "       'Movie_Budget', 'Movie_Popularity', 'Movie_Release_Date',\n",
              "       'Movie_Revenue', 'Movie_Runtime', 'Movie_Vote', 'Movie_Vote_Count',\n",
              "       'Movie_Homepage', 'Movie_Keywords', 'Movie_Overview',\n",
              "       'Movie_Production_House', 'Movie_Production_Country',\n",
              "       'Movie_Spoken_Language', 'Movie_Tagline', 'Movie_Cast', 'Movie_Crew',\n",
              "       'Movie_Director'],\n",
              "      dtype='object')"
            ]
          },
          "metadata": {},
          "execution_count": 6
        }
      ]
    },
    {
      "cell_type": "code",
      "source": [
        "df.shape"
      ],
      "metadata": {
        "colab": {
          "base_uri": "https://localhost:8080/"
        },
        "id": "h87OnNWXA-Da",
        "outputId": "e25fd073-6411-4833-8fc1-439a8d7e8789"
      },
      "execution_count": null,
      "outputs": [
        {
          "output_type": "execute_result",
          "data": {
            "text/plain": [
              "(4760, 21)"
            ]
          },
          "metadata": {},
          "execution_count": 7
        }
      ]
    },
    {
      "cell_type": "markdown",
      "source": [
        "## Get Feature Selection"
      ],
      "metadata": {
        "id": "LOQfvJoZCHTO"
      }
    },
    {
      "cell_type": "code",
      "source": [
        "df_features = df[[ 'Movie_Genre', 'Movie_Keywords', 'Movie_Tagline', 'Movie_Cast', 'Movie_Director']].fillna('')"
      ],
      "metadata": {
        "id": "XKkCg6-3BAL1"
      },
      "execution_count": null,
      "outputs": []
    },
    {
      "cell_type": "code",
      "source": [
        "df_features.shape"
      ],
      "metadata": {
        "colab": {
          "base_uri": "https://localhost:8080/"
        },
        "id": "ARyBo5LIC7sQ",
        "outputId": "f5196f5e-041e-4e39-a531-7b2c21f8fad7"
      },
      "execution_count": null,
      "outputs": [
        {
          "output_type": "execute_result",
          "data": {
            "text/plain": [
              "(4760, 5)"
            ]
          },
          "metadata": {},
          "execution_count": 9
        }
      ]
    },
    {
      "cell_type": "code",
      "source": [
        "df_features"
      ],
      "metadata": {
        "colab": {
          "base_uri": "https://localhost:8080/",
          "height": 579
        },
        "id": "J4kgrOVIC-UZ",
        "outputId": "8c94c5aa-4b80-45bc-dd67-39b8b09250c1"
      },
      "execution_count": null,
      "outputs": [
        {
          "output_type": "execute_result",
          "data": {
            "text/plain": [
              "                           Movie_Genre  \\\n",
              "0                         Crime Comedy   \n",
              "1     Adventure Action Science Fiction   \n",
              "2                     Animation Family   \n",
              "3                 Comedy Drama Romance   \n",
              "4                                Drama   \n",
              "...                                ...   \n",
              "4755                            Horror   \n",
              "4756               Comedy Family Drama   \n",
              "4757                    Thriller Drama   \n",
              "4758                            Family   \n",
              "4759                       Documentary   \n",
              "\n",
              "                                         Movie_Keywords  \\\n",
              "0             hotel new year's eve witch bet hotel room   \n",
              "1           android galaxy hermit death star lightsaber   \n",
              "2     father son relationship harbor underwater fish...   \n",
              "3     vietnam veteran hippie mentally disabled runni...   \n",
              "4     male nudity female nudity adultery midlife cri...   \n",
              "...                                                 ...   \n",
              "4755                                                      \n",
              "4756                                                      \n",
              "4757                     christian film sex trafficking   \n",
              "4758                                                      \n",
              "4759  music actors legendary perfomer classic hollyw...   \n",
              "\n",
              "                                          Movie_Tagline  \\\n",
              "0     Twelve outrageous guests. Four scandalous requ...   \n",
              "1          A long time ago in a galaxy far, far away...   \n",
              "2     There are 3.7 trillion fish in the ocean, they...   \n",
              "3     The world will never be the same, once you've ...   \n",
              "4                                          Look closer.   \n",
              "...                                                 ...   \n",
              "4755                The hot spot where Satan's waitin'.   \n",
              "4756           It’s better to stand out than to fit in.   \n",
              "4757           She never knew it could happen to her...   \n",
              "4758                                                      \n",
              "4759                                                      \n",
              "\n",
              "                                             Movie_Cast     Movie_Director  \n",
              "0     Tim Roth Antonio Banderas Jennifer Beals Madon...     Allison Anders  \n",
              "1     Mark Hamill Harrison Ford Carrie Fisher Peter ...       George Lucas  \n",
              "2     Albert Brooks Ellen DeGeneres Alexander Gould ...     Andrew Stanton  \n",
              "3     Tom Hanks Robin Wright Gary Sinise Mykelti Wil...    Robert Zemeckis  \n",
              "4     Kevin Spacey Annette Bening Thora Birch Wes Be...         Sam Mendes  \n",
              "...                                                 ...                ...  \n",
              "4755  Lisa Hart Carroll Michael Des Barres Paul Drak...         Pece Dingo  \n",
              "4756  Roni Akurati Brighton Sharbino Jason Lee Anjul...       Frank Lotito  \n",
              "4757  Nicole Smolen Kim Baldwin Ariana Stephens Brys...       Jaco Booyens  \n",
              "4758                                                                        \n",
              "4759                                    Tony Oppedisano  Simon Napier-Bell  \n",
              "\n",
              "[4760 rows x 5 columns]"
            ],
            "text/html": [
              "\n",
              "  <div id=\"df-9b1842ca-f7b6-4844-9701-2046f0476392\" class=\"colab-df-container\">\n",
              "    <div>\n",
              "<style scoped>\n",
              "    .dataframe tbody tr th:only-of-type {\n",
              "        vertical-align: middle;\n",
              "    }\n",
              "\n",
              "    .dataframe tbody tr th {\n",
              "        vertical-align: top;\n",
              "    }\n",
              "\n",
              "    .dataframe thead th {\n",
              "        text-align: right;\n",
              "    }\n",
              "</style>\n",
              "<table border=\"1\" class=\"dataframe\">\n",
              "  <thead>\n",
              "    <tr style=\"text-align: right;\">\n",
              "      <th></th>\n",
              "      <th>Movie_Genre</th>\n",
              "      <th>Movie_Keywords</th>\n",
              "      <th>Movie_Tagline</th>\n",
              "      <th>Movie_Cast</th>\n",
              "      <th>Movie_Director</th>\n",
              "    </tr>\n",
              "  </thead>\n",
              "  <tbody>\n",
              "    <tr>\n",
              "      <th>0</th>\n",
              "      <td>Crime Comedy</td>\n",
              "      <td>hotel new year's eve witch bet hotel room</td>\n",
              "      <td>Twelve outrageous guests. Four scandalous requ...</td>\n",
              "      <td>Tim Roth Antonio Banderas Jennifer Beals Madon...</td>\n",
              "      <td>Allison Anders</td>\n",
              "    </tr>\n",
              "    <tr>\n",
              "      <th>1</th>\n",
              "      <td>Adventure Action Science Fiction</td>\n",
              "      <td>android galaxy hermit death star lightsaber</td>\n",
              "      <td>A long time ago in a galaxy far, far away...</td>\n",
              "      <td>Mark Hamill Harrison Ford Carrie Fisher Peter ...</td>\n",
              "      <td>George Lucas</td>\n",
              "    </tr>\n",
              "    <tr>\n",
              "      <th>2</th>\n",
              "      <td>Animation Family</td>\n",
              "      <td>father son relationship harbor underwater fish...</td>\n",
              "      <td>There are 3.7 trillion fish in the ocean, they...</td>\n",
              "      <td>Albert Brooks Ellen DeGeneres Alexander Gould ...</td>\n",
              "      <td>Andrew Stanton</td>\n",
              "    </tr>\n",
              "    <tr>\n",
              "      <th>3</th>\n",
              "      <td>Comedy Drama Romance</td>\n",
              "      <td>vietnam veteran hippie mentally disabled runni...</td>\n",
              "      <td>The world will never be the same, once you've ...</td>\n",
              "      <td>Tom Hanks Robin Wright Gary Sinise Mykelti Wil...</td>\n",
              "      <td>Robert Zemeckis</td>\n",
              "    </tr>\n",
              "    <tr>\n",
              "      <th>4</th>\n",
              "      <td>Drama</td>\n",
              "      <td>male nudity female nudity adultery midlife cri...</td>\n",
              "      <td>Look closer.</td>\n",
              "      <td>Kevin Spacey Annette Bening Thora Birch Wes Be...</td>\n",
              "      <td>Sam Mendes</td>\n",
              "    </tr>\n",
              "    <tr>\n",
              "      <th>...</th>\n",
              "      <td>...</td>\n",
              "      <td>...</td>\n",
              "      <td>...</td>\n",
              "      <td>...</td>\n",
              "      <td>...</td>\n",
              "    </tr>\n",
              "    <tr>\n",
              "      <th>4755</th>\n",
              "      <td>Horror</td>\n",
              "      <td></td>\n",
              "      <td>The hot spot where Satan's waitin'.</td>\n",
              "      <td>Lisa Hart Carroll Michael Des Barres Paul Drak...</td>\n",
              "      <td>Pece Dingo</td>\n",
              "    </tr>\n",
              "    <tr>\n",
              "      <th>4756</th>\n",
              "      <td>Comedy Family Drama</td>\n",
              "      <td></td>\n",
              "      <td>It’s better to stand out than to fit in.</td>\n",
              "      <td>Roni Akurati Brighton Sharbino Jason Lee Anjul...</td>\n",
              "      <td>Frank Lotito</td>\n",
              "    </tr>\n",
              "    <tr>\n",
              "      <th>4757</th>\n",
              "      <td>Thriller Drama</td>\n",
              "      <td>christian film sex trafficking</td>\n",
              "      <td>She never knew it could happen to her...</td>\n",
              "      <td>Nicole Smolen Kim Baldwin Ariana Stephens Brys...</td>\n",
              "      <td>Jaco Booyens</td>\n",
              "    </tr>\n",
              "    <tr>\n",
              "      <th>4758</th>\n",
              "      <td>Family</td>\n",
              "      <td></td>\n",
              "      <td></td>\n",
              "      <td></td>\n",
              "      <td></td>\n",
              "    </tr>\n",
              "    <tr>\n",
              "      <th>4759</th>\n",
              "      <td>Documentary</td>\n",
              "      <td>music actors legendary perfomer classic hollyw...</td>\n",
              "      <td></td>\n",
              "      <td>Tony Oppedisano</td>\n",
              "      <td>Simon Napier-Bell</td>\n",
              "    </tr>\n",
              "  </tbody>\n",
              "</table>\n",
              "<p>4760 rows × 5 columns</p>\n",
              "</div>\n",
              "    <div class=\"colab-df-buttons\">\n",
              "\n",
              "  <div class=\"colab-df-container\">\n",
              "    <button class=\"colab-df-convert\" onclick=\"convertToInteractive('df-9b1842ca-f7b6-4844-9701-2046f0476392')\"\n",
              "            title=\"Convert this dataframe to an interactive table.\"\n",
              "            style=\"display:none;\">\n",
              "\n",
              "  <svg xmlns=\"http://www.w3.org/2000/svg\" height=\"24px\" viewBox=\"0 -960 960 960\">\n",
              "    <path d=\"M120-120v-720h720v720H120Zm60-500h600v-160H180v160Zm220 220h160v-160H400v160Zm0 220h160v-160H400v160ZM180-400h160v-160H180v160Zm440 0h160v-160H620v160ZM180-180h160v-160H180v160Zm440 0h160v-160H620v160Z\"/>\n",
              "  </svg>\n",
              "    </button>\n",
              "\n",
              "  <style>\n",
              "    .colab-df-container {\n",
              "      display:flex;\n",
              "      gap: 12px;\n",
              "    }\n",
              "\n",
              "    .colab-df-convert {\n",
              "      background-color: #E8F0FE;\n",
              "      border: none;\n",
              "      border-radius: 50%;\n",
              "      cursor: pointer;\n",
              "      display: none;\n",
              "      fill: #1967D2;\n",
              "      height: 32px;\n",
              "      padding: 0 0 0 0;\n",
              "      width: 32px;\n",
              "    }\n",
              "\n",
              "    .colab-df-convert:hover {\n",
              "      background-color: #E2EBFA;\n",
              "      box-shadow: 0px 1px 2px rgba(60, 64, 67, 0.3), 0px 1px 3px 1px rgba(60, 64, 67, 0.15);\n",
              "      fill: #174EA6;\n",
              "    }\n",
              "\n",
              "    .colab-df-buttons div {\n",
              "      margin-bottom: 4px;\n",
              "    }\n",
              "\n",
              "    [theme=dark] .colab-df-convert {\n",
              "      background-color: #3B4455;\n",
              "      fill: #D2E3FC;\n",
              "    }\n",
              "\n",
              "    [theme=dark] .colab-df-convert:hover {\n",
              "      background-color: #434B5C;\n",
              "      box-shadow: 0px 1px 3px 1px rgba(0, 0, 0, 0.15);\n",
              "      filter: drop-shadow(0px 1px 2px rgba(0, 0, 0, 0.3));\n",
              "      fill: #FFFFFF;\n",
              "    }\n",
              "  </style>\n",
              "\n",
              "    <script>\n",
              "      const buttonEl =\n",
              "        document.querySelector('#df-9b1842ca-f7b6-4844-9701-2046f0476392 button.colab-df-convert');\n",
              "      buttonEl.style.display =\n",
              "        google.colab.kernel.accessAllowed ? 'block' : 'none';\n",
              "\n",
              "      async function convertToInteractive(key) {\n",
              "        const element = document.querySelector('#df-9b1842ca-f7b6-4844-9701-2046f0476392');\n",
              "        const dataTable =\n",
              "          await google.colab.kernel.invokeFunction('convertToInteractive',\n",
              "                                                    [key], {});\n",
              "        if (!dataTable) return;\n",
              "\n",
              "        const docLinkHtml = 'Like what you see? Visit the ' +\n",
              "          '<a target=\"_blank\" href=https://colab.research.google.com/notebooks/data_table.ipynb>data table notebook</a>'\n",
              "          + ' to learn more about interactive tables.';\n",
              "        element.innerHTML = '';\n",
              "        dataTable['output_type'] = 'display_data';\n",
              "        await google.colab.output.renderOutput(dataTable, element);\n",
              "        const docLink = document.createElement('div');\n",
              "        docLink.innerHTML = docLinkHtml;\n",
              "        element.appendChild(docLink);\n",
              "      }\n",
              "    </script>\n",
              "  </div>\n",
              "\n",
              "\n",
              "<div id=\"df-d504d937-7e5a-41a3-b6b7-e263f786394a\">\n",
              "  <button class=\"colab-df-quickchart\" onclick=\"quickchart('df-d504d937-7e5a-41a3-b6b7-e263f786394a')\"\n",
              "            title=\"Suggest charts\"\n",
              "            style=\"display:none;\">\n",
              "\n",
              "<svg xmlns=\"http://www.w3.org/2000/svg\" height=\"24px\"viewBox=\"0 0 24 24\"\n",
              "     width=\"24px\">\n",
              "    <g>\n",
              "        <path d=\"M19 3H5c-1.1 0-2 .9-2 2v14c0 1.1.9 2 2 2h14c1.1 0 2-.9 2-2V5c0-1.1-.9-2-2-2zM9 17H7v-7h2v7zm4 0h-2V7h2v10zm4 0h-2v-4h2v4z\"/>\n",
              "    </g>\n",
              "</svg>\n",
              "  </button>\n",
              "\n",
              "<style>\n",
              "  .colab-df-quickchart {\n",
              "      --bg-color: #E8F0FE;\n",
              "      --fill-color: #1967D2;\n",
              "      --hover-bg-color: #E2EBFA;\n",
              "      --hover-fill-color: #174EA6;\n",
              "      --disabled-fill-color: #AAA;\n",
              "      --disabled-bg-color: #DDD;\n",
              "  }\n",
              "\n",
              "  [theme=dark] .colab-df-quickchart {\n",
              "      --bg-color: #3B4455;\n",
              "      --fill-color: #D2E3FC;\n",
              "      --hover-bg-color: #434B5C;\n",
              "      --hover-fill-color: #FFFFFF;\n",
              "      --disabled-bg-color: #3B4455;\n",
              "      --disabled-fill-color: #666;\n",
              "  }\n",
              "\n",
              "  .colab-df-quickchart {\n",
              "    background-color: var(--bg-color);\n",
              "    border: none;\n",
              "    border-radius: 50%;\n",
              "    cursor: pointer;\n",
              "    display: none;\n",
              "    fill: var(--fill-color);\n",
              "    height: 32px;\n",
              "    padding: 0;\n",
              "    width: 32px;\n",
              "  }\n",
              "\n",
              "  .colab-df-quickchart:hover {\n",
              "    background-color: var(--hover-bg-color);\n",
              "    box-shadow: 0 1px 2px rgba(60, 64, 67, 0.3), 0 1px 3px 1px rgba(60, 64, 67, 0.15);\n",
              "    fill: var(--button-hover-fill-color);\n",
              "  }\n",
              "\n",
              "  .colab-df-quickchart-complete:disabled,\n",
              "  .colab-df-quickchart-complete:disabled:hover {\n",
              "    background-color: var(--disabled-bg-color);\n",
              "    fill: var(--disabled-fill-color);\n",
              "    box-shadow: none;\n",
              "  }\n",
              "\n",
              "  .colab-df-spinner {\n",
              "    border: 2px solid var(--fill-color);\n",
              "    border-color: transparent;\n",
              "    border-bottom-color: var(--fill-color);\n",
              "    animation:\n",
              "      spin 1s steps(1) infinite;\n",
              "  }\n",
              "\n",
              "  @keyframes spin {\n",
              "    0% {\n",
              "      border-color: transparent;\n",
              "      border-bottom-color: var(--fill-color);\n",
              "      border-left-color: var(--fill-color);\n",
              "    }\n",
              "    20% {\n",
              "      border-color: transparent;\n",
              "      border-left-color: var(--fill-color);\n",
              "      border-top-color: var(--fill-color);\n",
              "    }\n",
              "    30% {\n",
              "      border-color: transparent;\n",
              "      border-left-color: var(--fill-color);\n",
              "      border-top-color: var(--fill-color);\n",
              "      border-right-color: var(--fill-color);\n",
              "    }\n",
              "    40% {\n",
              "      border-color: transparent;\n",
              "      border-right-color: var(--fill-color);\n",
              "      border-top-color: var(--fill-color);\n",
              "    }\n",
              "    60% {\n",
              "      border-color: transparent;\n",
              "      border-right-color: var(--fill-color);\n",
              "    }\n",
              "    80% {\n",
              "      border-color: transparent;\n",
              "      border-right-color: var(--fill-color);\n",
              "      border-bottom-color: var(--fill-color);\n",
              "    }\n",
              "    90% {\n",
              "      border-color: transparent;\n",
              "      border-bottom-color: var(--fill-color);\n",
              "    }\n",
              "  }\n",
              "</style>\n",
              "\n",
              "  <script>\n",
              "    async function quickchart(key) {\n",
              "      const quickchartButtonEl =\n",
              "        document.querySelector('#' + key + ' button');\n",
              "      quickchartButtonEl.disabled = true;  // To prevent multiple clicks.\n",
              "      quickchartButtonEl.classList.add('colab-df-spinner');\n",
              "      try {\n",
              "        const charts = await google.colab.kernel.invokeFunction(\n",
              "            'suggestCharts', [key], {});\n",
              "      } catch (error) {\n",
              "        console.error('Error during call to suggestCharts:', error);\n",
              "      }\n",
              "      quickchartButtonEl.classList.remove('colab-df-spinner');\n",
              "      quickchartButtonEl.classList.add('colab-df-quickchart-complete');\n",
              "    }\n",
              "    (() => {\n",
              "      let quickchartButtonEl =\n",
              "        document.querySelector('#df-d504d937-7e5a-41a3-b6b7-e263f786394a button');\n",
              "      quickchartButtonEl.style.display =\n",
              "        google.colab.kernel.accessAllowed ? 'block' : 'none';\n",
              "    })();\n",
              "  </script>\n",
              "</div>\n",
              "\n",
              "  <div id=\"id_18dfbe78-2d4c-4c6b-8328-93bfcd3887e4\">\n",
              "    <style>\n",
              "      .colab-df-generate {\n",
              "        background-color: #E8F0FE;\n",
              "        border: none;\n",
              "        border-radius: 50%;\n",
              "        cursor: pointer;\n",
              "        display: none;\n",
              "        fill: #1967D2;\n",
              "        height: 32px;\n",
              "        padding: 0 0 0 0;\n",
              "        width: 32px;\n",
              "      }\n",
              "\n",
              "      .colab-df-generate:hover {\n",
              "        background-color: #E2EBFA;\n",
              "        box-shadow: 0px 1px 2px rgba(60, 64, 67, 0.3), 0px 1px 3px 1px rgba(60, 64, 67, 0.15);\n",
              "        fill: #174EA6;\n",
              "      }\n",
              "\n",
              "      [theme=dark] .colab-df-generate {\n",
              "        background-color: #3B4455;\n",
              "        fill: #D2E3FC;\n",
              "      }\n",
              "\n",
              "      [theme=dark] .colab-df-generate:hover {\n",
              "        background-color: #434B5C;\n",
              "        box-shadow: 0px 1px 3px 1px rgba(0, 0, 0, 0.15);\n",
              "        filter: drop-shadow(0px 1px 2px rgba(0, 0, 0, 0.3));\n",
              "        fill: #FFFFFF;\n",
              "      }\n",
              "    </style>\n",
              "    <button class=\"colab-df-generate\" onclick=\"generateWithVariable('df_features')\"\n",
              "            title=\"Generate code using this dataframe.\"\n",
              "            style=\"display:none;\">\n",
              "\n",
              "  <svg xmlns=\"http://www.w3.org/2000/svg\" height=\"24px\"viewBox=\"0 0 24 24\"\n",
              "       width=\"24px\">\n",
              "    <path d=\"M7,19H8.4L18.45,9,17,7.55,7,17.6ZM5,21V16.75L18.45,3.32a2,2,0,0,1,2.83,0l1.4,1.43a1.91,1.91,0,0,1,.58,1.4,1.91,1.91,0,0,1-.58,1.4L9.25,21ZM18.45,9,17,7.55Zm-12,3A5.31,5.31,0,0,0,4.9,8.1,5.31,5.31,0,0,0,1,6.5,5.31,5.31,0,0,0,4.9,4.9,5.31,5.31,0,0,0,6.5,1,5.31,5.31,0,0,0,8.1,4.9,5.31,5.31,0,0,0,12,6.5,5.46,5.46,0,0,0,6.5,12Z\"/>\n",
              "  </svg>\n",
              "    </button>\n",
              "    <script>\n",
              "      (() => {\n",
              "      const buttonEl =\n",
              "        document.querySelector('#id_18dfbe78-2d4c-4c6b-8328-93bfcd3887e4 button.colab-df-generate');\n",
              "      buttonEl.style.display =\n",
              "        google.colab.kernel.accessAllowed ? 'block' : 'none';\n",
              "\n",
              "      buttonEl.onclick = () => {\n",
              "        google.colab.notebook.generateWithVariable('df_features');\n",
              "      }\n",
              "      })();\n",
              "    </script>\n",
              "  </div>\n",
              "\n",
              "    </div>\n",
              "  </div>\n"
            ],
            "application/vnd.google.colaboratory.intrinsic+json": {
              "type": "dataframe",
              "variable_name": "df_features",
              "summary": "{\n  \"name\": \"df_features\",\n  \"rows\": 4760,\n  \"fields\": [\n    {\n      \"column\": \"Movie_Genre\",\n      \"properties\": {\n        \"dtype\": \"category\",\n        \"num_unique_values\": 1164,\n        \"samples\": [\n          \"Family Animation Adventure\",\n          \"Adventure Science Fiction Action\",\n          \"Action Crime Drama Romance Thriller\"\n        ],\n        \"semantic_type\": \"\",\n        \"description\": \"\"\n      }\n    },\n    {\n      \"column\": \"Movie_Keywords\",\n      \"properties\": {\n        \"dtype\": \"string\",\n        \"num_unique_values\": 4203,\n        \"samples\": [\n          \"canada nazis sequel spin off ancient evil\",\n          \"sex professor wedding woman director columbia university\",\n          \"prophecy sea beach gold small town\"\n        ],\n        \"semantic_type\": \"\",\n        \"description\": \"\"\n      }\n    },\n    {\n      \"column\": \"Movie_Tagline\",\n      \"properties\": {\n        \"dtype\": \"string\",\n        \"num_unique_values\": 3928,\n        \"samples\": [\n          \"The messenger must be silenced.\",\n          \"It's not the house that's haunted.\",\n          \"The final hunt begins.\"\n        ],\n        \"semantic_type\": \"\",\n        \"description\": \"\"\n      }\n    },\n    {\n      \"column\": \"Movie_Cast\",\n      \"properties\": {\n        \"dtype\": \"string\",\n        \"num_unique_values\": 4715,\n        \"samples\": [\n          \"Robin Tunney Fairuza Balk Neve Campbell Rachel True Skeet Ulrich\",\n          \"Peter Sellers Christopher Plummer Herbert Lom Catherine Schell Peter Arne\",\n          \"John Wayne Laraine Day Cedric Hardwicke Judith Anderson Anthony Quinn\"\n        ],\n        \"semantic_type\": \"\",\n        \"description\": \"\"\n      }\n    },\n    {\n      \"column\": \"Movie_Director\",\n      \"properties\": {\n        \"dtype\": \"category\",\n        \"num_unique_values\": 2332,\n        \"samples\": [\n          \"Rob McKittrick\",\n          \"Terron R. Parsons\",\n          \"Cyrus Nowrasteh\"\n        ],\n        \"semantic_type\": \"\",\n        \"description\": \"\"\n      }\n    }\n  ]\n}"
            }
          },
          "metadata": {},
          "execution_count": 10
        }
      ]
    },
    {
      "cell_type": "code",
      "source": [
        "x = df_features['Movie_Genre'] + '' + df_features['Movie_Keywords'] + '' + df_features['Movie_Tagline'] +''+ df_features['Movie_Cast']+ ''+ df_features['Movie_Director']"
      ],
      "metadata": {
        "id": "ijziFWZJDBTE"
      },
      "execution_count": null,
      "outputs": []
    },
    {
      "cell_type": "code",
      "source": [
        "x"
      ],
      "metadata": {
        "colab": {
          "base_uri": "https://localhost:8080/"
        },
        "id": "9PPEZy2eDwle",
        "outputId": "231716b4-4d09-4801-d0cd-042231c3e9f5"
      },
      "execution_count": null,
      "outputs": [
        {
          "output_type": "execute_result",
          "data": {
            "text/plain": [
              "0       Crime Comedyhotel new year's eve witch bet hot...\n",
              "1       Adventure Action Science Fictionandroid galaxy...\n",
              "2       Animation Familyfather son relationship harbor...\n",
              "3       Comedy Drama Romancevietnam veteran hippie men...\n",
              "4       Dramamale nudity female nudity adultery midlif...\n",
              "                              ...                        \n",
              "4755    HorrorThe hot spot where Satan's waitin'.Lisa ...\n",
              "4756    Comedy Family DramaIt’s better to stand out th...\n",
              "4757    Thriller Dramachristian film sex traffickingSh...\n",
              "4758                                               Family\n",
              "4759    Documentarymusic actors legendary perfomer cla...\n",
              "Length: 4760, dtype: object"
            ]
          },
          "metadata": {},
          "execution_count": 17
        }
      ]
    },
    {
      "cell_type": "code",
      "source": [
        "x.shape"
      ],
      "metadata": {
        "colab": {
          "base_uri": "https://localhost:8080/"
        },
        "id": "NxaBqd1SDHVe",
        "outputId": "1ac8a5ad-7b63-4431-c321-38ae5dd2c45c"
      },
      "execution_count": null,
      "outputs": [
        {
          "output_type": "execute_result",
          "data": {
            "text/plain": [
              "(4760,)"
            ]
          },
          "metadata": {},
          "execution_count": 16
        }
      ]
    },
    {
      "cell_type": "markdown",
      "source": [
        "## Get Feature Text Conversion to Tokens\n"
      ],
      "metadata": {
        "id": "MUKaufMAD8RC"
      }
    },
    {
      "cell_type": "code",
      "source": [
        "from sklearn.feature_extraction.text import TfidfVectorizer"
      ],
      "metadata": {
        "id": "xny4owX8DJdo"
      },
      "execution_count": null,
      "outputs": []
    },
    {
      "cell_type": "code",
      "source": [
        "tfidf = TfidfVectorizer()"
      ],
      "metadata": {
        "id": "OtuEn8nuD3c6"
      },
      "execution_count": null,
      "outputs": []
    },
    {
      "cell_type": "code",
      "source": [
        "x = tfidf.fit_transform(x)"
      ],
      "metadata": {
        "id": "KV4ZsUvzEGNy"
      },
      "execution_count": null,
      "outputs": []
    },
    {
      "cell_type": "code",
      "source": [
        "x.shape"
      ],
      "metadata": {
        "colab": {
          "base_uri": "https://localhost:8080/"
        },
        "id": "TzrGSyuhELqT",
        "outputId": "45cae0ab-5c19-46fc-cd28-7098b8196009"
      },
      "execution_count": null,
      "outputs": [
        {
          "output_type": "execute_result",
          "data": {
            "text/plain": [
              "(4760, 27466)"
            ]
          },
          "metadata": {},
          "execution_count": 22
        }
      ]
    },
    {
      "cell_type": "code",
      "source": [
        "print(x)"
      ],
      "metadata": {
        "colab": {
          "base_uri": "https://localhost:8080/"
        },
        "id": "D1tbINLYEOu4",
        "outputId": "45267379-352b-4593-d46b-e3ed834a9b1e"
      },
      "execution_count": null,
      "outputs": [
        {
          "output_type": "stream",
          "name": "stdout",
          "text": [
            "  (0, 1028)\t0.16196019146631543\n",
            "  (0, 24785)\t0.1954632929283795\n",
            "  (0, 15844)\t0.14205053053187272\n",
            "  (0, 15553)\t0.17099186675469502\n",
            "  (0, 2132)\t0.18002354204307464\n",
            "  (0, 13312)\t0.09914387783149516\n",
            "  (0, 1887)\t0.14106037409792174\n",
            "  (0, 1216)\t0.13920306109638164\n",
            "  (0, 21158)\t0.14205053053187272\n",
            "  (0, 24701)\t0.11357423942624927\n",
            "  (0, 14943)\t0.091376722056839\n",
            "  (0, 18098)\t0.06200430666985742\n",
            "  (0, 26738)\t0.175053052455033\n",
            "  (0, 9790)\t0.08712552095655665\n",
            "  (0, 26675)\t0.1116831168780693\n",
            "  (0, 13401)\t0.13748876529263096\n",
            "  (0, 24105)\t0.10726395493180996\n",
            "  (0, 18192)\t0.07278761942152372\n",
            "  (0, 6172)\t0.11970212451073885\n",
            "  (0, 9626)\t0.11757910435818826\n",
            "  (0, 11960)\t0.20134029899961134\n",
            "  (0, 12801)\t0.1530338818199682\n",
            "  (0, 2292)\t0.1954632929283795\n",
            "  (0, 15172)\t0.1537691763994982\n",
            "  (0, 18196)\t0.08579029869987485\n",
            "  :\t:\n",
            "  (4757, 1839)\t0.19327629083107672\n",
            "  (4757, 5410)\t0.19734759150400596\n",
            "  (4757, 11350)\t0.21582294886514122\n",
            "  (4757, 22017)\t0.1646400247918531\n",
            "  (4757, 17789)\t0.18881341937258544\n",
            "  (4757, 9484)\t0.1411164779725638\n",
            "  (4757, 14176)\t0.2330831990045816\n",
            "  (4757, 11762)\t0.17321388936472645\n",
            "  (4757, 14052)\t0.1776312353410007\n",
            "  (4757, 24232)\t0.10947784435203887\n",
            "  (4757, 24746)\t0.09744940789814222\n",
            "  (4757, 13079)\t0.12400374714145113\n",
            "  (4757, 17721)\t0.1489085353667712\n",
            "  (4758, 8651)\t1.0\n",
            "  (4759, 18229)\t0.33527342183765224\n",
            "  (4759, 22434)\t0.33527342183765224\n",
            "  (4759, 18841)\t0.33527342183765224\n",
            "  (4759, 6950)\t0.33527342183765224\n",
            "  (4759, 345)\t0.31978160936741457\n",
            "  (4759, 14742)\t0.31978160936741457\n",
            "  (4759, 12139)\t0.2778063685558062\n",
            "  (4759, 4446)\t0.282306565154911\n",
            "  (4759, 17552)\t0.3087899934962816\n",
            "  (4759, 9955)\t0.21805075638656476\n",
            "  (4759, 2285)\t0.21465229435984196\n"
          ]
        }
      ]
    },
    {
      "cell_type": "markdown",
      "source": [
        "## Get Similarity Score using Cosine Similarity\n",
        "\n",
        "cosine_similarity computes the L2-normalized dot product of vectors. Euclidean (L2) normalization projects the vectors onto the unit sphere, and their dot product is then the cosine of the angle between the points denoted by the vectors."
      ],
      "metadata": {
        "id": "v5ULfJTLEafV"
      }
    },
    {
      "cell_type": "code",
      "source": [
        "from sklearn.metrics.pairwise import cosine_similarity"
      ],
      "metadata": {
        "id": "289ojbmrEQwN"
      },
      "execution_count": null,
      "outputs": []
    },
    {
      "cell_type": "code",
      "source": [
        "Similarity_Score = cosine_similarity(x)"
      ],
      "metadata": {
        "id": "1Um_Oc_mEsIY"
      },
      "execution_count": null,
      "outputs": []
    },
    {
      "cell_type": "code",
      "source": [
        "Similarity_Score"
      ],
      "metadata": {
        "colab": {
          "base_uri": "https://localhost:8080/"
        },
        "id": "TzSTYTmHEuVb",
        "outputId": "2b23d9ab-4fe5-400e-ddec-4664b7f1102e"
      },
      "execution_count": null,
      "outputs": [
        {
          "output_type": "execute_result",
          "data": {
            "text/plain": [
              "array([[1.        , 0.01438634, 0.03807033, ..., 0.        , 0.        ,\n",
              "        0.        ],\n",
              "       [0.01438634, 1.        , 0.00844858, ..., 0.        , 0.        ,\n",
              "        0.        ],\n",
              "       [0.03807033, 0.00844858, 1.        , ..., 0.        , 0.        ,\n",
              "        0.        ],\n",
              "       ...,\n",
              "       [0.        , 0.        , 0.        , ..., 1.        , 0.        ,\n",
              "        0.        ],\n",
              "       [0.        , 0.        , 0.        , ..., 0.        , 1.        ,\n",
              "        0.        ],\n",
              "       [0.        , 0.        , 0.        , ..., 0.        , 0.        ,\n",
              "        1.        ]])"
            ]
          },
          "metadata": {},
          "execution_count": 26
        }
      ]
    },
    {
      "cell_type": "code",
      "source": [
        "Similarity_Score.shape"
      ],
      "metadata": {
        "colab": {
          "base_uri": "https://localhost:8080/"
        },
        "id": "afu1XrOsEwUI",
        "outputId": "96ca2f71-88ea-4c97-fd78-17da231decf9"
      },
      "execution_count": null,
      "outputs": [
        {
          "output_type": "execute_result",
          "data": {
            "text/plain": [
              "(4760, 4760)"
            ]
          },
          "metadata": {},
          "execution_count": 27
        }
      ]
    },
    {
      "cell_type": "markdown",
      "source": [
        "## Get Movie Name as Input from User and Validate for Closest Spelling"
      ],
      "metadata": {
        "id": "rxCwvZp4E6ft"
      }
    },
    {
      "cell_type": "code",
      "source": [
        "Favourite_Movie_Name = input(' Enter your favourite movie name :')"
      ],
      "metadata": {
        "colab": {
          "base_uri": "https://localhost:8080/"
        },
        "id": "jhOGIkBNEzOw",
        "outputId": "4575fb2b-ef2c-4e39-ee9e-e25b8c9eaf2f"
      },
      "execution_count": null,
      "outputs": [
        {
          "name": "stdout",
          "output_type": "stream",
          "text": [
            " Enter your favourite movie name :Frozen\n"
          ]
        }
      ]
    },
    {
      "cell_type": "code",
      "source": [
        "All_Movies_Title_List = df['Movie_Title'].tolist()"
      ],
      "metadata": {
        "id": "Xp7_sb_yFCG1"
      },
      "execution_count": null,
      "outputs": []
    },
    {
      "cell_type": "code",
      "source": [
        "import difflib"
      ],
      "metadata": {
        "id": "nSjz-s1HFHCi"
      },
      "execution_count": null,
      "outputs": []
    },
    {
      "cell_type": "code",
      "source": [
        "Movie_Recommendation = difflib.get_close_matches (Favourite_Movie_Name, All_Movies_Title_List)\n",
        "print(Movie_Recommendation)"
      ],
      "metadata": {
        "colab": {
          "base_uri": "https://localhost:8080/"
        },
        "id": "1JauQtHPFJR-",
        "outputId": "62b63eab-4fb0-4502-a881-711248ad427d"
      },
      "execution_count": null,
      "outputs": [
        {
          "output_type": "stream",
          "name": "stdout",
          "text": [
            "['Frozen', 'The Frozen', 'Frozen River']\n"
          ]
        }
      ]
    },
    {
      "cell_type": "code",
      "source": [
        "Close_Match = Movie_Recommendation[0]\n",
        "print (Close_Match)"
      ],
      "metadata": {
        "colab": {
          "base_uri": "https://localhost:8080/"
        },
        "id": "ZGni9pjmFLPl",
        "outputId": "2b2ef716-56b6-4728-fdb6-b3b01b1556d7"
      },
      "execution_count": null,
      "outputs": [
        {
          "output_type": "stream",
          "name": "stdout",
          "text": [
            "Frozen\n"
          ]
        }
      ]
    },
    {
      "cell_type": "code",
      "source": [
        "Index_of_Close_Match_Movie = df [df.Movie_Title == Close_Match]['Movie_ID'].values[0]\n",
        "print(Index_of_Close_Match_Movie)"
      ],
      "metadata": {
        "colab": {
          "base_uri": "https://localhost:8080/"
        },
        "id": "M3kHf9nLFOO8",
        "outputId": "bd47971f-877f-4358-ab3e-e73a73f1b24c"
      },
      "execution_count": null,
      "outputs": [
        {
          "output_type": "stream",
          "name": "stdout",
          "text": [
            "4012\n"
          ]
        }
      ]
    },
    {
      "cell_type": "code",
      "source": [
        "\n",
        "# getting a list of similar movies\n",
        "\n",
        "Recommendation_Score = list(enumerate(Similarity_Score[Index_of_Close_Match_Movie]))\n",
        "print (Recommendation_Score)"
      ],
      "metadata": {
        "colab": {
          "base_uri": "https://localhost:8080/"
        },
        "id": "ixHstB6uFQ5A",
        "outputId": "245527cf-63fe-4104-80a0-1ff1fd266469"
      },
      "execution_count": null,
      "outputs": [
        {
          "output_type": "stream",
          "name": "stdout",
          "text": [
            "[(0, 0.007706198027733486), (1, 0.005170954191709174), (2, 0.004525573159166617), (3, 0.048108411300790445), (4, 0.0), (5, 0.0), (6, 0.006300114350355267), (7, 0.011876655174185447), (8, 0.0), (9, 0.004953287855981962), (10, 0.011838908315820757), (11, 0.005466602847907943), (12, 0.005789443092428869), (13, 0.03360773498938506), (14, 0.014047728424318194), (15, 0.0), (16, 0.0), (17, 0.0), (18, 0.004912842643735146), (19, 0.0), (20, 0.01145115895695998), (21, 0.0), (22, 0.009823236396482395), (23, 0.0), (24, 0.0), (25, 0.0368040524205002), (26, 0.0), (27, 0.016830739845238724), (28, 0.015512050753110594), (29, 0.0050987141543528776), (30, 0.0), (31, 0.0), (32, 0.005325888136797585), (33, 0.022426582091788175), (34, 0.011636290949259238), (35, 0.014650988858558483), (36, 0.0), (37, 0.009534903660631961), (38, 0.01747950040620458), (39, 0.010729679476708512), (40, 0.017665633232676968), (41, 0.006193812508161931), (42, 0.009947630255013383), (43, 0.0), (44, 0.02176141470911635), (45, 0.02468700391760775), (46, 0.03516017029035358), (47, 0.0), (48, 0.0063354911393915725), (49, 0.0), (50, 0.009756343709784286), (51, 0.0), (52, 0.0), (53, 0.009349657399509178), (54, 0.0), (55, 0.0), (56, 0.005345607271436081), (57, 0.008886748784404697), (58, 0.0), (59, 0.005718914765256101), (60, 0.004564820981000866), (61, 0.01832101153044436), (62, 0.0), (63, 0.02095134566132829), (64, 0.004607625950330776), (65, 0.0), (66, 0.0), (67, 0.019471373622198744), (68, 0.017809423777252906), (69, 0.006509816054469776), (70, 0.0), (71, 0.011221248733542976), (72, 0.005112640213232324), (73, 0.019601990165250452), (74, 0.011159698277516368), (75, 0.013952549603420263), (76, 0.004905613045237122), (77, 0.0), (78, 0.009334041535531124), (79, 0.0), (80, 0.00513964340365637), (81, 0.010989303554783334), (82, 0.024911418551687), (83, 0.0), (84, 0.02136719843598005), (85, 0.0), (86, 0.02257542273284056), (87, 0.0), (88, 0.009134484005704081), (89, 0.0), (90, 0.0167507930125404), (91, 0.022931825006463562), (92, 0.005354691692987515), (93, 0.016876342290910135), (94, 0.01549549468166244), (95, 0.017146288118394425), (96, 0.04660269042059928), (97, 0.03061483310294706), (98, 0.0), (99, 0.025346066823940718), (100, 0.031128803818328554), (101, 0.005567629146323139), (102, 0.05850617561585335), (103, 0.009087052812223866), (104, 0.0), (105, 0.0052090175618352596), (106, 0.004147201892775777), (107, 0.0), (108, 0.029070098088493673), (109, 0.0), (110, 0.010123759209121116), (111, 0.015503752732362966), (112, 0.005139773493817027), (113, 0.016449086807363258), (114, 0.009808827206950584), (115, 0.010167119423055444), (116, 0.018847946999788225), (117, 0.0), (118, 0.005974379151952212), (119, 0.005069288517977118), (120, 0.0), (121, 0.0), (122, 0.02965180753235349), (123, 0.02334980637557401), (124, 0.009629375189914711), (125, 0.020219580603641357), (126, 0.0), (127, 0.01594054037288091), (128, 0.0539135202392898), (129, 0.020465426150311966), (130, 0.014160814213644476), (131, 0.0), (132, 0.0), (133, 0.0), (134, 0.01045003119028022), (135, 0.04261910137249331), (136, 0.0), (137, 0.005386561141394882), (138, 0.005058151360594152), (139, 0.017360468711455003), (140, 0.0), (141, 0.029955094403257703), (142, 0.0), (143, 0.006398256178367005), (144, 0.016145292725372476), (145, 0.0), (146, 0.010754015506194281), (147, 0.0), (148, 0.009918773230289056), (149, 0.0), (150, 0.005203955564550663), (151, 0.00599477474199331), (152, 0.010762947480793657), (153, 0.018620691733405775), (154, 0.015273743019447299), (155, 0.0), (156, 0.008132037244959894), (157, 0.009639674790955871), (158, 0.015166415827041929), (159, 0.00889497410794173), (160, 0.020444877772209127), (161, 0.008986418383031608), (162, 0.0412243421465232), (163, 0.0), (164, 0.01613214977101009), (165, 0.014118971118468146), (166, 0.03156563429940922), (167, 0.0), (168, 0.004217040130878365), (169, 0.015553878059387221), (170, 0.020550726552782027), (171, 0.00514212091476901), (172, 0.0), (173, 0.0), (174, 0.010244300595288233), (175, 0.025600640040200195), (176, 0.0), (177, 0.004474421778525468), (178, 0.0375381357825482), (179, 0.005010886238680447), (180, 0.006180216078892945), (181, 0.03744894176972841), (182, 0.015303631123945685), (183, 0.0), (184, 0.004787257337876849), (185, 0.009347730940652544), (186, 0.004492845462188287), (187, 0.0), (188, 0.009782617390317388), (189, 0.011292511592346772), (190, 0.0), (191, 0.00990676010141599), (192, 0.005516432665803713), (193, 0.02023197597755393), (194, 0.0), (195, 0.01307143396134648), (196, 0.049547882914890456), (197, 0.009630778634149255), (198, 0.0), (199, 0.0), (200, 0.0), (201, 0.011473138512358589), (202, 0.013492690516498127), (203, 0.018050490319529315), (204, 0.0), (205, 0.0), (206, 0.029793181552577347), (207, 0.012363031841309503), (208, 0.006391714136801527), (209, 0.0), (210, 0.006246964517688856), (211, 0.019999811846430404), (212, 0.028685895073228232), (213, 0.01880119578654089), (214, 0.019055473383386305), (215, 0.014551903816310156), (216, 0.005437687698760812), (217, 0.033256725489252736), (218, 0.0), (219, 0.010331846067835075), (220, 0.01137622425353321), (221, 0.020652519684883915), (222, 0.009283413219517174), (223, 0.005112075236602274), (224, 0.0), (225, 0.017689787826244287), (226, 0.0), (227, 0.03823533995091734), (228, 0.008027870433860166), (229, 0.0), (230, 0.0), (231, 0.005902703991401449), (232, 0.0060534591502417094), (233, 0.005751885614331795), (234, 0.0049079859278775), (235, 0.01833949459153812), (236, 0.0), (237, 0.004253160342466252), (238, 0.010110764221904534), (239, 0.005475103582948119), (240, 0.004930397552534369), (241, 0.010794990189981214), (242, 0.0), (243, 0.007474771749338143), (244, 0.005884015746889087), (245, 0.010471805153496123), (246, 0.0204712187307858), (247, 0.0), (248, 0.0), (249, 0.009218976144257976), (250, 0.023937814888406454), (251, 0.009289885912392418), (252, 0.0), (253, 0.029158616622506836), (254, 0.0), (255, 0.0), (256, 0.0), (257, 0.0), (258, 0.005860090398833572), (259, 0.01636907602008896), (260, 0.01085834377147556), (261, 0.03016446075697248), (262, 0.01174317842549037), (263, 0.030129871644518365), (264, 0.02126597739537135), (265, 0.0), (266, 0.012520695319620037), (267, 0.02658506149030014), (268, 0.0), (269, 0.03269615196249157), (270, 0.0), (271, 0.0346579209716399), (272, 0.005504824611917308), (273, 0.029337819646032205), (274, 0.0), (275, 0.01810524556986773), (276, 0.0), (277, 0.042078363057500796), (278, 0.00896569062197542), (279, 0.014078451357216599), (280, 0.01674326256976643), (281, 0.0), (282, 0.01942187562270075), (283, 0.0), (284, 0.010253603757555525), (285, 0.0), (286, 0.0), (287, 0.01010248106737205), (288, 0.009279609302620034), (289, 0.0047244787949099615), (290, 0.005132171063216318), (291, 0.031233954765142354), (292, 0.005546520441215812), (293, 0.017782082997124877), (294, 0.00869845271542943), (295, 0.0049490356090522904), (296, 0.0), (297, 0.028486768117436313), (298, 0.005510638588682392), (299, 0.005290812201448197), (300, 0.010481119513766757), (301, 0.016859020884321244), (302, 0.06412803801553257), (303, 0.018108907356068547), (304, 0.0), (305, 0.0055958309145474295), (306, 0.010135360741833705), (307, 0.015277803770848995), (308, 0.0), (309, 0.004275208145574444), (310, 0.015670490178542502), (311, 0.009299671720809394), (312, 0.0103035966790377), (313, 0.0), (314, 0.014293981166042026), (315, 0.005587292048475407), (316, 0.005323673032079016), (317, 0.0), (318, 0.010802465169667732), (319, 0.01724513930981377), (320, 0.005885641905243314), (321, 0.005652141016208419), (322, 0.005649738489460437), (323, 0.005259511413057815), (324, 0.0048213840028089915), (325, 0.009514505109372958), (326, 0.0), (327, 0.01000374228635022), (328, 0.049404240443864156), (329, 0.0), (330, 0.007363296586407196), (331, 0.010166107108452083), (332, 0.004365735250366718), (333, 0.005078860636852786), (334, 0.02238373916371748), (335, 0.0), (336, 0.015277723954468988), (337, 0.0), (338, 0.014074878798016017), (339, 0.0), (340, 0.029931992565285077), (341, 0.01132702456157173), (342, 0.005612465742554605), (343, 0.0), (344, 0.026384537251052317), (345, 0.05088904205877702), (346, 0.015043988093000334), (347, 0.005249687066663477), (348, 0.005155085671912855), (349, 0.0), (350, 0.01721219857171486), (351, 0.007936760822488146), (352, 0.020001542987844234), (353, 0.01651422875246878), (354, 0.004829462314357394), (355, 0.0), (356, 0.023005764412920085), (357, 0.01829166998865621), (358, 0.0), (359, 0.0), (360, 0.0), (361, 0.0302379203172741), (362, 0.01070032539302108), (363, 0.010590441053122814), (364, 0.017764145369202882), (365, 0.011124978498812112), (366, 0.0), (367, 0.019544591162185255), (368, 0.03015928577340659), (369, 0.020398488348854393), (370, 0.0), (371, 0.03310453592327818), (372, 0.022823126752739835), (373, 0.01838208090000469), (374, 0.0), (375, 0.0058652490404924925), (376, 0.0), (377, 0.010045568937731009), (378, 0.0), (379, 0.005147249745825539), (380, 0.005872222400853542), (381, 0.004266941592019583), (382, 0.005302529318501929), (383, 0.009233341023189049), (384, 0.0), (385, 0.011007987626276515), (386, 0.024402991770058592), (387, 0.03349275822743218), (388, 0.023068725063301952), (389, 0.0), (390, 0.0462926864699965), (391, 0.011946027678443922), (392, 0.02803738514494914), (393, 0.0), (394, 0.04058628875378156), (395, 0.0), (396, 0.0), (397, 0.01552947251402776), (398, 0.01004362256412771), (399, 0.0), (400, 0.0), (401, 0.010461310627341005), (402, 0.0), (403, 0.009120418891972584), (404, 0.009896357965690742), (405, 0.010433888124374811), (406, 0.0), (407, 0.012637674408948467), (408, 0.004970102956225152), (409, 0.03326260710836344), (410, 0.004753152699099241), (411, 0.0049017966915181725), (412, 0.00855461554645806), (413, 0.020620364246202744), (414, 0.014329881191767443), (415, 0.010447495199850257), (416, 0.009077948906742107), (417, 0.014424261905416166), (418, 0.028244880688518704), (419, 0.0), (420, 0.0), (421, 0.008012961146470663), (422, 0.03037342421104491), (423, 0.0), (424, 0.03109928930949869), (425, 0.03114216629797334), (426, 0.02036245382592449), (427, 0.01513742080713449), (428, 0.009626222501403846), (429, 0.0), (430, 0.0), (431, 0.0), (432, 0.0), (433, 0.0), (434, 0.0), (435, 0.004658609941087783), (436, 0.0), (437, 0.0), (438, 0.0), (439, 0.00519526801652788), (440, 0.0), (441, 0.008903339106343684), (442, 0.021685354991392215), (443, 0.0123314851183545), (444, 0.0), (445, 0.0), (446, 0.010934888799944977), (447, 0.0), (448, 0.006190664101140083), (449, 0.0), (450, 0.0), (451, 0.005614080315725486), (452, 0.012482027160652472), (453, 0.0), (454, 0.020130127706555485), (455, 0.0), (456, 0.021153961641776933), (457, 0.0), (458, 0.006502501500712859), (459, 0.0), (460, 0.010348813122486889), (461, 0.011383177768168721), (462, 0.0), (463, 0.0), (464, 0.0), (465, 0.0), (466, 0.0), (467, 0.005643780576588097), (468, 0.005335725895033299), (469, 0.009102608374340028), (470, 0.03372274030706889), (471, 0.0), (472, 0.005548687496593069), (473, 0.00978533180128086), (474, 0.01045595078484305), (475, 0.07516087426670806), (476, 0.0), (477, 0.00898386851125857), (478, 0.0), (479, 0.0102247851351125), (480, 0.0), (481, 0.0), (482, 0.011562475903433117), (483, 0.0053602804896435525), (484, 0.0), (485, 0.020358452436798846), (486, 0.015397016399175983), (487, 0.0), (488, 0.015890303651059055), (489, 0.0), (490, 0.010897393425731403), (491, 0.013038999960886307), (492, 0.010364590621581031), (493, 0.0), (494, 0.020799886667921163), (495, 0.010004754022995974), (496, 0.018793993757456395), (497, 0.018494922516557835), (498, 0.015809460656984263), (499, 0.0), (500, 0.015452178849571493), (501, 0.005284154715408929), (502, 0.016948455554216958), (503, 0.009893105570953027), (504, 0.015507016623402408), (505, 0.00964424193653161), (506, 0.03099287875758922), (507, 0.014839427901136973), (508, 0.016749731318486227), (509, 0.0), (510, 0.01213968359964784), (511, 0.004835390656312716), (512, 0.006515100041417352), (513, 0.006064108473589435), (514, 0.006346113490779052), (515, 0.014443528543023127), (516, 0.005752243862222877), (517, 0.005992971535926591), (518, 0.0), (519, 0.005132739837803581), (520, 0.008577374959454095), (521, 0.015247633713269277), (522, 0.0), (523, 0.005356761096356836), (524, 0.00967329086253171), (525, 0.005414292779216818), (526, 0.0), (527, 0.0), (528, 0.0158442219151489), (529, 0.015336767058229058), (530, 0.029548303263926816), (531, 0.011376350792622522), (532, 0.015290918191149885), (533, 0.006483897811689903), (534, 0.0061564297147770125), (535, 0.0), (536, 0.0), (537, 0.006338719814780638), (538, 0.01790244845177824), (539, 0.005696825052233644), (540, 0.015342072050498368), (541, 0.010597078267070022), (542, 0.02772360658937043), (543, 0.01971002801795849), (544, 0.0), (545, 0.013288197604579558), (546, 0.009413658552823867), (547, 0.0), (548, 0.005278606651379076), (549, 0.00495975451468438), (550, 0.006186101603170383), (551, 0.0), (552, 0.0), (553, 0.007563587290030744), (554, 0.005620914414650303), (555, 0.022277863820509714), (556, 0.0), (557, 0.0), (558, 0.0), (559, 0.0), (560, 0.011152509415483517), (561, 0.020063852183842316), (562, 0.03849361980651192), (563, 0.0), (564, 0.0), (565, 0.005181251911912245), (566, 0.009070612130375712), (567, 0.005528274365345689), (568, 0.021244389697901923), (569, 0.03945392763274283), (570, 0.007343181044724161), (571, 0.0), (572, 0.0057074384931218814), (573, 0.011371552448901132), (574, 0.0), (575, 0.004831557437124175), (576, 0.0), (577, 0.00479830941786644), (578, 0.0), (579, 0.010272256450511765), (580, 0.030686566356785683), (581, 0.0), (582, 0.024812123282830327), (583, 0.01381160621393461), (584, 0.0), (585, 0.005349421133345171), (586, 0.010045532547365323), (587, 0.0), (588, 0.0), (589, 0.009389657675541976), (590, 0.02837294269335668), (591, 0.0), (592, 0.005800363450139423), (593, 0.0), (594, 0.00983069534966492), (595, 0.0060960494088764935), (596, 0.0), (597, 0.014082245246260505), (598, 0.0), (599, 0.005999949876349753), (600, 0.005867253477518722), (601, 0.005071943307177397), (602, 0.004969968546840144), (603, 0.0), (604, 0.015010468769265676), (605, 0.009306521579565187), (606, 0.017375295602708722), (607, 0.023209604187890087), (608, 0.0), (609, 0.016998565820044803), (610, 0.005252427745573876), (611, 0.0), (612, 0.0), (613, 0.010820993099467116), (614, 0.012661086424333213), (615, 0.005706126755308268), (616, 0.0), (617, 0.0), (618, 0.021219703157356613), (619, 0.005577878115570633), (620, 0.062042519031821314), (621, 0.004853162442855088), (622, 0.0), (623, 0.0), (624, 0.0), (625, 0.0), (626, 0.0), (627, 0.0), (628, 0.0), (629, 0.00880675080492798), (630, 0.010534580446160324), (631, 0.005907769183657121), (632, 0.03215550415547084), (633, 0.03787385065245869), (634, 0.0), (635, 0.029756442311461302), (636, 0.0), (637, 0.0), (638, 0.0), (639, 0.009331242761041223), (640, 0.014211240552266552), (641, 0.0), (642, 0.01449289423872231), (643, 0.005009099269217621), (644, 0.005840084073567682), (645, 0.0), (646, 0.0), (647, 0.0), (648, 0.0), (649, 0.009545639429303055), (650, 0.0), (651, 0.0), (652, 0.0), (653, 0.028861833634102368), (654, 0.011438392888788562), (655, 0.01787300317568769), (656, 0.005954935969177379), (657, 0.031671845958624864), (658, 0.02316237669898522), (659, 0.0), (660, 0.0), (661, 0.005415479214805387), (662, 0.009671951703944026), (663, 0.0), (664, 0.023590345593973286), (665, 0.019636519653182617), (666, 0.012128201072462961), (667, 0.010745628849936927), (668, 0.008767137016190212), (669, 0.005287606078853785), (670, 0.006874665219053498), (671, 0.010166899938430536), (672, 0.01022024309882146), (673, 0.006125428997107525), (674, 0.00579538931200888), (675, 0.0), (676, 0.0), (677, 0.02364613075736157), (678, 0.010992408654730182), (679, 0.0), (680, 0.0), (681, 0.0), (682, 0.00646679426182478), (683, 0.02406525594092295), (684, 0.016756227710465962), (685, 0.0053677918412378504), (686, 0.0), (687, 0.029506225936332252), (688, 0.006267318496079366), (689, 0.0), (690, 0.02020823927535588), (691, 0.03322250516367409), (692, 0.013776230916284948), (693, 0.0), (694, 0.0), (695, 0.0), (696, 0.016734386463344773), (697, 0.010065965022728123), (698, 0.0), (699, 0.0093154741613485), (700, 0.005591932287942328), (701, 0.005878534537503244), (702, 0.009599438332637692), (703, 0.024158319633138886), (704, 0.005560859085654071), (705, 0.01684873782438475), (706, 0.042770194873333695), (707, 0.008514965278788386), (708, 0.0), (709, 0.0), (710, 0.0), (711, 0.0), (712, 0.018182182845742724), (713, 0.0), (714, 0.005767149300304617), (715, 0.006167770108634171), (716, 0.006337306474747707), (717, 0.0054951338268625595), (718, 0.011024082533336364), (719, 0.04747520208563245), (720, 0.01001012667595037), (721, 0.012858348482943236), (722, 0.004728871276618692), (723, 0.018260543746210407), (724, 0.0), (725, 0.03466644154266334), (726, 0.01729725344037404), (727, 0.01587264217562565), (728, 0.006073883555787909), (729, 0.006230216016336101), (730, 0.0), (731, 0.015121302380397952), (732, 0.0), (733, 0.009146478072022825), (734, 0.015534802960091632), (735, 0.014495410701640316), (736, 0.05094774607095989), (737, 0.06862280329641722), (738, 0.008977204334871366), (739, 0.0), (740, 0.006889214759842931), (741, 0.019125523754770633), (742, 0.015280195501959864), (743, 0.0), (744, 0.004780323259872363), (745, 0.009122007447150937), (746, 0.018076324288041037), (747, 0.02620860592516837), (748, 0.011386237714754005), (749, 0.0161980273960266), (750, 0.0), (751, 0.046706718476785744), (752, 0.03202923288920266), (753, 0.006501416498630011), (754, 0.011032577704597816), (755, 0.0), (756, 0.019417903626040355), (757, 0.020686669752752726), (758, 0.00983073452432883), (759, 0.009629080306345494), (760, 0.011723199267562422), (761, 0.0), (762, 0.009132462773398575), (763, 0.015168668669037863), (764, 0.02933090389172532), (765, 0.0), (766, 0.0), (767, 0.0), (768, 0.04978701666563362), (769, 0.005225368268780789), (770, 0.00981701781107428), (771, 0.0), (772, 0.0), (773, 0.014613398953314122), (774, 0.0), (775, 0.008253614625712488), (776, 0.04724366972389285), (777, 0.0), (778, 0.02077080794322591), (779, 0.027154361316560904), (780, 0.019791845467037696), (781, 0.015925450117146217), (782, 0.0), (783, 0.0), (784, 0.010803747914276641), (785, 0.020308584432514702), (786, 0.008261103177800554), (787, 0.006601698327857523), (788, 0.043556958237564086), (789, 0.008485948738834726), (790, 0.0050452420503765295), (791, 0.0), (792, 0.005549799478137999), (793, 0.01613696532236967), (794, 0.0), (795, 0.018200827696293782), (796, 0.017008554359454354), (797, 0.0), (798, 0.01001687176036094), (799, 0.029234326071901958), (800, 0.005098654634338226), (801, 0.0), (802, 0.0), (803, 0.019094753217247993), (804, 0.005219502866504113), (805, 0.0), (806, 0.0), (807, 0.020207080735444232), (808, 0.062352930840642334), (809, 0.00588002699702159), (810, 0.004792490813731102), (811, 0.0), (812, 0.0), (813, 0.031196635662694795), (814, 0.0), (815, 0.0), (816, 0.0), (817, 0.0), (818, 0.01919391115975774), (819, 0.0), (820, 0.013861356542266752), (821, 0.010926282010771442), (822, 0.010832417810057384), (823, 0.0), (824, 0.007024200150499773), (825, 0.01685867994569645), (826, 0.0061416368292782665), (827, 0.005431337228490128), (828, 0.0), (829, 0.030524169659495254), (830, 0.011473790975689156), (831, 0.0), (832, 0.03100103658754793), (833, 0.0), (834, 0.0), (835, 0.0), (836, 0.008791185744445207), (837, 0.0), (838, 0.0), (839, 0.0), (840, 0.015352956253160813), (841, 0.047328968851509175), (842, 0.018631324481671787), (843, 0.0), (844, 0.031163124455865526), (845, 0.005885067680034321), (846, 0.010649675405603107), (847, 0.005883770332238791), (848, 0.006097558318326048), (849, 0.016341742502068747), (850, 0.0), (851, 0.014191813001358338), (852, 0.015250256908082517), (853, 0.004062254661234724), (854, 0.08310042918423034), (855, 0.0), (856, 0.034859163560939065), (857, 0.01858677432030844), (858, 0.0), (859, 0.0097926998104976), (860, 0.0), (861, 0.0), (862, 0.017366907901695046), (863, 0.010071522635937889), (864, 0.02755153497053836), (865, 0.017571792165976013), (866, 0.010437142922868466), (867, 0.00997446579507823), (868, 0.005412221462173021), (869, 0.005768550105439231), (870, 0.005106336060400198), (871, 0.0), (872, 0.01661390324943411), (873, 0.010836514769605227), (874, 0.009576384971730452), (875, 0.006076712872226355), (876, 0.018305582482441674), (877, 0.0), (878, 0.021084819716105818), (879, 0.010465135181604435), (880, 0.0), (881, 0.012333551435983496), (882, 0.0), (883, 0.014778609534876988), (884, 0.010485327909289981), (885, 0.013782925789261383), (886, 0.0), (887, 0.0), (888, 0.0), (889, 0.0), (890, 0.01601380373244474), (891, 0.011625374571738123), (892, 0.0), (893, 0.0), (894, 0.005214315062904661), (895, 0.009712875539925512), (896, 0.0), (897, 0.005322607779161744), (898, 0.01364832320811105), (899, 0.004845684779325505), (900, 0.0), (901, 0.0), (902, 0.005788533038249568), (903, 0.01058589932804326), (904, 0.019185507068296408), (905, 0.017931309360841037), (906, 0.0), (907, 0.014411415308544886), (908, 0.0216332939889719), (909, 0.02766614559417755), (910, 0.0), (911, 0.08536001072585402), (912, 0.018619513993949764), (913, 0.011530266733274843), (914, 0.013566132078264537), (915, 0.010404713711556272), (916, 0.024535536133447278), (917, 0.0), (918, 0.011354806570627943), (919, 0.03279536705082502), (920, 0.0), (921, 0.0), (922, 0.0), (923, 0.04049973018531938), (924, 0.004468126720559055), (925, 0.011748689559591118), (926, 0.00788816566062161), (927, 0.0), (928, 0.042074590141061484), (929, 0.023715316270920342), (930, 0.005510155781825824), (931, 0.015569740413169442), (932, 0.0), (933, 0.011111738871847084), (934, 0.019887444903681415), (935, 0.015202426177506964), (936, 0.0), (937, 0.0), (938, 0.015087081691119594), (939, 0.00947228720158656), (940, 0.007018925633017892), (941, 0.010355347014213917), (942, 0.0), (943, 0.011882052245531995), (944, 0.0), (945, 0.020579428246751835), (946, 0.01595604054404096), (947, 0.008230378617827909), (948, 0.07266570638636885), (949, 0.012814033644328477), (950, 0.02143820647191301), (951, 0.009049758985168292), (952, 0.0), (953, 0.0), (954, 0.00548121268954292), (955, 0.021326761839905183), (956, 0.006104774475591349), (957, 0.004757064505715363), (958, 0.0), (959, 0.01866565108325274), (960, 0.0), (961, 0.010697006564195165), (962, 0.0101786857931057), (963, 0.010282493441136631), (964, 0.008541831301041764), (965, 0.005896812818897668), (966, 0.010754511518322707), (967, 0.0), (968, 0.0), (969, 0.02649734393285405), (970, 0.008848686358861149), (971, 0.015498246833359779), (972, 0.007835038067033145), (973, 0.014964507510856428), (974, 0.010364307266366168), (975, 0.0), (976, 0.0), (977, 0.13179647794561947), (978, 0.013692870628473538), (979, 0.0), (980, 0.0), (981, 0.014664236601238794), (982, 0.01632009423840239), (983, 0.010022838626699988), (984, 0.019730012951568614), (985, 0.011469772360442929), (986, 0.006108924033648961), (987, 0.0), (988, 0.005101654257744707), (989, 0.0), (990, 0.016621036432942826), (991, 0.0), (992, 0.017905500346252084), (993, 0.005253664255528484), (994, 0.005873842588757624), (995, 0.010056603137752362), (996, 0.021704810663006828), (997, 0.005206733334627919), (998, 0.011337920112966865), (999, 0.011274313301762892), (1000, 0.01007261958149687), (1001, 0.015484380639154825), (1002, 0.03971427126137728), (1003, 0.0), (1004, 0.0), (1005, 0.012897191245742338), (1006, 0.005463726152389997), (1007, 0.01708908481528678), (1008, 0.009040413017076903), (1009, 0.0700046025684923), (1010, 0.004816806147375261), (1011, 0.012045931521408027), (1012, 0.005643658903889263), (1013, 0.010439697050678334), (1014, 0.006558106762610281), (1015, 0.005954670925670085), (1016, 0.0), (1017, 0.016760647173594188), (1018, 0.004560753080759173), (1019, 0.0), (1020, 0.0), (1021, 0.0), (1022, 0.13807879860598485), (1023, 0.006452166779948884), (1024, 0.016381223726590562), (1025, 0.013963731279900568), (1026, 0.0), (1027, 0.0), (1028, 0.0), (1029, 0.00981973499296629), (1030, 0.019117412782584366), (1031, 0.005989249601797794), (1032, 0.0), (1033, 0.009827273077850727), (1034, 0.0), (1035, 0.005229786067946328), (1036, 0.0), (1037, 0.0), (1038, 0.009139310513875001), (1039, 0.009270834541025478), (1040, 0.008715518685557458), (1041, 0.009831704322352076), (1042, 0.0), (1043, 0.02109453028758053), (1044, 0.005584520443602256), (1045, 0.044655484258131664), (1046, 0.026702922452663497), (1047, 0.010105403543483046), (1048, 0.005376896901310981), (1049, 0.011735363052805498), (1050, 0.0), (1051, 0.0), (1052, 0.023304151540786966), (1053, 0.0), (1054, 0.010140619098797965), (1055, 0.0), (1056, 0.00589292101010306), (1057, 0.01149344110951862), (1058, 0.0), (1059, 0.005156411803598639), (1060, 0.005084302458137342), (1061, 0.009337031313233116), (1062, 0.0), (1063, 0.005547601400459464), (1064, 0.0), (1065, 0.0053467191260616), (1066, 0.010353187917322652), (1067, 0.0), (1068, 0.0050358824891869125), (1069, 0.04521134182073892), (1070, 0.0), (1071, 0.016452339876320058), (1072, 0.0), (1073, 0.009446041347664495), (1074, 0.015401970933114635), (1075, 0.0), (1076, 0.0053397278463780595), (1077, 0.005308569235775964), (1078, 0.008545464806162115), (1079, 0.0), (1080, 0.0), (1081, 0.0), (1082, 0.005469129521835569), (1083, 0.0), (1084, 0.02005984549921786), (1085, 0.010385996880255492), (1086, 0.0), (1087, 0.02666128886621227), (1088, 0.008618954626178937), (1089, 0.011882507894114528), (1090, 0.013656379788675337), (1091, 0.006305521700933604), (1092, 0.005210046766793352), (1093, 0.0), (1094, 0.010227525566311037), (1095, 0.00471039217676637), (1096, 0.00550053850657436), (1097, 0.0), (1098, 0.0), (1099, 0.01708606649255559), (1100, 0.009971865390606042), (1101, 0.02252608444102144), (1102, 0.0), (1103, 0.0), (1104, 0.01740064601120396), (1105, 0.010675189808807582), (1106, 0.0302591220059847), (1107, 0.0), (1108, 0.01625032986798193), (1109, 0.028080439303972166), (1110, 0.0), (1111, 0.01098713896869129), (1112, 0.020650010948502565), (1113, 0.0202697111267244), (1114, 0.004825881135068041), (1115, 0.013484880459978161), (1116, 0.0), (1117, 0.009641676539214243), (1118, 0.010221519631458512), (1119, 0.018333371476046932), (1120, 0.004576587058859356), (1121, 0.02045686483727333), (1122, 0.005909173076002542), (1123, 0.02910175906093073), (1124, 0.010388097559032104), (1125, 0.03145679464413371), (1126, 0.044565248615364254), (1127, 0.00578360616581619), (1128, 0.0), (1129, 0.010810117562501585), (1130, 0.005042911529666594), (1131, 0.0), (1132, 0.005034720497730111), (1133, 0.12182587214670024), (1134, 0.05020185982557667), (1135, 0.005491752186742202), (1136, 0.004686593849363222), (1137, 0.004653907282342706), (1138, 0.005666967840878945), (1139, 0.027512117312001), (1140, 0.005448635064720179), (1141, 0.006286697738331354), (1142, 0.011074955775288916), (1143, 0.0), (1144, 0.024035326460800734), (1145, 0.0), (1146, 0.005329095347517044), (1147, 0.0), (1148, 0.0), (1149, 0.01729904801807856), (1150, 0.00594128379502346), (1151, 0.005680826539941503), (1152, 0.01768169906231575), (1153, 0.011682572901873425), (1154, 0.021341340258632043), (1155, 0.015588269232348594), (1156, 0.0), (1157, 0.013955225819747386), (1158, 0.0), (1159, 0.01160759950795091), (1160, 0.0), (1161, 0.0), (1162, 0.00628275864464455), (1163, 0.011142169716934207), (1164, 0.014887924195757178), (1165, 0.010229118904905021), (1166, 0.010119012338168743), (1167, 0.0), (1168, 0.005939930628422563), (1169, 0.011802202742050719), (1170, 0.009840352486747504), (1171, 0.004834805501655021), (1172, 0.0), (1173, 0.019381990132458827), (1174, 0.006109957225075541), (1175, 0.0), (1176, 0.0), (1177, 0.0), (1178, 0.004519601336618364), (1179, 0.01119147658513642), (1180, 0.0), (1181, 0.0), (1182, 0.0), (1183, 0.005471656307442167), (1184, 0.012464704329964885), (1185, 0.005900816369984831), (1186, 0.0), (1187, 0.011660917653811938), (1188, 0.020257653985877647), (1189, 0.0), (1190, 0.009725757796492906), (1191, 0.010504585903036788), (1192, 0.010655669458733233), (1193, 0.0), (1194, 0.01329156896809609), (1195, 0.016757762750740327), (1196, 0.009566273943148506), (1197, 0.010107578237595841), (1198, 0.010119547939784843), (1199, 0.023792961204039603), (1200, 0.01944675038233041), (1201, 0.0422940771650679), (1202, 0.0), (1203, 0.009370686888323756), (1204, 0.009831310922949926), (1205, 0.010473710557489658), (1206, 0.0), (1207, 0.023749774006506977), (1208, 0.01860553376817539), (1209, 0.0), (1210, 0.01991555500889322), (1211, 0.009710856733264231), (1212, 0.013482792153412656), (1213, 0.008879121867083308), (1214, 0.022293755385202355), (1215, 0.004543631906022385), (1216, 0.0430335459558207), (1217, 0.009317237456668327), (1218, 0.0), (1219, 0.009971551817861017), (1220, 0.010419836661945184), (1221, 0.004433072753572053), (1222, 0.008319250484863639), (1223, 0.005367897395183306), (1224, 0.010627776004085767), (1225, 0.006102132262320738), (1226, 0.005650728315455624), (1227, 0.0113154413715746), (1228, 0.0), (1229, 0.03959556549403027), (1230, 0.005522351774301496), (1231, 0.009674363790068571), (1232, 0.010190500159044947), (1233, 0.0), (1234, 0.04721252757979989), (1235, 0.030920286531982637), (1236, 0.0), (1237, 0.0), (1238, 0.009873937861669705), (1239, 0.005270852977222938), (1240, 0.006439627432105777), (1241, 0.05678177736437024), (1242, 0.0), (1243, 0.02309506867414084), (1244, 0.005883669818213908), (1245, 0.0), (1246, 0.010895790052601816), (1247, 0.0), (1248, 0.0), (1249, 0.018733059818063294), (1250, 0.0), (1251, 0.008877264326863707), (1252, 0.041761788871222186), (1253, 0.0055565325535662175), (1254, 0.017045097085223088), (1255, 0.010412245331808262), (1256, 0.00996553467637642), (1257, 0.010804830189894667), (1258, 0.020343264371445596), (1259, 0.015049132902009012), (1260, 0.010970511392652914), (1261, 0.02870142195158194), (1262, 0.011263514861508676), (1263, 0.005577312039894083), (1264, 0.0), (1265, 0.012042581494565295), (1266, 0.017495703094916198), (1267, 0.004918548177716236), (1268, 0.008379828348330218), (1269, 0.005766022372027658), (1270, 0.03319021884621625), (1271, 0.011305738268903529), (1272, 0.0), (1273, 0.005244177960508834), (1274, 0.03529539670794914), (1275, 0.01230220572470165), (1276, 0.004318475706079996), (1277, 0.007904824508282978), (1278, 0.012097223943541327), (1279, 0.004404538305135402), (1280, 0.006251269530442383), (1281, 0.005175680116116252), (1282, 0.016374657010970413), (1283, 0.03033049066907677), (1284, 0.00969167254853382), (1285, 0.005703999649835799), (1286, 0.02766747847963592), (1287, 0.0), (1288, 0.0), (1289, 0.0), (1290, 0.005105598942844039), (1291, 0.01919199390119857), (1292, 0.009378800556372422), (1293, 0.005531576039267779), (1294, 0.03193804043720115), (1295, 0.0), (1296, 0.0047839443902662655), (1297, 0.0261211265473562), (1298, 0.009884891301678732), (1299, 0.011322825260243786), (1300, 0.02428303677999514), (1301, 0.00944383609700987), (1302, 0.05383473662298319), (1303, 0.0), (1304, 0.020198391205848796), (1305, 0.008720658383996169), (1306, 0.00773118287333964), (1307, 0.0100050820972359), (1308, 0.014175894333694953), (1309, 0.022109857388576737), (1310, 0.02999911814684253), (1311, 0.0), (1312, 0.013590122054475906), (1313, 0.0), (1314, 0.010341363247958448), (1315, 0.0055878440032229035), (1316, 0.0), (1317, 0.008399550835339043), (1318, 0.0), (1319, 0.010466237552319062), (1320, 0.012973559789390045), (1321, 0.0123368035200353), (1322, 0.005832698340385898), (1323, 0.00924124915937089), (1324, 0.0), (1325, 0.02458577184282335), (1326, 0.004742532051558525), (1327, 0.009422008402378002), (1328, 0.006118251311387832), (1329, 0.04597654259970839), (1330, 0.009989120726140902), (1331, 0.02975298659585929), (1332, 0.019012798944346234), (1333, 0.0), (1334, 0.0), (1335, 0.0058534297175376945), (1336, 0.010360153091609134), (1337, 0.08880907872314664), (1338, 0.010943702077733396), (1339, 0.01133110960065253), (1340, 0.026980565877870136), (1341, 0.021777246280403506), (1342, 0.0), (1343, 0.006173440925016884), (1344, 0.008223150723644363), (1345, 0.01017744156892503), (1346, 0.01151468547895404), (1347, 0.0), (1348, 0.014093095322413263), (1349, 0.005799671034378905), (1350, 0.006110155172668763), (1351, 0.0038490926288442732), (1352, 0.009782603107613877), (1353, 0.036645709288514135), (1354, 0.014833336779743847), (1355, 0.0), (1356, 0.0), (1357, 0.005364550044726242), (1358, 0.019030108283805986), (1359, 0.020788433233799367), (1360, 0.00501291450981876), (1361, 0.010268744118851566), (1362, 0.0074515324935823185), (1363, 0.009642060534510248), (1364, 0.010576080264936566), (1365, 0.02606789817474155), (1366, 0.02009904493027175), (1367, 0.06926172845990912), (1368, 0.05013177478572069), (1369, 0.009159021764422993), (1370, 0.008642406342920886), (1371, 0.0), (1372, 0.009345730748311111), (1373, 0.015092300127875786), (1374, 0.031396337130452895), (1375, 0.0), (1376, 0.0), (1377, 0.009421069693392552), (1378, 0.02952371625520777), (1379, 0.004963553440513135), (1380, 0.005979365371062114), (1381, 0.012687911062588833), (1382, 0.010485389059109371), (1383, 0.0), (1384, 0.046864286485385966), (1385, 0.005460546165357682), (1386, 0.05128687463642838), (1387, 0.005076489776252508), (1388, 0.0), (1389, 0.017299425649150827), (1390, 0.00559501215122565), (1391, 0.0), (1392, 0.01814834951395797), (1393, 0.006100783122157248), (1394, 0.013219272148821376), (1395, 0.004312872563668747), (1396, 0.011207174016626915), (1397, 0.009061243155353775), (1398, 0.00661295007269296), (1399, 0.0), (1400, 0.0), (1401, 0.011427127974083035), (1402, 0.005411645349343629), (1403, 0.007719356267243131), (1404, 0.004997110182680464), (1405, 0.057159345436729764), (1406, 0.005690799156790857), (1407, 0.02962317705804707), (1408, 0.009721328846709773), (1409, 0.010799290253585829), (1410, 0.010075141975918618), (1411, 0.015455515751651432), (1412, 0.015250017021746866), (1413, 0.022581219275535754), (1414, 0.0), (1415, 0.0), (1416, 0.0), (1417, 0.004517772647069724), (1418, 0.00862141549039843), (1419, 0.005798748292405212), (1420, 0.020191025054301634), (1421, 0.0), (1422, 0.00984678916737158), (1423, 0.009758260948655886), (1424, 0.01194372816233082), (1425, 0.010650119345513338), (1426, 0.0), (1427, 0.024383186325542126), (1428, 0.0), (1429, 0.0), (1430, 0.004938466272065259), (1431, 0.005127302222951284), (1432, 0.016759156004400134), (1433, 0.0), (1434, 0.0), (1435, 0.0), (1436, 0.011179088688304653), (1437, 0.006659873984646782), (1438, 0.0), (1439, 0.0), (1440, 0.00578041408791052), (1441, 0.0), (1442, 0.010776146728198528), (1443, 0.011256435591209129), (1444, 0.0), (1445, 0.010419459838638566), (1446, 0.005081466300451791), (1447, 0.015603427523125468), (1448, 0.018254007171279868), (1449, 0.0), (1450, 0.02646155160199503), (1451, 0.004956349287824076), (1452, 0.011810752644879786), (1453, 0.12236229805210676), (1454, 0.0060885597600853795), (1455, 0.005720676318754934), (1456, 0.019931630888374477), (1457, 0.009499964506549292), (1458, 0.005089059156153144), (1459, 0.010549448255937585), (1460, 0.006502366223350648), (1461, 0.09121416704725956), (1462, 0.0), (1463, 0.0), (1464, 0.043066127498131775), (1465, 0.01334625943205424), (1466, 0.006594252810515033), (1467, 0.00859405743931244), (1468, 0.019438636676238255), (1469, 0.035325934376116336), (1470, 0.0), (1471, 0.007998035071568625), (1472, 0.01037088966629191), (1473, 0.0), (1474, 0.0), (1475, 0.0), (1476, 0.02085826248896671), (1477, 0.013901766717920325), (1478, 0.0054432002082449756), (1479, 0.04149544681648822), (1480, 0.010030971330679225), (1481, 0.0), (1482, 0.014109437149864448), (1483, 0.005635181133021271), (1484, 0.03866687772106416), (1485, 0.00991467293002875), (1486, 0.017223872111204862), (1487, 0.01422228978911446), (1488, 0.019715720341401243), (1489, 0.011382811004666753), (1490, 0.0), (1491, 0.011172900089748848), (1492, 0.03377757535110016), (1493, 0.004977121864815668), (1494, 0.020764124797792795), (1495, 0.016182929800032938), (1496, 0.020625420570721493), (1497, 0.0), (1498, 0.0), (1499, 0.0), (1500, 0.029717680699969808), (1501, 0.015275353920996326), (1502, 0.005880357705954346), (1503, 0.054892823250262186), (1504, 0.005853791831342266), (1505, 0.010276590960697043), (1506, 0.031213753018468102), (1507, 0.01143339556200446), (1508, 0.026823185569194538), (1509, 0.055848601630508546), (1510, 0.010597815790385122), (1511, 0.04650633225570933), (1512, 0.00580190031571777), (1513, 0.01686519105512456), (1514, 0.02695305944068638), (1515, 0.010878994630083632), (1516, 0.01647433173725762), (1517, 0.04888571426541729), (1518, 0.010740006453514594), (1519, 0.0), (1520, 0.15355650199259568), (1521, 0.014012592167520446), (1522, 0.016380228272895012), (1523, 0.025214984383723132), (1524, 0.004604279718277466), (1525, 0.015446665634731224), (1526, 0.005203344718807235), (1527, 0.00563117009883159), (1528, 0.009156321485246175), (1529, 0.0), (1530, 0.041392127015698194), (1531, 0.0), (1532, 0.0), (1533, 0.010050599533885048), (1534, 0.0), (1535, 0.009292594335165305), (1536, 0.0057632331252936), (1537, 0.022447789985264564), (1538, 0.0), (1539, 0.02270615070184463), (1540, 0.006688877506404684), (1541, 0.0), (1542, 0.010128005939741534), (1543, 0.00911215262121456), (1544, 0.07181222801217833), (1545, 0.005504114112641724), (1546, 0.009841969268625989), (1547, 0.0067033883097977), (1548, 0.10011290575569269), (1549, 0.01018594245192301), (1550, 0.0), (1551, 0.00525101673509225), (1552, 0.015245294621854453), (1553, 0.00919235165079254), (1554, 0.006214813629375398), (1555, 0.02248515150003001), (1556, 0.010523390293936088), (1557, 0.046418779270964244), (1558, 0.0), (1559, 0.02921475080969457), (1560, 0.017819608096921707), (1561, 0.0), (1562, 0.0), (1563, 0.0), (1564, 0.011608623780331813), (1565, 0.017237429799533775), (1566, 0.018597893695585524), (1567, 0.014244508604992658), (1568, 0.004825509572509602), (1569, 0.0185423725648514), (1570, 0.0061522330764165615), (1571, 0.035231353358365664), (1572, 0.016468416363430625), (1573, 0.0), (1574, 0.0), (1575, 0.0), (1576, 0.04123027259966128), (1577, 0.011331592037722462), (1578, 0.0), (1579, 0.038313120313059515), (1580, 0.0), (1581, 0.0), (1582, 0.009416946421998041), (1583, 0.0), (1584, 0.014433438003941096), (1585, 0.020822281980429215), (1586, 0.01722430768954292), (1587, 0.021963876506080053), (1588, 0.011269335109835743), (1589, 0.009982902170080887), (1590, 0.0), (1591, 0.018827346998064945), (1592, 0.01609994227547585), (1593, 0.0), (1594, 0.022097072396637434), (1595, 0.0), (1596, 0.010943493307083484), (1597, 0.015713341292232893), (1598, 0.009726690539314785), (1599, 0.005901131339421403), (1600, 0.0), (1601, 0.011201249577543908), (1602, 0.027929204484168087), (1603, 0.017248662323833375), (1604, 0.005661374260436169), (1605, 0.0), (1606, 0.010056938721460186), (1607, 0.0), (1608, 0.009880883268738478), (1609, 0.0), (1610, 0.009635259201182501), (1611, 0.005720238211549987), (1612, 0.0), (1613, 0.01567146917153639), (1614, 0.010896033617943791), (1615, 0.011488642976611632), (1616, 0.008773202385564408), (1617, 0.021126210464352584), (1618, 0.010191846900787064), (1619, 0.005443897987001181), (1620, 0.005188923511241731), (1621, 0.0), (1622, 0.017023409922838663), (1623, 0.0), (1624, 0.0), (1625, 0.0), (1626, 0.004728981871214064), (1627, 0.005213189165867837), (1628, 0.0), (1629, 0.0), (1630, 0.020231573309078196), (1631, 0.0), (1632, 0.0), (1633, 0.0), (1634, 0.019624438009956443), (1635, 0.016346252846366302), (1636, 0.0), (1637, 0.024697888777229497), (1638, 0.01014334491838895), (1639, 0.008536391097252561), (1640, 0.017149746679288397), (1641, 0.0), (1642, 0.01441800682222114), (1643, 0.0), (1644, 0.0), (1645, 0.011281302349669241), (1646, 0.0), (1647, 0.0), (1648, 0.03866251949212199), (1649, 0.01562644745645089), (1650, 0.009591135609128772), (1651, 0.01041592213197528), (1652, 0.008935630184843384), (1653, 0.005712908853098688), (1654, 0.0), (1655, 0.0), (1656, 0.011061670220115201), (1657, 0.032305843924879465), (1658, 0.011610173173416673), (1659, 0.023780814292523447), (1660, 0.01580751320702765), (1661, 0.0), (1662, 0.004899553473647862), (1663, 0.009844016234539309), (1664, 0.0), (1665, 0.005497539493367543), (1666, 0.010244312054921646), (1667, 0.0), (1668, 0.010051922775028883), (1669, 0.0), (1670, 0.011993388671944988), (1671, 0.0), (1672, 0.0), (1673, 0.0), (1674, 0.0), (1675, 0.019711523073475574), (1676, 0.008135591493828365), (1677, 0.008095037291343506), (1678, 0.022035645328004304), (1679, 0.005615176152958976), (1680, 0.005344804704054531), (1681, 0.012345593760871217), (1682, 0.004914220874781144), (1683, 0.010474885795142668), (1684, 0.009003179025522346), (1685, 0.0), (1686, 0.0), (1687, 0.0061793954196049565), (1688, 0.015680609739393496), (1689, 0.005354340121760184), (1690, 0.0180179440945443), (1691, 0.004416033277681373), (1692, 0.0051268300871645705), (1693, 0.009795918425927131), (1694, 0.00876743217411408), (1695, 0.012086225302417847), (1696, 0.005620113019644122), (1697, 0.021559041920532797), (1698, 0.013838802631371794), (1699, 0.0), (1700, 0.031379943406150634), (1701, 0.012370295571296958), (1702, 0.0057369385645658294), (1703, 0.0), (1704, 0.005658512220206651), (1705, 0.0062238258449054855), (1706, 0.0), (1707, 0.004464448090238896), (1708, 0.00657967171822086), (1709, 0.02684995575336028), (1710, 0.0), (1711, 0.0), (1712, 0.0), (1713, 0.0067002196627596), (1714, 0.014521285779045802), (1715, 0.009065124890829175), (1716, 0.0), (1717, 0.0), (1718, 0.01623449039053761), (1719, 0.013743979415104041), (1720, 0.01882199065216339), (1721, 0.026117741475875637), (1722, 0.010272569534463632), (1723, 0.0), (1724, 0.0), (1725, 0.024932987635294675), (1726, 0.015380673799421266), (1727, 0.01663247671024365), (1728, 0.004754295531010987), (1729, 0.017464043335876384), (1730, 0.0), (1731, 0.010589704332043993), (1732, 0.0060691081651170296), (1733, 0.016754880317495544), (1734, 0.006002461870542323), (1735, 0.006054089253925192), (1736, 0.023931201260815365), (1737, 0.0), (1738, 0.025725154245509238), (1739, 0.0), (1740, 0.005770616868824724), (1741, 0.016151453527150063), (1742, 0.005064176603356478), (1743, 0.004438203612955548), (1744, 0.00947117810958511), (1745, 0.005066669980289141), (1746, 0.014251119652876926), (1747, 0.0), (1748, 0.01919888605397918), (1749, 0.005596727920756541), (1750, 0.029048837659154163), (1751, 0.015534593488318043), (1752, 0.0), (1753, 0.0), (1754, 0.012078796548690892), (1755, 0.010343436734971647), (1756, 0.031190427291645013), (1757, 0.0), (1758, 0.005942247741256326), (1759, 0.019980768752755486), (1760, 0.01013955344830167), (1761, 0.0), (1762, 0.004722056042023304), (1763, 0.0), (1764, 0.009801522427492864), (1765, 0.010610863771588918), (1766, 0.011329231102996424), (1767, 0.0), (1768, 0.005246582040020146), (1769, 0.029473404532822597), (1770, 0.0), (1771, 0.00973882341619338), (1772, 0.00982905258463575), (1773, 0.0), (1774, 0.03406025814024434), (1775, 0.019188934758073928), (1776, 0.0), (1777, 0.0), (1778, 0.014486597059173444), (1779, 0.0), (1780, 0.0), (1781, 0.02201300828674258), (1782, 0.005059992751973604), (1783, 0.00994522634280011), (1784, 0.013790323407761696), (1785, 0.0), (1786, 0.0), (1787, 0.019076944909915114), (1788, 0.14585684608461705), (1789, 0.00546905520304415), (1790, 0.0), (1791, 0.022647736380670268), (1792, 0.011643702663139016), (1793, 0.005024729805065868), (1794, 0.014996023796869266), (1795, 0.0), (1796, 0.00547598508302274), (1797, 0.02507898650430098), (1798, 0.011992477243176258), (1799, 0.018019988207981615), (1800, 0.0), (1801, 0.0), (1802, 0.014273854119293133), (1803, 0.03971844536983586), (1804, 0.009826347125111186), (1805, 0.0), (1806, 0.011475511718480755), (1807, 0.0), (1808, 0.004804982354191746), (1809, 0.005184425492207646), (1810, 0.012021501562467373), (1811, 0.0), (1812, 0.011923906951079742), (1813, 0.0), (1814, 0.010204937072347368), (1815, 0.0065857586836809215), (1816, 0.02267686279061499), (1817, 0.023002450865928385), (1818, 0.010299777911758273), (1819, 0.0), (1820, 0.0), (1821, 0.08964136162946727), (1822, 0.017157200225468523), (1823, 0.010040221415346908), (1824, 0.01430201424429039), (1825, 0.010115508329390913), (1826, 0.0), (1827, 0.009136936502642148), (1828, 0.0049039087568995485), (1829, 0.0), (1830, 0.008970254723527455), (1831, 0.0), (1832, 0.0), (1833, 0.009308089267995864), (1834, 0.0), (1835, 0.0), (1836, 0.01118997199702093), (1837, 0.010135898131518713), (1838, 0.017491776398499952), (1839, 0.009353726928297737), (1840, 0.010129658112834698), (1841, 0.011785419874298757), (1842, 0.00974767008919396), (1843, 0.0), (1844, 0.0), (1845, 0.030231857876216767), (1846, 0.037085495796191956), (1847, 0.036298507675075774), (1848, 0.023002871932439765), (1849, 0.016302405105726274), (1850, 0.023025098700490354), (1851, 0.016222333878548312), (1852, 0.016354201083735694), (1853, 0.006027405636319451), (1854, 0.0), (1855, 0.0), (1856, 0.0), (1857, 0.005196289362511019), (1858, 0.01750735952341865), (1859, 0.0), (1860, 0.0), (1861, 0.03042221211256818), (1862, 0.0), (1863, 0.0), (1864, 0.0), (1865, 0.018018408001588444), (1866, 0.0), (1867, 0.009817831636002276), (1868, 0.0), (1869, 0.0), (1870, 0.005165123746956423), (1871, 0.023829511748951638), (1872, 0.0), (1873, 0.0), (1874, 0.0), (1875, 0.0), (1876, 0.006031723556994312), (1877, 0.009425149065932534), (1878, 0.009516669219216534), (1879, 0.0), (1880, 0.009885919052180527), (1881, 0.03259741743645749), (1882, 0.0), (1883, 0.04548420776969227), (1884, 0.0), (1885, 0.0), (1886, 0.00470793179976643), (1887, 0.005921430381456924), (1888, 0.02475133501536978), (1889, 0.010239821456368137), (1890, 0.0), (1891, 0.0), (1892, 0.0), (1893, 0.026945682079761363), (1894, 0.0062370148154905014), (1895, 0.010289476827156295), (1896, 0.011899922939224136), (1897, 0.02061936163020574), (1898, 0.014918789605320181), (1899, 0.009277524679462596), (1900, 0.009574419635309424), (1901, 0.005958870638176739), (1902, 0.010367178937482029), (1903, 0.01387294430058915), (1904, 0.006248417296514227), (1905, 0.0), (1906, 0.010814294586169492), (1907, 0.0056520515769596024), (1908, 0.005376749194979759), (1909, 0.0), (1910, 0.03743284785727919), (1911, 0.010293932360510736), (1912, 0.009790873633829208), (1913, 0.009663661741013645), (1914, 0.004818458808642502), (1915, 0.027110631416552906), (1916, 0.0), (1917, 0.0), (1918, 0.0), (1919, 0.03157205327147006), (1920, 0.0), (1921, 0.010650362473910713), (1922, 0.0), (1923, 0.01090890897635392), (1924, 0.0), (1925, 0.027839320507590477), (1926, 0.010798660347249044), (1927, 0.0), (1928, 0.0), (1929, 0.009442584450637137), (1930, 0.011458491942359242), (1931, 0.005867903578791904), (1932, 0.0), (1933, 0.0), (1934, 0.005145391524546316), (1935, 0.05199610130839368), (1936, 0.024945586802587575), (1937, 0.0056509002469846015), (1938, 0.0), (1939, 0.02039420106991162), (1940, 0.0), (1941, 0.01811966618920989), (1942, 0.0), (1943, 0.008574941950861682), (1944, 0.0), (1945, 0.016875164669197074), (1946, 0.0), (1947, 0.0), (1948, 0.015289044149809328), (1949, 0.023182735246628627), (1950, 0.0043958820945878595), (1951, 0.026685554152367348), (1952, 0.023834922023390707), (1953, 0.03976064135019704), (1954, 0.008716249826416562), (1955, 0.022465102575159768), (1956, 0.010252076234426425), (1957, 0.008855857353436936), (1958, 0.0), (1959, 0.039429644677513594), (1960, 0.0), (1961, 0.026554714203372916), (1962, 0.039855152982636734), (1963, 0.008402003102336497), (1964, 0.009455730440491496), (1965, 0.02725258234001928), (1966, 0.0), (1967, 0.0), (1968, 0.012264986855342275), (1969, 0.01620958736042174), (1970, 0.0), (1971, 0.009782786560064366), (1972, 0.0), (1973, 0.019856304620256497), (1974, 0.009241289083905091), (1975, 0.0), (1976, 0.006220294808081858), (1977, 0.005119864862932088), (1978, 0.0), (1979, 0.0), (1980, 0.008929063908212926), (1981, 0.022034659114832322), (1982, 0.018838083014696), (1983, 0.0), (1984, 0.04962074014253921), (1985, 0.022319667670975978), (1986, 0.0099302614976184), (1987, 0.019008229097350483), (1988, 0.005019327859984462), (1989, 0.0), (1990, 0.004791020301453181), (1991, 0.0), (1992, 0.05104245101707848), (1993, 0.0), (1994, 0.004738755727109741), (1995, 0.0), (1996, 0.035687943139255496), (1997, 0.005731109983527282), (1998, 0.0), (1999, 0.011092861053567245), (2000, 0.012888546471804038), (2001, 0.041856759868982456), (2002, 0.0), (2003, 0.0346326942577974), (2004, 0.0), (2005, 0.009690765071799601), (2006, 0.008591640753875002), (2007, 0.008972325727268146), (2008, 0.029460421345189204), (2009, 0.011887059297432232), (2010, 0.004737175179745858), (2011, 0.01790971967671642), (2012, 0.023353214137952237), (2013, 0.008795852960145407), (2014, 0.015732826410381966), (2015, 0.006064778373771872), (2016, 0.011676228001009098), (2017, 0.005263121464813904), (2018, 0.008396930011012264), (2019, 0.009852980036226944), (2020, 0.028671520254900624), (2021, 0.01717180050590543), (2022, 0.008626201639964479), (2023, 0.0), (2024, 0.016539963660553283), (2025, 0.004871379289752395), (2026, 0.04698832048989928), (2027, 0.005192330758216472), (2028, 0.0), (2029, 0.005066349708287634), (2030, 0.03794268590948076), (2031, 0.019628221573775924), (2032, 0.08447480271809037), (2033, 0.01398747935177097), (2034, 0.0), (2035, 0.01686297368127031), (2036, 0.01977142326487516), (2037, 0.005503978302275373), (2038, 0.0), (2039, 0.0), (2040, 0.0061817424093850645), (2041, 0.027237932443146005), (2042, 0.0), (2043, 0.023531784590700884), (2044, 0.017759754743923477), (2045, 0.010932594968252763), (2046, 0.029777212608210712), (2047, 0.018869939714661284), (2048, 0.0), (2049, 0.011216151228054055), (2050, 0.00958733984348728), (2051, 0.0), (2052, 0.005639036911869022), (2053, 0.011654751975430682), (2054, 0.0), (2055, 0.009946180610160282), (2056, 0.014859061026681771), (2057, 0.027902171098804038), (2058, 0.04487433637932057), (2059, 0.0), (2060, 0.009842080941850535), (2061, 0.010887803661939775), (2062, 0.0099084995494557), (2063, 0.0), (2064, 0.02210639908330639), (2065, 0.014351731853932997), (2066, 0.03932440932491303), (2067, 0.006080121289698835), (2068, 0.020343009458444715), (2069, 0.01842547116678327), (2070, 0.004464468481642561), (2071, 0.016067897537310857), (2072, 0.005429849316125608), (2073, 0.0), (2074, 0.00936001011530491), (2075, 0.007300810730663524), (2076, 0.008497173336595103), (2077, 0.018809843479491047), (2078, 0.004636574856782816), (2079, 0.005883644339948771), (2080, 0.0), (2081, 0.016293843151227547), (2082, 0.01762668540848176), (2083, 0.005983498532961349), (2084, 0.032342237933876604), (2085, 0.0060990577124613995), (2086, 0.010601691296377311), (2087, 0.009891275192285727), (2088, 0.006085262206025575), (2089, 0.0), (2090, 0.010403943757485138), (2091, 0.005969297549249549), (2092, 0.0), (2093, 0.014784498510514364), (2094, 0.0103036880986551), (2095, 0.0), (2096, 0.0), (2097, 0.01205510692388723), (2098, 0.0), (2099, 0.02472952929737449), (2100, 0.0), (2101, 0.010975609872050903), (2102, 0.010216466209866082), (2103, 0.005591819910086018), (2104, 0.0), (2105, 0.0), (2106, 0.020658635274352483), (2107, 0.02010932907202365), (2108, 0.011193023460399177), (2109, 0.04086728924493111), (2110, 0.010317444053183111), (2111, 0.019409785482251033), (2112, 0.005640491739742835), (2113, 0.004872862735770167), (2114, 0.01384393273934518), (2115, 0.020604467818973696), (2116, 0.01098248198277668), (2117, 0.005500103279794322), (2118, 0.006672200003329985), (2119, 0.0), (2120, 0.0), (2121, 0.01085220809733331), (2122, 0.009893049223576662), (2123, 0.0), (2124, 0.005917560586431663), (2125, 0.01599036218812383), (2126, 0.005522465661855524), (2127, 0.0), (2128, 0.005128920905361862), (2129, 0.0), (2130, 0.0), (2131, 0.01482423548280144), (2132, 0.0), (2133, 0.01973270153600437), (2134, 0.01275348532457002), (2135, 0.0), (2136, 0.017790232951188124), (2137, 0.013495742303548353), (2138, 0.0), (2139, 0.0054152693596672625), (2140, 0.010471667863741176), (2141, 0.0), (2142, 0.0), (2143, 0.0), (2144, 0.016866240620516178), (2145, 0.05545556987485589), (2146, 0.008976286755284198), (2147, 0.02567237123920232), (2148, 0.03201581559712008), (2149, 0.0), (2150, 0.014968913518771443), (2151, 0.021314514477987913), (2152, 0.033988206772175435), (2153, 0.015469099671128878), (2154, 0.0), (2155, 0.05533697599554438), (2156, 0.004651165169029997), (2157, 0.008534144291470848), (2158, 0.011171864553897607), (2159, 0.0), (2160, 0.05804992924385446), (2161, 0.05299018221751003), (2162, 0.0), (2163, 0.0), (2164, 0.006547066902654027), (2165, 0.0), (2166, 0.030964467079992317), (2167, 0.03441977600043382), (2168, 0.018717023731580497), (2169, 0.005268583117417711), (2170, 0.009267523353906794), (2171, 0.0), (2172, 0.0), (2173, 0.0), (2174, 0.0), (2175, 0.009904120898412217), (2176, 0.0), (2177, 0.013983490429361726), (2178, 0.02160312603109883), (2179, 0.009750458549517909), (2180, 0.012469811452873777), (2181, 0.012047072370893655), (2182, 0.0), (2183, 0.0), (2184, 0.005540664902814241), (2185, 0.005183600901274913), (2186, 0.01170993678764963), (2187, 0.011353116687279632), (2188, 0.0067439032680334556), (2189, 0.0), (2190, 0.0), (2191, 0.018221860816720076), (2192, 0.010039474530556156), (2193, 0.015341155555822713), (2194, 0.042010420902334936), (2195, 0.0051262290466776005), (2196, 0.0), (2197, 0.004896777854615899), (2198, 0.005283077878429773), (2199, 0.012605921713232908), (2200, 0.0), (2201, 0.009286240978123523), (2202, 0.03748635799924377), (2203, 0.01521693340731488), (2204, 0.004505589167918746), (2205, 0.005338500769097301), (2206, 0.005562405955742094), (2207, 0.009626198944359033), (2208, 0.016429441432350818), (2209, 0.01116730515624684), (2210, 0.005615739010872855), (2211, 0.013015818843419985), (2212, 0.024804025782341404), (2213, 0.0), (2214, 0.0), (2215, 0.010299936719776756), (2216, 0.0), (2217, 0.016038502092665587), (2218, 0.016392432394291605), (2219, 0.0), (2220, 0.04435815106696679), (2221, 0.025229104159510796), (2222, 0.027350401775244934), (2223, 0.010952289203040772), (2224, 0.015090987495811628), (2225, 0.009214905591211058), (2226, 0.0), (2227, 0.005083459151084754), (2228, 0.01249926827860657), (2229, 0.019101775101228718), (2230, 0.0), (2231, 0.0), (2232, 0.005594477591868905), (2233, 0.006010572487486005), (2234, 0.019926348015975894), (2235, 0.0), (2236, 0.01877206404433395), (2237, 0.041140336300030514), (2238, 0.0), (2239, 0.021166128309000023), (2240, 0.008931075678295706), (2241, 0.01611300542272636), (2242, 0.010341411257771004), (2243, 0.006254308912883254), (2244, 0.017847249739694003), (2245, 0.015506274898201899), (2246, 0.005358491357322576), (2247, 0.0), (2248, 0.0), (2249, 0.010300188288369828), (2250, 0.005145347980100061), (2251, 0.0), (2252, 0.01141278302900817), (2253, 0.013457207701496377), (2254, 0.0), (2255, 0.0), (2256, 0.01785664735328868), (2257, 0.0), (2258, 0.0), (2259, 0.005631607462781967), (2260, 0.011213708385248062), (2261, 0.011455726016991793), (2262, 0.013808672425081728), (2263, 0.0056551750632488325), (2264, 0.009048975916335559), (2265, 0.009183626536921273), (2266, 0.0), (2267, 0.0), (2268, 0.005285941326135442), (2269, 0.0), (2270, 0.00877824558571628), (2271, 0.0), (2272, 0.01026778026473427), (2273, 0.0), (2274, 0.005156927955292115), (2275, 0.007663818308471769), (2276, 0.038729251561510664), (2277, 0.01148265140044773), (2278, 0.005372166946021732), (2279, 0.0), (2280, 0.009790997365978306), (2281, 0.03470325411218213), (2282, 0.0), (2283, 0.0), (2284, 0.010130871407124256), (2285, 0.009444091474216794), (2286, 0.0), (2287, 0.009694087070860079), (2288, 0.0), (2289, 0.0), (2290, 0.009981722507432705), (2291, 0.004941030107840157), (2292, 0.040190253552203084), (2293, 0.0), (2294, 0.039073296067513155), (2295, 0.0), (2296, 0.009104252219194302), (2297, 0.010033615378946136), (2298, 0.005604156602491576), (2299, 0.0), (2300, 0.0), (2301, 0.0048259869811005385), (2302, 0.011317130383774052), (2303, 0.016016506419697915), (2304, 0.02215954285442203), (2305, 0.0), (2306, 0.0), (2307, 0.030959001991676498), (2308, 0.011800505330183866), (2309, 0.010534025837622935), (2310, 0.0), (2311, 0.004906133476233603), (2312, 0.0), (2313, 0.0), (2314, 0.0), (2315, 0.037546219900809995), (2316, 0.006014097008432307), (2317, 0.005146130203168371), (2318, 0.008742923316300775), (2319, 0.011416862521588515), (2320, 0.023853891961132773), (2321, 0.0), (2322, 0.0050620945775003865), (2323, 0.0), (2324, 0.0), (2325, 0.0), (2326, 0.00443114479525725), (2327, 0.009409698608637568), (2328, 0.0), (2329, 0.0148837649102755), (2330, 0.005962317631176857), (2331, 0.008597320702272792), (2332, 0.0), (2333, 0.012022898130958297), (2334, 0.023141103962471953), (2335, 0.009887329363841882), (2336, 0.010102076497048215), (2337, 0.03835776507775005), (2338, 0.009428948025079313), (2339, 0.005920196135553045), (2340, 0.01006507388918184), (2341, 0.0), (2342, 0.0), (2343, 0.0), (2344, 0.0), (2345, 0.011944477046510726), (2346, 0.0), (2347, 0.0), (2348, 0.022822658950284024), (2349, 0.0), (2350, 0.0), (2351, 0.017934993133081355), (2352, 0.014689256056107932), (2353, 0.01621054295835897), (2354, 0.0), (2355, 0.0), (2356, 0.0063612105603268985), (2357, 0.01149515888769869), (2358, 0.0), (2359, 0.0), (2360, 0.0), (2361, 0.006268876662478366), (2362, 0.01961304517379595), (2363, 0.026619541112399794), (2364, 0.008452566826940856), (2365, 0.0), (2366, 0.0), (2367, 0.014148616183320811), (2368, 0.011743037101098605), (2369, 0.0), (2370, 0.0), (2371, 0.0), (2372, 0.0), (2373, 0.0), (2374, 0.0), (2375, 0.010732624071892797), (2376, 0.008240702451843829), (2377, 0.004345393605117986), (2378, 0.006978588029005457), (2379, 0.01382840948013583), (2380, 0.0), (2381, 0.07775885768093299), (2382, 0.0), (2383, 0.006298837843526466), (2384, 0.0), (2385, 0.010060828560782725), (2386, 0.0), (2387, 0.021743663401423512), (2388, 0.0), (2389, 0.014278216566168095), (2390, 0.0), (2391, 0.010771015864249198), (2392, 0.0), (2393, 0.0), (2394, 0.010930821661697251), (2395, 0.014073165660843238), (2396, 0.01009666807948334), (2397, 0.04438767955630685), (2398, 0.0040936934528905755), (2399, 0.014380619467069037), (2400, 0.0), (2401, 0.0), (2402, 0.009621950143928642), (2403, 0.0304662349040854), (2404, 0.02841810492876904), (2405, 0.0), (2406, 0.0), (2407, 0.0), (2408, 0.0), (2409, 0.014654623858932927), (2410, 0.011201591335006707), (2411, 0.0), (2412, 0.014005725311443052), (2413, 0.006034352751022159), (2414, 0.005278652947268388), (2415, 0.007291299366238824), (2416, 0.00537997052166871), (2417, 0.0), (2418, 0.0057001780662509485), (2419, 0.03075750333589872), (2420, 0.010931183137425148), (2421, 0.011106749913228998), (2422, 0.020451077262284973), (2423, 0.01290518347110507), (2424, 0.014741496235072035), (2425, 0.0), (2426, 0.014343798332840257), (2427, 0.03190836438718492), (2428, 0.006857509925510407), (2429, 0.005500889422491464), (2430, 0.005109689840433633), (2431, 0.01577853913577382), (2432, 0.005574729647750382), (2433, 0.01429912938103929), (2434, 0.011873103149866903), (2435, 0.009943923866095175), (2436, 0.005779677433785964), (2437, 0.0), (2438, 0.0), (2439, 0.014017969814833858), (2440, 0.00978358276953477), (2441, 0.008262985972032169), (2442, 0.049548837234647425), (2443, 0.017021684096821074), (2444, 0.021602243288258376), (2445, 0.0), (2446, 0.014597263622824012), (2447, 0.03720478575114041), (2448, 0.0), (2449, 0.010225109861206285), (2450, 0.00982903046100135), (2451, 0.0), (2452, 0.012281174633538157), (2453, 0.0), (2454, 0.0), (2455, 0.014469452931590967), (2456, 0.010206843468300815), (2457, 0.0), (2458, 0.006109885618435782), (2459, 0.02604562662947722), (2460, 0.0), (2461, 0.009551167359402476), (2462, 0.0), (2463, 0.0), (2464, 0.011841851707261859), (2465, 0.0), (2466, 0.0), (2467, 0.00954368641377483), (2468, 0.01861406516677227), (2469, 0.022578248482695448), (2470, 0.0), (2471, 0.0), (2472, 0.010470250430127927), (2473, 0.0), (2474, 0.012617148433292053), (2475, 0.0), (2476, 0.006516140651361897), (2477, 0.0), (2478, 0.023915051278367537), (2479, 0.01869131279913555), (2480, 0.0051354788368921786), (2481, 0.021244134122571888), (2482, 0.0), (2483, 0.0), (2484, 0.0), (2485, 0.011954051880957196), (2486, 0.011530277561472858), (2487, 0.015965644989084947), (2488, 0.011936554677752302), (2489, 0.0), (2490, 0.0), (2491, 0.004878724626041461), (2492, 0.02082482609924946), (2493, 0.017674884440695326), (2494, 0.015668560845861837), (2495, 0.02199132076591303), (2496, 0.0), (2497, 0.009240874803948973), (2498, 0.04256243859259009), (2499, 0.010225177525692892), (2500, 0.013747009566684397), (2501, 0.011123904718495739), (2502, 0.0), (2503, 0.00523325484101522), (2504, 0.0355558666902135), (2505, 0.0), (2506, 0.006155196317851508), (2507, 0.010768219491385149), (2508, 0.0), (2509, 0.01790087365440069), (2510, 0.011760553317864842), (2511, 0.015647257730115292), (2512, 0.009621198075739553), (2513, 0.019996360721949054), (2514, 0.014873321746454136), (2515, 0.0), (2516, 0.0), (2517, 0.0), (2518, 0.005874392480772995), (2519, 0.028634027723686326), (2520, 0.0), (2521, 0.044112632822190787), (2522, 0.0061836258451691516), (2523, 0.0), (2524, 0.0), (2525, 0.031900009881254576), (2526, 0.004444470918565006), (2527, 0.0), (2528, 0.07155199396157588), (2529, 0.01437915867800934), (2530, 0.007069815335028038), (2531, 0.0418516079360489), (2532, 0.0), (2533, 0.0), (2534, 0.007277738085075167), (2535, 0.011728117490061408), (2536, 0.0), (2537, 0.013346685501953375), (2538, 0.07428079492421515), (2539, 0.008875686254949), (2540, 0.01615663446871713), (2541, 0.0), (2542, 0.0), (2543, 0.058776376485452066), (2544, 0.003960812777577697), (2545, 0.0), (2546, 0.02822026332046594), (2547, 0.006470365948497263), (2548, 0.0), (2549, 0.005753496237467803), (2550, 0.0565475026850423), (2551, 0.0), (2552, 0.004925665537279168), (2553, 0.019748331988039408), (2554, 0.01631200133857205), (2555, 0.006282901346187009), (2556, 0.0), (2557, 0.0), (2558, 0.0), (2559, 0.0075557589451483624), (2560, 0.027824479273165066), (2561, 0.023080040800266523), (2562, 0.00794602324420312), (2563, 0.0), (2564, 0.0), (2565, 0.04268247444148854), (2566, 0.02209801198337637), (2567, 0.006914210577601085), (2568, 0.007194445440065237), (2569, 0.01025305674127827), (2570, 0.011735431497546557), (2571, 0.0), (2572, 0.0), (2573, 0.004798059661591837), (2574, 0.02739587487374669), (2575, 0.023703255500778647), (2576, 0.025033056512562307), (2577, 0.0), (2578, 0.0), (2579, 0.0), (2580, 0.01687268042047986), (2581, 0.02536884813314068), (2582, 0.020987155645424332), (2583, 0.0), (2584, 0.038159717117573086), (2585, 0.0), (2586, 0.021599897768823303), (2587, 0.022355339570792138), (2588, 0.01054082795562158), (2589, 0.0), (2590, 0.009710949208222925), (2591, 0.00897918554357912), (2592, 0.011046518402570982), (2593, 0.0), (2594, 0.009578258035704824), (2595, 0.0), (2596, 0.0), (2597, 0.016162930270051952), (2598, 0.0), (2599, 0.0), (2600, 0.020482645210526652), (2601, 0.010636949593311889), (2602, 0.0), (2603, 0.013034293985777816), (2604, 0.011036030348804866), (2605, 0.010494002267251156), (2606, 0.0), (2607, 0.0), (2608, 0.013990497469460319), (2609, 0.0), (2610, 0.026261613723280494), (2611, 0.004745098196360597), (2612, 0.04842701202843732), (2613, 0.0), (2614, 0.0), (2615, 0.013858100367476993), (2616, 0.062349417888689314), (2617, 0.009358754639178943), (2618, 0.0), (2619, 0.01185908789074733), (2620, 0.0), (2621, 0.0), (2622, 0.01858686101089705), (2623, 0.0), (2624, 0.0), (2625, 0.03771165464893558), (2626, 0.016859822027631345), (2627, 0.03131086858756698), (2628, 0.0), (2629, 0.0), (2630, 0.01163048978422191), (2631, 0.004946662128079304), (2632, 0.010624718092181464), (2633, 0.027748483803401485), (2634, 0.0055527186688976455), (2635, 0.011415477029334297), (2636, 0.003937472224276656), (2637, 0.0), (2638, 0.0), (2639, 0.0), (2640, 0.011109261779333236), (2641, 0.0), (2642, 0.02035115728638463), (2643, 0.0), (2644, 0.03797263990496988), (2645, 0.014195578952991277), (2646, 0.01267513612902973), (2647, 0.02243685901212773), (2648, 0.0), (2649, 0.0), (2650, 0.0), (2651, 0.037600921589047785), (2652, 0.0), (2653, 0.051718881637026565), (2654, 0.02246170009881486), (2655, 0.0), (2656, 0.024947641074655504), (2657, 0.007873925204848503), (2658, 0.0), (2659, 0.00786710975198553), (2660, 0.013977381022772602), (2661, 0.010356224412602665), (2662, 0.022405191949492455), (2663, 0.019604890883523938), (2664, 0.0), (2665, 0.01711808754396909), (2666, 0.014443980137871865), (2667, 0.008002050308091974), (2668, 0.0166457315968346), (2669, 0.0), (2670, 0.006576122086618288), (2671, 0.007650689346415086), (2672, 0.006450590240411848), (2673, 0.006559140918957838), (2674, 0.005507422240305829), (2675, 0.005627121670214103), (2676, 0.00660354349286129), (2677, 0.009859122770090744), (2678, 0.015979096580779777), (2679, 0.0), (2680, 0.01524106796901183), (2681, 0.03706300609656618), (2682, 0.009960709467180834), (2683, 0.0), (2684, 0.0), (2685, 0.010125015999955632), (2686, 0.0), (2687, 0.009904250767434857), (2688, 0.034704100092195836), (2689, 0.032178293325370234), (2690, 0.009994012714284807), (2691, 0.011298232192698352), (2692, 0.017365201972850405), (2693, 0.00978644609903797), (2694, 0.0), (2695, 0.0), (2696, 0.011729536901939104), (2697, 0.00476469149759905), (2698, 0.005134978210288175), (2699, 0.009614395886181987), (2700, 0.0), (2701, 0.014729121415691639), (2702, 0.011456318161207183), (2703, 0.0), (2704, 0.0), (2705, 0.0), (2706, 0.021069335986523156), (2707, 0.006735910934815119), (2708, 0.0), (2709, 0.01072771710763917), (2710, 0.0063878067816190405), (2711, 0.0054244065603723576), (2712, 0.005534588007528542), (2713, 0.005865009884253142), (2714, 0.017820303545111167), (2715, 0.013212255313857876), (2716, 0.0), (2717, 0.0), (2718, 0.005266155695749821), (2719, 0.0), (2720, 0.023797894742745008), (2721, 0.018777144494685434), (2722, 0.03710282781547743), (2723, 0.0), (2724, 0.009415056359601038), (2725, 0.005445490571936988), (2726, 0.010184760018373606), (2727, 0.012203628417350038), (2728, 0.009500757015238993), (2729, 0.03184208954004936), (2730, 0.025213691478536304), (2731, 0.0), (2732, 0.02574310486432331), (2733, 0.0), (2734, 0.0042329102639874884), (2735, 0.0), (2736, 0.0), (2737, 0.015608749799803503), (2738, 0.03179183430166324), (2739, 0.0), (2740, 0.006056095322725515), (2741, 0.060990292176253576), (2742, 0.005261391971183939), (2743, 0.0), (2744, 0.010217626074603416), (2745, 0.09418920947107626), (2746, 0.010151840287061955), (2747, 0.018048277740645102), (2748, 0.0), (2749, 0.00978363571668562), (2750, 0.0), (2751, 0.0054062131784434145), (2752, 0.0), (2753, 0.009680749088126536), (2754, 0.01763135055223022), (2755, 0.0375847185873772), (2756, 0.01204397837101626), (2757, 0.0), (2758, 0.00835711588203261), (2759, 0.0), (2760, 0.0), (2761, 0.0044444317552245), (2762, 0.009547862501438657), (2763, 0.0200806693696412), (2764, 0.01393585713900912), (2765, 0.010113507819703282), (2766, 0.008382637089760394), (2767, 0.004530257138269915), (2768, 0.007903008898059853), (2769, 0.011511481825849787), (2770, 0.009085305946044332), (2771, 0.009907432263468397), (2772, 0.006805204001922617), (2773, 0.02892401866012544), (2774, 0.017684157715275366), (2775, 0.0), (2776, 0.010589297280280982), (2777, 0.010624321543128548), (2778, 0.006976948308108323), (2779, 0.0), (2780, 0.023785989284458107), (2781, 0.011986989959408816), (2782, 0.022955581853859333), (2783, 0.0), (2784, 0.0), (2785, 0.033559843127735155), (2786, 0.05734374162684649), (2787, 0.026224852443510308), (2788, 0.005846404858461466), (2789, 0.004422598743771509), (2790, 0.01712867212309063), (2791, 0.034583200641462156), (2792, 0.005350919786552333), (2793, 0.01057308592124394), (2794, 0.010197001184619529), (2795, 0.02163647853840337), (2796, 0.011691222153268904), (2797, 0.012492817421832487), (2798, 0.005500195997446025), (2799, 0.011081144882428092), (2800, 0.0), (2801, 0.00460874726153623), (2802, 0.0), (2803, 0.005302151301333458), (2804, 0.009808667312188112), (2805, 0.008693615894099069), (2806, 0.0), (2807, 0.01543469808793348), (2808, 0.005177390723669648), (2809, 0.0054793231471324), (2810, 0.018083442756372255), (2811, 0.016829256351441415), (2812, 0.015273460432000632), (2813, 0.010054210318782624), (2814, 0.018472734856005153), (2815, 0.005715686703093996), (2816, 0.015900194303705054), (2817, 0.02779017679815617), (2818, 0.00746217351170025), (2819, 0.00618015423933051), (2820, 0.013780216544355732), (2821, 0.0), (2822, 0.004999755529630578), (2823, 0.02903060573121243), (2824, 0.0), (2825, 0.015385904354841988), (2826, 0.005629186496676518), (2827, 0.0), (2828, 0.0), (2829, 0.00948699008536686), (2830, 0.0), (2831, 0.0), (2832, 0.013781652584951148), (2833, 0.008817029563306033), (2834, 0.018454373893095743), (2835, 0.0), (2836, 0.009878626587451015), (2837, 0.0), (2838, 0.05967979404891258), (2839, 0.0), (2840, 0.006382956238660589), (2841, 0.006006285167647548), (2842, 0.004509152356938722), (2843, 0.017434893889775985), (2844, 0.031181323064792876), (2845, 0.0), (2846, 0.011719522350581916), (2847, 0.005597962602793828), (2848, 0.0), (2849, 0.0), (2850, 0.00564040210700598), (2851, 0.0), (2852, 0.060711088735345045), (2853, 0.043262469464810924), (2854, 0.01205490879932718), (2855, 0.013863740872308922), (2856, 0.0102706623119318), (2857, 0.011751208103995577), (2858, 0.029263901649972043), (2859, 0.004992700852199732), (2860, 0.006182994414531516), (2861, 0.0), (2862, 0.010363946678358622), (2863, 0.0), (2864, 0.007127728681138041), (2865, 0.016301075645625423), (2866, 0.00979406193571894), (2867, 0.0417095776548417), (2868, 0.0), (2869, 0.013260067442767047), (2870, 0.023150979286707476), (2871, 0.0), (2872, 0.011707346458880375), (2873, 0.01671852989082891), (2874, 0.00906822191653344), (2875, 0.0), (2876, 0.008566639427451141), (2877, 0.0), (2878, 0.016222774573678843), (2879, 0.0), (2880, 0.017005182165000965), (2881, 0.006581690114593702), (2882, 0.02240313371975599), (2883, 0.0), (2884, 0.0331951863802978), (2885, 0.0), (2886, 0.0), (2887, 0.0), (2888, 0.006458328820442965), (2889, 0.0), (2890, 0.0), (2891, 0.013793662090366596), (2892, 0.0049878863005221475), (2893, 0.02244234755024111), (2894, 0.0), (2895, 0.0068010181244546235), (2896, 0.0), (2897, 0.014796514107644751), (2898, 0.018397967713457395), (2899, 0.005366867597905642), (2900, 0.005472731675204295), (2901, 0.0), (2902, 0.0), (2903, 0.012237773344597639), (2904, 0.0), (2905, 0.0), (2906, 0.004776953359076586), (2907, 0.0), (2908, 0.004594866123758201), (2909, 0.0), (2910, 0.04809097814069919), (2911, 0.005585260846507715), (2912, 0.00985812872497879), (2913, 0.013663548599068459), (2914, 0.0), (2915, 0.0), (2916, 0.0), (2917, 0.0), (2918, 0.005663271052722332), (2919, 0.0), (2920, 0.015153518697478888), (2921, 0.012202053864281406), (2922, 0.007594544074531808), (2923, 0.0), (2924, 0.011256770044358762), (2925, 0.008113340114508514), (2926, 0.01056988932254377), (2927, 0.0), (2928, 0.012742939879057688), (2929, 0.0), (2930, 0.011856359622885377), (2931, 0.009540742797594265), (2932, 0.0), (2933, 0.013406814058533594), (2934, 0.0), (2935, 0.00542254748576221), (2936, 0.019039724725556834), (2937, 0.008137401245712217), (2938, 0.005126625740017036), (2939, 0.0), (2940, 0.021688381642863613), (2941, 0.0), (2942, 0.004628057790059704), (2943, 0.006416522593024027), (2944, 0.03351918411330439), (2945, 0.009853283610758486), (2946, 0.0), (2947, 0.006405181950622503), (2948, 0.012630256155846521), (2949, 0.01997702703787541), (2950, 0.016707098457995565), (2951, 0.016322250537140388), (2952, 0.0), (2953, 0.0), (2954, 0.014248572016898362), (2955, 0.006170282056190682), (2956, 0.0), (2957, 0.0), (2958, 0.0), (2959, 0.006076438804111861), (2960, 0.0), (2961, 0.0), (2962, 0.024594093625355876), (2963, 0.011624688949525572), (2964, 0.0), (2965, 0.010769760047135557), (2966, 0.0), (2967, 0.0), (2968, 0.0), (2969, 0.009386329860143473), (2970, 0.010754108823885014), (2971, 0.014792282448716413), (2972, 0.026699746326121425), (2973, 0.010195630894317386), (2974, 0.0), (2975, 0.00923401459066396), (2976, 0.0), (2977, 0.0), (2978, 0.010605037611265375), (2979, 0.010950104988236963), (2980, 0.0), (2981, 0.009188195700607528), (2982, 0.011225997274450682), (2983, 0.012828204806781146), (2984, 0.017331688493419154), (2985, 0.0044163408511907485), (2986, 0.011701623629303996), (2987, 0.0), (2988, 0.0), (2989, 0.0), (2990, 0.00774979185340468), (2991, 0.022277697956801304), (2992, 0.025192387681030205), (2993, 0.0), (2994, 0.01109108803477037), (2995, 0.01918096985092003), (2996, 0.011021720551793894), (2997, 0.0), (2998, 0.008248756884344077), (2999, 0.01058584238820246), (3000, 0.0), (3001, 0.0), (3002, 0.0), (3003, 0.02361326977737946), (3004, 0.0), (3005, 0.0), (3006, 0.0), (3007, 0.01227113846887256), (3008, 0.012574606897851571), (3009, 0.02767768590147664), (3010, 0.005070312076532335), (3011, 0.005074583228430671), (3012, 0.0), (3013, 0.0), (3014, 0.0), (3015, 0.0), (3016, 0.010135969813378602), (3017, 0.012101060521304144), (3018, 0.015434322669353228), (3019, 0.0), (3020, 0.012207064255317902), (3021, 0.0), (3022, 0.043922301054663035), (3023, 0.0), (3024, 0.029811469382731916), (3025, 0.0), (3026, 0.05293404205332913), (3027, 0.004829201414356357), (3028, 0.004972806841803788), (3029, 0.0), (3030, 0.0), (3031, 0.0), (3032, 0.0), (3033, 0.015235689116044893), (3034, 0.01021547342785193), (3035, 0.0), (3036, 0.035977726184191455), (3037, 0.0), (3038, 0.0), (3039, 0.011225594121861448), (3040, 0.01398866215550528), (3041, 0.0), (3042, 0.013243010356536019), (3043, 0.012129929574623775), (3044, 0.017767025089751757), (3045, 0.004753744162128258), (3046, 0.005034979597208155), (3047, 0.0), (3048, 0.0), (3049, 0.0), (3050, 0.00961044191645181), (3051, 0.0), (3052, 0.0), (3053, 0.0052275045362866045), (3054, 0.0), (3055, 0.0), (3056, 0.0), (3057, 0.0), (3058, 0.0), (3059, 0.006566566469862332), (3060, 0.0), (3061, 0.010362863012135076), (3062, 0.01831064021323751), (3063, 0.008897878574890983), (3064, 0.006704236478494138), (3065, 0.005110550590499887), (3066, 0.015026992088037585), (3067, 0.011002497224995973), (3068, 0.0), (3069, 0.03444252279744185), (3070, 0.014447210842044365), (3071, 0.014125879658232008), (3072, 0.0), (3073, 0.021923523356885063), (3074, 0.0), (3075, 0.0), (3076, 0.039278109474532), (3077, 0.018842861796920112), (3078, 0.012563384497407033), (3079, 0.010513048919863488), (3080, 0.011554662196933864), (3081, 0.0), (3082, 0.0), (3083, 0.045073767493550215), (3084, 0.01042073900490843), (3085, 0.005461954765420424), (3086, 0.0), (3087, 0.0), (3088, 0.0), (3089, 0.011942410838105202), (3090, 0.0), (3091, 0.01655941904230611), (3092, 0.0), (3093, 0.0), (3094, 0.0), (3095, 0.0), (3096, 0.00498048364073901), (3097, 0.01672813488630881), (3098, 0.03577180826230945), (3099, 0.005250986341047203), (3100, 0.0055838099946432925), (3101, 0.0), (3102, 0.03037709336249484), (3103, 0.0), (3104, 0.0), (3105, 0.0), (3106, 0.0), (3107, 0.0), (3108, 0.02325944793166913), (3109, 0.011096660537269324), (3110, 0.0), (3111, 0.021995786236957), (3112, 0.006226925809213017), (3113, 0.010481128718971972), (3114, 0.005390221976278798), (3115, 0.008333234179944886), (3116, 0.0), (3117, 0.0), (3118, 0.0), (3119, 0.0), (3120, 0.0), (3121, 0.005087380241023029), (3122, 0.010387020125440356), (3123, 0.0), (3124, 0.005862206269055901), (3125, 0.0053756278372948055), (3126, 0.005659750431054864), (3127, 0.014221810153760416), (3128, 0.0), (3129, 0.014002026755264489), (3130, 0.0), (3131, 0.005831541439082609), (3132, 0.006196592217577944), (3133, 0.005388321917592722), (3134, 0.00598919077436304), (3135, 0.02295079719394007), (3136, 0.00559928744731512), (3137, 0.017937289614197462), (3138, 0.0), (3139, 0.013804640756419058), (3140, 0.0), (3141, 0.020808165595325438), (3142, 0.020852348523803608), (3143, 0.09606444684035279), (3144, 0.023877052079644183), (3145, 0.0070911518702847795), (3146, 0.010973535873612291), (3147, 0.01853476323773795), (3148, 0.0), (3149, 0.01455048177942516), (3150, 0.01542327972338785), (3151, 0.033253673075814214), (3152, 0.0042889591854957596), (3153, 0.017167594588929826), (3154, 0.020254262132272785), (3155, 0.01019108817144876), (3156, 0.005874473364032323), (3157, 0.02247977813566845), (3158, 0.0), (3159, 0.014646272192643852), (3160, 0.0), (3161, 0.005604703787042229), (3162, 0.0), (3163, 0.0062493042293750405), (3164, 0.0), (3165, 0.006799170115321159), (3166, 0.06182219284717223), (3167, 0.0), (3168, 0.039044915473276556), (3169, 0.022658710243107866), (3170, 0.0), (3171, 0.0), (3172, 0.01290558976403403), (3173, 0.0), (3174, 0.005790734662921655), (3175, 0.010491399321675192), (3176, 0.0), (3177, 0.009489162771870164), (3178, 0.015367082952630177), (3179, 0.0), (3180, 0.0), (3181, 0.06827709713064738), (3182, 0.02041594811499549), (3183, 0.010856892781331444), (3184, 0.019751968994030016), (3185, 0.008270393906037343), (3186, 0.0), (3187, 0.01093583389755867), (3188, 0.13106021531653766), (3189, 0.010563299574757372), (3190, 0.0), (3191, 0.006279505966162466), (3192, 0.021797322576944722), (3193, 0.022643305660085027), (3194, 0.009556593231322524), (3195, 0.02811199699077644), (3196, 0.0), (3197, 0.055262788452415515), (3198, 0.010827707318697895), (3199, 0.019245952984280036), (3200, 0.0), (3201, 0.01493863075862079), (3202, 0.00627596982122499), (3203, 0.013136246931781297), (3204, 0.0), (3205, 0.02543858874158858), (3206, 0.006754164080093132), (3207, 0.0), (3208, 0.0), (3209, 0.0), (3210, 0.017823809893893122), (3211, 0.004636920907887538), (3212, 0.05857381591766952), (3213, 0.0048132282622128965), (3214, 0.029942175526838703), (3215, 0.0049705112213756395), (3216, 0.0), (3217, 0.013135384381572869), (3218, 0.01647617934204868), (3219, 0.0), (3220, 0.009611655695010237), (3221, 0.029884763248456497), (3222, 0.04649365012821741), (3223, 0.008995563977548453), (3224, 0.010411694391288093), (3225, 0.005952997966502302), (3226, 0.004816953721145621), (3227, 0.01746752473990476), (3228, 0.03484706988927161), (3229, 0.010521756242626907), (3230, 0.0), (3231, 0.013729304434323034), (3232, 0.01485581430451452), (3233, 0.00546316281732602), (3234, 0.01147291580550083), (3235, 0.0), (3236, 0.010444170721741267), (3237, 0.021612548655708778), (3238, 0.018694916463721355), (3239, 0.03719490947624717), (3240, 0.004992843063027104), (3241, 0.0059423347743469005), (3242, 0.0), (3243, 0.0), (3244, 0.009120387721436128), (3245, 0.010443534446064318), (3246, 0.009438793863695286), (3247, 0.005202429417579724), (3248, 0.0), (3249, 0.012258676226888006), (3250, 0.0), (3251, 0.0), (3252, 0.0), (3253, 0.03732801138010511), (3254, 0.0), (3255, 0.0), (3256, 0.011849048643905643), (3257, 0.0), (3258, 0.01139182143149167), (3259, 0.011670426944793642), (3260, 0.04944324229995223), (3261, 0.0), (3262, 0.0), (3263, 0.006686286197380753), (3264, 0.005586553396014353), (3265, 0.025495490702599412), (3266, 0.0), (3267, 0.014597034778452684), (3268, 0.0), (3269, 0.0), (3270, 0.031964230675069795), (3271, 0.021315715324285826), (3272, 0.0), (3273, 0.0), (3274, 0.0), (3275, 0.027571104153464147), (3276, 0.024254107845633838), (3277, 0.005697750549292745), (3278, 0.0), (3279, 0.0), (3280, 0.027095175673566917), (3281, 0.0), (3282, 0.012407726667321813), (3283, 0.01586545608843449), (3284, 0.014891190736293216), (3285, 0.014817134375432263), (3286, 0.00983100043562232), (3287, 0.02779916532267843), (3288, 0.03961412363301421), (3289, 0.029509798055235167), (3290, 0.010510246509649617), (3291, 0.0), (3292, 0.0), (3293, 0.015543855012400104), (3294, 0.019909114974248045), (3295, 0.014727252658674268), (3296, 0.0), (3297, 0.02119398058620584), (3298, 0.0), (3299, 0.0), (3300, 0.03358702708332954), (3301, 0.0), (3302, 0.0), (3303, 0.02684161655347527), (3304, 0.009067479510598959), (3305, 0.0), (3306, 0.010069814009418344), (3307, 0.0), (3308, 0.011648680586109121), (3309, 0.009604466443930258), (3310, 0.006131490885392667), (3311, 0.01946354134552576), (3312, 0.006469578724724902), (3313, 0.0), (3314, 0.0), (3315, 0.009787263226674031), (3316, 0.004115789441775104), (3317, 0.004340270265425097), (3318, 0.0), (3319, 0.009249417617970162), (3320, 0.014531942020908802), (3321, 0.005322830982346045), (3322, 0.0), (3323, 0.08378749906810191), (3324, 0.0), (3325, 0.0), (3326, 0.0), (3327, 0.0046940453569555745), (3328, 0.02020270256241938), (3329, 0.009062956448592997), (3330, 0.0052990432049241695), (3331, 0.0), (3332, 0.016079659755033254), (3333, 0.0), (3334, 0.0), (3335, 0.018958061292340487), (3336, 0.04342814633098113), (3337, 0.011520603197009373), (3338, 0.0), (3339, 0.004968966662927969), (3340, 0.0), (3341, 0.0), (3342, 0.0049014715320998955), (3343, 0.010727868446921938), (3344, 0.025558924532319706), (3345, 0.03769200619760618), (3346, 0.0), (3347, 0.0), (3348, 0.01008474258920485), (3349, 0.01061315344383797), (3350, 0.0), (3351, 0.010187236852509884), (3352, 0.03787407514333745), (3353, 0.0), (3354, 0.014116191856843575), (3355, 0.01979972181083921), (3356, 0.015301630855030258), (3357, 0.011912235642728745), (3358, 0.0), (3359, 0.0), (3360, 0.03585432929256495), (3361, 0.005330179906689414), (3362, 0.004369497624934951), (3363, 0.0), (3364, 0.01774849747700695), (3365, 0.00793767043391588), (3366, 0.009752341704471656), (3367, 0.005598450202115854), (3368, 0.011034934318242557), (3369, 0.0), (3370, 0.0), (3371, 0.011784673947487735), (3372, 0.0), (3373, 0.017352569096026865), (3374, 0.011661894813821273), (3375, 0.009995732342145205), (3376, 0.017382277891248746), (3377, 0.0), (3378, 0.0), (3379, 0.0), (3380, 0.0), (3381, 0.0), (3382, 0.01028731665886612), (3383, 0.006776864624365274), (3384, 0.012604399934834809), (3385, 0.012466958032944122), (3386, 0.015831459876406665), (3387, 0.0), (3388, 0.010375745269878877), (3389, 0.013978142959821405), (3390, 0.0), (3391, 0.0), (3392, 0.0), (3393, 0.013420047127121746), (3394, 0.0), (3395, 0.009256645754244492), (3396, 0.0), (3397, 0.025634470809793395), (3398, 0.01975955322101614), (3399, 0.015447795873048693), (3400, 0.010477755467407347), (3401, 0.0), (3402, 0.009860081037107433), (3403, 0.004623610606370044), (3404, 0.0061804914416924185), (3405, 0.004789506949460154), (3406, 0.0), (3407, 0.0050632657886985535), (3408, 0.010964734864738819), (3409, 0.004554761958206831), (3410, 0.04316937626004662), (3411, 0.048297961472491775), (3412, 0.004987017331794787), (3413, 0.01168169854165228), (3414, 0.011767398784637844), (3415, 0.0), (3416, 0.04351442890077195), (3417, 0.0), (3418, 0.017871029740317606), (3419, 0.006681456465254596), (3420, 0.028200440050159904), (3421, 0.021555365490630574), (3422, 0.0), (3423, 0.0), (3424, 0.029577320130243997), (3425, 0.0), (3426, 0.0), (3427, 0.005756366505817822), (3428, 0.0), (3429, 0.004149133645456403), (3430, 0.00837741083830392), (3431, 0.0), (3432, 0.045332113748883726), (3433, 0.0), (3434, 0.0), (3435, 0.01627809615110374), (3436, 0.016786881410107025), (3437, 0.017636948802754328), (3438, 0.006168759225772355), (3439, 0.013477614053929544), (3440, 0.031498602227754524), (3441, 0.005734164072326259), (3442, 0.0), (3443, 0.016031833954312555), (3444, 0.02853324554743114), (3445, 0.005780885093251698), (3446, 0.025435022184104483), (3447, 0.0424349815297239), (3448, 0.013727107284533899), (3449, 0.010504785794889704), (3450, 0.037558466679922194), (3451, 0.02610133493564175), (3452, 0.0), (3453, 0.0065912107364045494), (3454, 0.010144977311343254), (3455, 0.0), (3456, 0.010856276814611836), (3457, 0.005494970209303506), (3458, 0.011521623747588958), (3459, 0.004823517327520687), (3460, 0.0), (3461, 0.016223628448612498), (3462, 0.0), (3463, 0.04369655084510338), (3464, 0.02157117968753648), (3465, 0.02085757492239744), (3466, 0.03206072078345489), (3467, 0.005778963616342891), (3468, 0.006390881920899771), (3469, 0.04570087523953199), (3470, 0.0), (3471, 0.017091876205562267), (3472, 0.007540850382186794), (3473, 0.0), (3474, 0.0), (3475, 0.0), (3476, 0.0), (3477, 0.015017650152162113), (3478, 0.0), (3479, 0.013008907596164158), (3480, 0.010056907321995021), (3481, 0.004967349115955749), (3482, 0.0), (3483, 0.0), (3484, 0.03164862815000694), (3485, 0.009001796715407346), (3486, 0.0231040235129646), (3487, 0.0), (3488, 0.0), (3489, 0.0), (3490, 0.0), (3491, 0.005315804042017151), (3492, 0.01977950400935323), (3493, 0.01053113814429488), (3494, 0.0), (3495, 0.0), (3496, 0.010501040937805496), (3497, 0.0), (3498, 0.018411586903454534), (3499, 0.0), (3500, 0.009906886835745537), (3501, 0.0), (3502, 0.019669483759049658), (3503, 0.0), (3504, 0.0), (3505, 0.01870323235660066), (3506, 0.0), (3507, 0.011406095324901715), (3508, 0.00993588149610469), (3509, 0.0), (3510, 0.0), (3511, 0.0), (3512, 0.04329186459673866), (3513, 0.016109453743536867), (3514, 0.016301449225434504), (3515, 0.011240022960654681), (3516, 0.005913769771020609), (3517, 0.010020126234026273), (3518, 0.01057700093242522), (3519, 0.0), (3520, 0.005706237391107674), (3521, 0.0), (3522, 0.01795891908242176), (3523, 0.0), (3524, 0.019006835916509514), (3525, 0.005225226961483903), (3526, 0.005415025995842766), (3527, 0.0), (3528, 0.01852107582068306), (3529, 0.010638241639223998), (3530, 0.0), (3531, 0.015499724316569846), (3532, 0.006398209083347444), (3533, 0.01812032492598167), (3534, 0.0), (3535, 0.0), (3536, 0.027508557380227047), (3537, 0.01239111922059767), (3538, 0.008230535051711849), (3539, 0.010246692114121707), (3540, 0.01890989553282316), (3541, 0.0), (3542, 0.0), (3543, 0.0), (3544, 0.012304871065109064), (3545, 0.011106987826774262), (3546, 0.003965690397146153), (3547, 0.0), (3548, 0.0), (3549, 0.015804073052469978), (3550, 0.02650810323417818), (3551, 0.00543831619523948), (3552, 0.01591453773437045), (3553, 0.0), (3554, 0.011767625203582653), (3555, 0.02210680063199323), (3556, 0.00504168679168117), (3557, 0.005177385462965107), (3558, 0.0), (3559, 0.008522875108552477), (3560, 0.006542564418267181), (3561, 0.0), (3562, 0.01458983659157084), (3563, 0.004893515396449908), (3564, 0.0), (3565, 0.020379198883575957), (3566, 0.005165906932661157), (3567, 0.0051608799476119535), (3568, 0.04874864023880394), (3569, 0.0148357494204635), (3570, 0.06029753409755679), (3571, 0.03027181104649132), (3572, 0.0), (3573, 0.0), (3574, 0.007764925953625309), (3575, 0.008621546534842619), (3576, 0.0), (3577, 0.018092733213045834), (3578, 0.006565906812526859), (3579, 0.01382577144501054), (3580, 0.0), (3581, 0.010979309917454556), (3582, 0.01525411539038698), (3583, 0.01861428033830319), (3584, 0.01101010367538361), (3585, 0.020255700709452436), (3586, 0.006145433873334648), (3587, 0.0), (3588, 0.006845275127421171), (3589, 0.01966525180545268), (3590, 0.0), (3591, 0.006009712106194059), (3592, 0.025509415527725905), (3593, 0.006237220109750027), (3594, 0.005319955506953025), (3595, 0.015182958043125291), (3596, 0.011496928737017591), (3597, 0.005696039422171638), (3598, 0.013785192864370722), (3599, 0.015790575584662556), (3600, 0.005481946625125615), (3601, 0.06313271267752624), (3602, 0.005832538576518515), (3603, 0.033524531577974415), (3604, 0.006041690734648421), (3605, 0.005604541088471313), (3606, 0.009837880679855221), (3607, 0.0), (3608, 0.0), (3609, 0.0), (3610, 0.006161971963368741), (3611, 0.0), (3612, 0.005536770918300275), (3613, 0.0), (3614, 0.0), (3615, 0.0), (3616, 0.017880999475777676), (3617, 0.0), (3618, 0.005806651237986591), (3619, 0.0), (3620, 0.0), (3621, 0.011568711096121148), (3622, 0.009701516432348128), (3623, 0.023385538314400277), (3624, 0.0), (3625, 0.0), (3626, 0.011871624150549456), (3627, 0.0), (3628, 0.010993570900732112), (3629, 0.0), (3630, 0.005229657110728574), (3631, 0.019807742345360403), (3632, 0.04015957722794162), (3633, 0.014200923512261772), (3634, 0.0), (3635, 0.007658798436398288), (3636, 0.0), (3637, 0.0051453090734811255), (3638, 0.0), (3639, 0.05778404311391787), (3640, 0.0), (3641, 0.009862296734376282), (3642, 0.017388818321979967), (3643, 0.005460372161973828), (3644, 0.010010473192404407), (3645, 0.004772798304413396), (3646, 0.014600729406865687), (3647, 0.0), (3648, 0.015714999563412557), (3649, 0.011660985485388698), (3650, 0.015345663523213501), (3651, 0.0059477958334607575), (3652, 0.011230775338149986), (3653, 0.0), (3654, 0.01148094963102685), (3655, 0.022709109928160873), (3656, 0.014995672836593768), (3657, 0.005030821057833792), (3658, 0.01779156208790646), (3659, 0.0), (3660, 0.00546586284087776), (3661, 0.006036454379839507), (3662, 0.0), (3663, 0.0), (3664, 0.0), (3665, 0.029112514498674226), (3666, 0.0), (3667, 0.0), (3668, 0.009423865701464888), (3669, 0.0), (3670, 0.0), (3671, 0.012225659279362783), (3672, 0.0), (3673, 0.01007889658890322), (3674, 0.013105382937247488), (3675, 0.0), (3676, 0.016982825138106235), (3677, 0.011570290273923742), (3678, 0.015943503592543606), (3679, 0.0), (3680, 0.006638321491544328), (3681, 0.028875084201499576), (3682, 0.0), (3683, 0.0), (3684, 0.039899010838359374), (3685, 0.009826560549711502), (3686, 0.012282619656228125), (3687, 0.0), (3688, 0.010969790351400839), (3689, 0.005413985760151554), (3690, 0.016601224045513632), (3691, 0.0), (3692, 0.0062029524382085964), (3693, 0.0051435222989230246), (3694, 0.0), (3695, 0.0), (3696, 0.005076710545202401), (3697, 0.006165813036655387), (3698, 0.012434959165913683), (3699, 0.011613714734108521), (3700, 0.07929129927367252), (3701, 0.005262918740975694), (3702, 0.0), (3703, 0.008473024610078364), (3704, 0.011922218174127927), (3705, 0.0), (3706, 0.021537374818690554), (3707, 0.0), (3708, 0.029124062461633113), (3709, 0.005172533920161798), (3710, 0.07684244433948789), (3711, 0.004761242471844484), (3712, 0.0), (3713, 0.0), (3714, 0.0), (3715, 0.021064807310146493), (3716, 0.0), (3717, 0.0), (3718, 0.045372891776518556), (3719, 0.0), (3720, 0.010809948367335943), (3721, 0.0), (3722, 0.0054014418658140766), (3723, 0.005443113281649564), (3724, 0.006051885044826638), (3725, 0.0), (3726, 0.0), (3727, 0.0), (3728, 0.01030467281244109), (3729, 0.0), (3730, 0.005727516802908775), (3731, 0.004457574041519588), (3732, 0.00949424030882188), (3733, 0.020352597214837058), (3734, 0.0055465976096402995), (3735, 0.0), (3736, 0.0239806570310184), (3737, 0.0), (3738, 0.005243347303235432), (3739, 0.005177244579149066), (3740, 0.0), (3741, 0.019355208704811035), (3742, 0.010477469064031337), (3743, 0.05211148254085776), (3744, 0.006949309879744113), (3745, 0.0), (3746, 0.005173544286640799), (3747, 0.005948092846840509), (3748, 0.013519504339731455), (3749, 0.0), (3750, 0.014604056399384686), (3751, 0.008675732928740269), (3752, 0.004731240419261161), (3753, 0.009635728583882203), (3754, 0.0), (3755, 0.0), (3756, 0.0), (3757, 0.0), (3758, 0.011903228206227688), (3759, 0.0), (3760, 0.0), (3761, 0.0), (3762, 0.0), (3763, 0.012351614216746711), (3764, 0.011798674172765942), (3765, 0.027999909490634606), (3766, 0.0), (3767, 0.008966992884765969), (3768, 0.011644446172048975), (3769, 0.029041699674278065), (3770, 0.0), (3771, 0.006089855981087201), (3772, 0.0), (3773, 0.005556670781585098), (3774, 0.0), (3775, 0.0), (3776, 0.005025722469976951), (3777, 0.017438361191197196), (3778, 0.037047069507204516), (3779, 0.0), (3780, 0.005694913041327958), (3781, 0.0), (3782, 0.04171454020204583), (3783, 0.005437294641994927), (3784, 0.01083476890923509), (3785, 0.0), (3786, 0.02707600806920339), (3787, 0.024087971739123765), (3788, 0.026839137519587105), (3789, 0.0), (3790, 0.010408259611617182), (3791, 0.0), (3792, 0.01009044912713154), (3793, 0.0), (3794, 0.03579666587796828), (3795, 0.005425297359702754), (3796, 0.01342767474356967), (3797, 0.0243321314402212), (3798, 0.006055587607007437), (3799, 0.0), (3800, 0.01274284438488989), (3801, 0.010027889272446255), (3802, 0.006337369206760869), (3803, 0.004602136163314064), (3804, 0.0), (3805, 0.010146511969239541), (3806, 0.0), (3807, 0.0057945524573460565), (3808, 0.011381351920157169), (3809, 0.0), (3810, 0.02700451399102293), (3811, 0.0), (3812, 0.010704214080062207), (3813, 0.01818576590816011), (3814, 0.005807008707000589), (3815, 0.0), (3816, 0.01208109465367427), (3817, 0.0), (3818, 0.00529968696940424), (3819, 0.0558652881105173), (3820, 0.0), (3821, 0.004462359064167599), (3822, 0.016295706498580424), (3823, 0.010193421191781012), (3824, 0.0), (3825, 0.020252839934157336), (3826, 0.03227178649185769), (3827, 0.0), (3828, 0.0), (3829, 0.015288032033443817), (3830, 0.0), (3831, 0.0), (3832, 0.0), (3833, 0.017195212280979515), (3834, 0.0062966573148775995), (3835, 0.0), (3836, 0.0), (3837, 0.04938168650817629), (3838, 0.0), (3839, 0.009081381338509066), (3840, 0.005878346946215451), (3841, 0.020309178579376478), (3842, 0.009269329910867973), (3843, 0.0), (3844, 0.012017835158103219), (3845, 0.028522322556815784), (3846, 0.006385275335111909), (3847, 0.0), (3848, 0.0), (3849, 0.0059332563770279996), (3850, 0.0060022991094744954), (3851, 0.0), (3852, 0.004633197668863467), (3853, 0.0), (3854, 0.004889069806631935), (3855, 0.0), (3856, 0.008754769440879906), (3857, 0.0056610803962098355), (3858, 0.0168722029137182), (3859, 0.009152442919425777), (3860, 0.005236444561087764), (3861, 0.0), (3862, 0.0062216463691634714), (3863, 0.0), (3864, 0.0), (3865, 0.00911875857866439), (3866, 0.017787350565137156), (3867, 0.0), (3868, 0.014870535512208174), (3869, 0.006513621778895599), (3870, 0.00579573441173686), (3871, 0.0), (3872, 0.0), (3873, 0.0), (3874, 0.0), (3875, 0.016774838223096056), (3876, 0.0), (3877, 0.018349380497429617), (3878, 0.0), (3879, 0.009909964092454248), (3880, 0.0), (3881, 0.02793767502907425), (3882, 0.010152602430760363), (3883, 0.0), (3884, 0.0), (3885, 0.0), (3886, 0.01470847292360661), (3887, 0.0), (3888, 0.048278639729981525), (3889, 0.010631993537889151), (3890, 0.020250129101003683), (3891, 0.005034231426689926), (3892, 0.012777382748212088), (3893, 0.0), (3894, 0.004950668894780222), (3895, 0.0), (3896, 0.0), (3897, 0.005795966788468889), (3898, 0.0), (3899, 0.0), (3900, 0.0), (3901, 0.0), (3902, 0.0), (3903, 0.012048351607965756), (3904, 0.0), (3905, 0.027663660880042316), (3906, 0.0), (3907, 0.017040947536771062), (3908, 0.00594073269999655), (3909, 0.0), (3910, 0.0), (3911, 0.0), (3912, 0.018462712690793668), (3913, 0.0), (3914, 0.013464876353978618), (3915, 0.0), (3916, 0.0), (3917, 0.005331166696643676), (3918, 0.0), (3919, 0.016267282030971983), (3920, 0.005724963992118661), (3921, 0.030869362778018966), (3922, 0.0), (3923, 0.01439153795561236), (3924, 0.005709366060820864), (3925, 0.11051469854008501), (3926, 0.0), (3927, 0.01629800401204628), (3928, 0.004642137318336348), (3929, 0.0), (3930, 0.011255660906770881), (3931, 0.0), (3932, 0.0), (3933, 0.018646411922188716), (3934, 0.03136198617574833), (3935, 0.0), (3936, 0.013778160198687791), (3937, 0.005798478892984196), (3938, 0.0), (3939, 0.0), (3940, 0.0), (3941, 0.009175367628380485), (3942, 0.0), (3943, 0.01046513994051597), (3944, 0.00460422820040146), (3945, 0.0), (3946, 0.004654823491127273), (3947, 0.006795146609886925), (3948, 0.017669245911584003), (3949, 0.013774451216273362), (3950, 0.010727508777819599), (3951, 0.0), (3952, 0.01189037568015182), (3953, 0.0), (3954, 0.0), (3955, 0.02196134754659589), (3956, 0.0), (3957, 0.013930629764497193), (3958, 0.0), (3959, 0.005608331058857752), (3960, 0.0), (3961, 0.0), (3962, 0.0), (3963, 0.011270454958173762), (3964, 0.010998813788594752), (3965, 0.023209976995349612), (3966, 0.005183929362839314), (3967, 0.011288619921958037), (3968, 0.005934586885960313), (3969, 0.0), (3970, 0.009989696292577531), (3971, 0.0), (3972, 0.006328918069850382), (3973, 0.010388984984963035), (3974, 0.0), (3975, 0.0), (3976, 0.0), (3977, 0.006170407227689834), (3978, 0.005716748266287793), (3979, 0.006037060931856758), (3980, 0.009613891905881347), (3981, 0.0), (3982, 0.016465452192241777), (3983, 0.004057451566574207), (3984, 0.010985091692933598), (3985, 0.0), (3986, 0.0), (3987, 0.08158290390736381), (3988, 0.0), (3989, 0.0), (3990, 0.0), (3991, 0.0), (3992, 0.0), (3993, 0.005327391030143875), (3994, 0.005127560762780771), (3995, 0.061786739705430915), (3996, 0.0), (3997, 0.04041075855637463), (3998, 0.020500862308670258), (3999, 0.0), (4000, 0.01113581612736587), (4001, 0.016602879422164908), (4002, 0.0), (4003, 0.0), (4004, 0.0), (4005, 0.023588776737213428), (4006, 0.0), (4007, 0.020143801524861962), (4008, 0.0), (4009, 0.03162625618618355), (4010, 0.0), (4011, 0.0), (4012, 1.0000000000000002), (4013, 0.005493708483625164), (4014, 0.0), (4015, 0.018325465587719678), (4016, 0.020370939152410294), (4017, 0.0), (4018, 0.009096980756473015), (4019, 0.015049965041313966), (4020, 0.01076172596576204), (4021, 0.0), (4022, 0.0), (4023, 0.024345119042344945), (4024, 0.0), (4025, 0.005393916750878133), (4026, 0.02180105505641753), (4027, 0.010204562592045406), (4028, 0.0), (4029, 0.010031438349920364), (4030, 0.0), (4031, 0.01221946207606766), (4032, 0.01208056621789405), (4033, 0.006020911191592343), (4034, 0.0), (4035, 0.0), (4036, 0.009874412111390967), (4037, 0.015474999139268902), (4038, 0.011602051508702024), (4039, 0.005565553994159868), (4040, 0.0), (4041, 0.005633533788123729), (4042, 0.0), (4043, 0.0), (4044, 0.005581914250655273), (4045, 0.017397697458937114), (4046, 0.006146154089973887), (4047, 0.013912401850648846), (4048, 0.0), (4049, 0.009956521573709359), (4050, 0.021177410463494226), (4051, 0.043012026751966775), (4052, 0.0745604072436678), (4053, 0.0), (4054, 0.01022644469190696), (4055, 0.014643218868027197), (4056, 0.005939190626744218), (4057, 0.004791390075514409), (4058, 0.0), (4059, 0.026562147748224667), (4060, 0.0), (4061, 0.021857367542951513), (4062, 0.0061256904885100116), (4063, 0.0), (4064, 0.01873430578162045), (4065, 0.0), (4066, 0.009071959593858044), (4067, 0.0), (4068, 0.048735633118213426), (4069, 0.029029201331151305), (4070, 0.026372507444431884), (4071, 0.02005423002915333), (4072, 0.0), (4073, 0.009926027730427589), (4074, 0.00467542487653316), (4075, 0.01986977792502724), (4076, 0.005544214864405831), (4077, 0.0062214554454745035), (4078, 0.0), (4079, 0.0), (4080, 0.0), (4081, 0.010928371779865751), (4082, 0.0), (4083, 0.0), (4084, 0.012891411593391322), (4085, 0.0), (4086, 0.011386166494634612), (4087, 0.0), (4088, 0.0), (4089, 0.01115744008965989), (4090, 0.0), (4091, 0.006053630352373305), (4092, 0.0), (4093, 0.016617820620931274), (4094, 0.04851631579044438), (4095, 0.0048961806290808724), (4096, 0.0), (4097, 0.011870950449563206), (4098, 0.006279811335830423), (4099, 0.01550845174654927), (4100, 0.005991533306838723), (4101, 0.0), (4102, 0.013041203053289019), (4103, 0.03804827567346469), (4104, 0.009084281705806635), (4105, 0.011542991090104263), (4106, 0.009749567947659164), (4107, 0.013843609002182344), (4108, 0.016249460950986477), (4109, 0.013717274085997825), (4110, 0.01001413162919206), (4111, 0.0), (4112, 0.020746875650033886), (4113, 0.02928659294586627), (4114, 0.014432310538097324), (4115, 0.013877313262355138), (4116, 0.006287934216924629), (4117, 0.024882806821214163), (4118, 0.023034665946365024), (4119, 0.03232898555445017), (4120, 0.031565747754298996), (4121, 0.03914223481301092), (4122, 0.0821387514831168), (4123, 0.0), (4124, 0.0), (4125, 0.019900557565097045), (4126, 0.0), (4127, 0.0), (4128, 0.006125843759764161), (4129, 0.0), (4130, 0.0), (4131, 0.006537854490783189), (4132, 0.010763797566044916), (4133, 0.012324313159106294), (4134, 0.0), (4135, 0.015247910118149589), (4136, 0.005548861747890998), (4137, 0.039985965694357056), (4138, 0.0), (4139, 0.0), (4140, 0.01110804336677419), (4141, 0.0), (4142, 0.007252048257408098), (4143, 0.0047772938096152075), (4144, 0.0), (4145, 0.012869824304024672), (4146, 0.0), (4147, 0.011966806373555282), (4148, 0.005633087735833836), (4149, 0.020355310438102136), (4150, 0.0), (4151, 0.0), (4152, 0.03387158257663499), (4153, 0.005262476412906217), (4154, 0.0), (4155, 0.004921450212589491), (4156, 0.013135830716020112), (4157, 0.03460645552585087), (4158, 0.014003999908456247), (4159, 0.0), (4160, 0.0), (4161, 0.0), (4162, 0.0), (4163, 0.0), (4164, 0.009992406059783373), (4165, 0.0), (4166, 0.013111677135144592), (4167, 0.0), (4168, 0.0), (4169, 0.03779037207528085), (4170, 0.0), (4171, 0.0037611414161249123), (4172, 0.0), (4173, 0.0105997803187112), (4174, 0.014219164853275025), (4175, 0.011570657541745265), (4176, 0.004910168890740766), (4177, 0.0), (4178, 0.07634364892763107), (4179, 0.0), (4180, 0.012142951926342889), (4181, 0.04977931382677152), (4182, 0.0), (4183, 0.0), (4184, 0.011118197006226044), (4185, 0.0), (4186, 0.005298412217489491), (4187, 0.0), (4188, 0.03741396451607535), (4189, 0.005122582081889201), (4190, 0.01172555226036791), (4191, 0.008893178264185954), (4192, 0.01950026965365284), (4193, 0.005410540969807356), (4194, 0.006450515459690563), (4195, 0.009988163634516156), (4196, 0.0), (4197, 0.009697023245033229), (4198, 0.013444073563476404), (4199, 0.08253271211540002), (4200, 0.018370878576875877), (4201, 0.009100221763629285), (4202, 0.00813068371078855), (4203, 0.017271612192474042), (4204, 0.0), (4205, 0.010029857680187264), (4206, 0.02068199605497839), (4207, 0.011105596544025684), (4208, 0.0), (4209, 0.0), (4210, 0.011154883647068103), (4211, 0.023288477182413173), (4212, 0.0), (4213, 0.0097610893028214), (4214, 0.0), (4215, 0.0), (4216, 0.016264347349476748), (4217, 0.024272208743880377), (4218, 0.015262951823841015), (4219, 0.0), (4220, 0.010171654079532359), (4221, 0.007240941663155155), (4222, 0.02838025871639006), (4223, 0.03051752072958608), (4224, 0.005731564057760747), (4225, 0.0), (4226, 0.016650551817362802), (4227, 0.0), (4228, 0.0), (4229, 0.0), (4230, 0.0), (4231, 0.0), (4232, 0.0), (4233, 0.02097009923593507), (4234, 0.05639791591550195), (4235, 0.0), (4236, 0.005577682358967827), (4237, 0.009160710060311661), (4238, 0.006559761560741369), (4239, 0.014920654989998061), (4240, 0.0), (4241, 0.0), (4242, 0.006461543770181781), (4243, 0.0), (4244, 0.0067787943724687315), (4245, 0.0), (4246, 0.08091532844036313), (4247, 0.0), (4248, 0.03503338614127848), (4249, 0.006184476078162134), (4250, 0.0), (4251, 0.0), (4252, 0.009672006519230811), (4253, 0.0190430826444706), (4254, 0.00994107329843335), (4255, 0.0057993711532706195), (4256, 0.0), (4257, 0.015315829366362887), (4258, 0.0), (4259, 0.010742404683356707), (4260, 0.0), (4261, 0.004257609185172435), (4262, 0.03546840510647671), (4263, 0.010541152319123353), (4264, 0.0056150423861230795), (4265, 0.00551037072429426), (4266, 0.0), (4267, 0.025182474986496006), (4268, 0.0), (4269, 0.037609829412871124), (4270, 0.0), (4271, 0.02659491865606043), (4272, 0.03780033796248467), (4273, 0.0), (4274, 0.005421070542498917), (4275, 0.0), (4276, 0.006561001729550356), (4277, 0.0), (4278, 0.0), (4279, 0.0), (4280, 0.0), (4281, 0.00604862476887457), (4282, 0.009938341586338), (4283, 0.030779225241584038), (4284, 0.0), (4285, 0.018255893890237893), (4286, 0.011743211723420672), (4287, 0.010208742433073391), (4288, 0.019811660703662803), (4289, 0.006081096278981062), (4290, 0.014725388039582229), (4291, 0.0), (4292, 0.0), (4293, 0.018279120653272127), (4294, 0.005946814179849704), (4295, 0.011512174175237085), (4296, 0.0), (4297, 0.004765043680505382), (4298, 0.0), (4299, 0.0), (4300, 0.010724614207254905), (4301, 0.0), (4302, 0.0), (4303, 0.01086997010878729), (4304, 0.009837765342722652), (4305, 0.0), (4306, 0.0), (4307, 0.0), (4308, 0.011154394554439043), (4309, 0.0), (4310, 0.0056504965133754815), (4311, 0.0), (4312, 0.023435418143697012), (4313, 0.02768557226703873), (4314, 0.0), (4315, 0.010936961840270567), (4316, 0.0), (4317, 0.0), (4318, 0.0), (4319, 0.02175237078153175), (4320, 0.0), (4321, 0.009377519806858529), (4322, 0.0), (4323, 0.02298548485065032), (4324, 0.010720164021891744), (4325, 0.025003841871712264), (4326, 0.0), (4327, 0.019925882021039083), (4328, 0.010615901176897941), (4329, 0.0), (4330, 0.005718577531874502), (4331, 0.0), (4332, 0.011156668843678911), (4333, 0.0), (4334, 0.0), (4335, 0.0), (4336, 0.0), (4337, 0.0), (4338, 0.01176615181834284), (4339, 0.005055904867254709), (4340, 0.0), (4341, 0.01180694295953215), (4342, 0.0), (4343, 0.0), (4344, 0.009017574384003342), (4345, 0.028977831264739504), (4346, 0.011151024919798764), (4347, 0.027474463378598053), (4348, 0.004859533540412498), (4349, 0.0), (4350, 0.0), (4351, 0.01671136828431035), (4352, 0.0), (4353, 0.005066885115405661), (4354, 0.0), (4355, 0.0), (4356, 0.0), (4357, 0.04873262898535496), (4358, 0.0), (4359, 0.03763557573201692), (4360, 0.0), (4361, 0.0), (4362, 0.0), (4363, 0.005823163313207027), (4364, 0.0), (4365, 0.0), (4366, 0.0), (4367, 0.0), (4368, 0.0), (4369, 0.02166448439588589), (4370, 0.0), (4371, 0.040432320757257126), (4372, 0.0), (4373, 0.00440058664197823), (4374, 0.022793336659529595), (4375, 0.03557836216195114), (4376, 0.005481818132312552), (4377, 0.030933543382614576), (4378, 0.0), (4379, 0.011539338868506244), (4380, 0.0), (4381, 0.03663148021920489), (4382, 0.018832061289446166), (4383, 0.0), (4384, 0.006190634660784755), (4385, 0.0), (4386, 0.0), (4387, 0.0), (4388, 0.0), (4389, 0.0), (4390, 0.0060076037062860785), (4391, 0.0), (4392, 0.006039169032519461), (4393, 0.0), (4394, 0.0), (4395, 0.03658825855349074), (4396, 0.0), (4397, 0.0), (4398, 0.0), (4399, 0.004966589919137153), (4400, 0.0), (4401, 0.011792295700081617), (4402, 0.0048413790583903245), (4403, 0.013651853237007445), (4404, 0.021522894968861086), (4405, 0.0), (4406, 0.01679679046052879), (4407, 0.0), (4408, 0.012028872128554531), (4409, 0.0), (4410, 0.0), (4411, 0.0), (4412, 0.0), (4413, 0.0), (4414, 0.03611787164843109), (4415, 0.0), (4416, 0.0), (4417, 0.0), (4418, 0.0), (4419, 0.006178801140663451), (4420, 0.06945306065045027), (4421, 0.0), (4422, 0.010506798329082722), (4423, 0.0), (4424, 0.0), (4425, 0.07373034444072848), (4426, 0.009013395520231119), (4427, 0.0), (4428, 0.0), (4429, 0.00521947937854622), (4430, 0.006080984631021091), (4431, 0.011246582881433532), (4432, 0.004985689771586675), (4433, 0.010764890445278629), (4434, 0.010503661669472286), (4435, 0.025837001009347372), (4436, 0.03217441807287399), (4437, 0.01844705556377755), (4438, 0.005134208366312663), (4439, 0.0056509035540357995), (4440, 0.0190404241707158), (4441, 0.0), (4442, 0.014710357132339522), (4443, 0.006878627165996858), (4444, 0.0075719161063530676), (4445, 0.0), (4446, 0.010419355785608377), (4447, 0.015153734099685626), (4448, 0.029167465676674165), (4449, 0.0), (4450, 0.023907352224787903), (4451, 0.0), (4452, 0.021985867023410783), (4453, 0.0177833364744905), (4454, 0.0), (4455, 0.0), (4456, 0.005884325316735184), (4457, 0.010307973068651843), (4458, 0.0), (4459, 0.004867975627718133), (4460, 0.017097661866639146), (4461, 0.0), (4462, 0.005739180949648912), (4463, 0.011457294941094773), (4464, 0.0), (4465, 0.0), (4466, 0.0), (4467, 0.0053325786299994495), (4468, 0.0), (4469, 0.0), (4470, 0.0), (4471, 0.0), (4472, 0.004985254948248926), (4473, 0.014168917484326273), (4474, 0.011445152674969232), (4475, 0.0), (4476, 0.014743982383736505), (4477, 0.013212616508764683), (4478, 0.0), (4479, 0.0), (4480, 0.0), (4481, 0.005542511615715269), (4482, 0.0), (4483, 0.03459230534831205), (4484, 0.0), (4485, 0.0), (4486, 0.03274492570994818), (4487, 0.0), (4488, 0.0), (4489, 0.010644775634347512), (4490, 0.00697420988972764), (4491, 0.0), (4492, 0.020723186843284648), (4493, 0.006311138026262497), (4494, 0.0), (4495, 0.0), (4496, 0.0), (4497, 0.0), (4498, 0.0), (4499, 0.0), (4500, 0.0), (4501, 0.0), (4502, 0.0), (4503, 0.005669454232729378), (4504, 0.021505829334106386), (4505, 0.0), (4506, 0.0), (4507, 0.0), (4508, 0.0), (4509, 0.00555582317926139), (4510, 0.01734874764968798), (4511, 0.0), (4512, 0.01217997348061641), (4513, 0.0), (4514, 0.01212516517117875), (4515, 0.005698885824038264), (4516, 0.0), (4517, 0.0), (4518, 0.0), (4519, 0.008931128590705637), (4520, 0.0), (4521, 0.0), (4522, 0.011403572414255318), (4523, 0.02048270621290168), (4524, 0.006347885042030758), (4525, 0.0), (4526, 0.03548705430802252), (4527, 0.0), (4528, 0.0), (4529, 0.0), (4530, 0.0), (4531, 0.011910951315490678), (4532, 0.0), (4533, 0.0), (4534, 0.051674641621779864), (4535, 0.012317972534421509), (4536, 0.0), (4537, 0.0), (4538, 0.0), (4539, 0.0), (4540, 0.0), (4541, 0.008083684903457856), (4542, 0.009578287574861207), (4543, 0.005671588538549641), (4544, 0.0), (4545, 0.0), (4546, 0.0), (4547, 0.0), (4548, 0.005065341663836842), (4549, 0.005878244854496925), (4550, 0.005646865382341363), (4551, 0.005550879184629477), (4552, 0.04870613460269528), (4553, 0.005403917074187877), (4554, 0.0), (4555, 0.04073692811728641), (4556, 0.021130800833445373), (4557, 0.016441930028796868), (4558, 0.0), (4559, 0.0), (4560, 0.0), (4561, 0.0), (4562, 0.012947336221954172), (4563, 0.0), (4564, 0.010567858606547154), (4565, 0.0), (4566, 0.0), (4567, 0.0), (4568, 0.004841206967313416), (4569, 0.0), (4570, 0.012360198154814721), (4571, 0.01676558201719418), (4572, 0.0), (4573, 0.0), (4574, 0.0), (4575, 0.0), (4576, 0.0257439781282202), (4577, 0.0), (4578, 0.0), (4579, 0.0), (4580, 0.011232235701429718), (4581, 0.005790950354920921), (4582, 0.0), (4583, 0.0), (4584, 0.0), (4585, 0.028473014495410474), (4586, 0.01778114025135742), (4587, 0.010872872597004984), (4588, 0.0), (4589, 0.019071549734685306), (4590, 0.009657078812693058), (4591, 0.005488558924017023), (4592, 0.005309429145406801), (4593, 0.0), (4594, 0.0), (4595, 0.0), (4596, 0.11908606153020543), (4597, 0.0), (4598, 0.0), (4599, 0.0113746395994522), (4600, 0.04473613245630962), (4601, 0.0), (4602, 0.0), (4603, 0.010259053195336966), (4604, 0.01905564251638975), (4605, 0.011986049092466419), (4606, 0.0074788116292889145), (4607, 0.0), (4608, 0.005336464405139247), (4609, 0.00605746903747695), (4610, 0.0), (4611, 0.0), (4612, 0.0066967473909226435), (4613, 0.005538809473023797), (4614, 0.0), (4615, 0.035007496363163505), (4616, 0.0), (4617, 0.0), (4618, 0.0), (4619, 0.006880770857791295), (4620, 0.03499442617523323), (4621, 0.005696909942734838), (4622, 0.0), (4623, 0.0), (4624, 0.023641910475003837), (4625, 0.0), (4626, 0.00494362236221415), (4627, 0.009040088254466354), (4628, 0.01037352638357078), (4629, 0.011576951506380035), (4630, 0.006158076759893915), (4631, 0.007244609769331025), (4632, 0.0), (4633, 0.011608929228504218), (4634, 0.004921517025201489), (4635, 0.0), (4636, 0.00872545750125228), (4637, 0.0), (4638, 0.0), (4639, 0.03029395645806745), (4640, 0.011007141406669311), (4641, 0.0), (4642, 0.025843548157550286), (4643, 0.0), (4644, 0.0), (4645, 0.0), (4646, 0.007593163683515414), (4647, 0.005077318005261438), (4648, 0.03050461056690474), (4649, 0.005348748356839232), (4650, 0.0), (4651, 0.0), (4652, 0.01669074102025498), (4653, 0.006829049468793223), (4654, 0.0), (4655, 0.0), (4656, 0.0), (4657, 0.0), (4658, 0.004996743809795689), (4659, 0.0), (4660, 0.0), (4661, 0.014823341083107058), (4662, 0.0), (4663, 0.0), (4664, 0.0), (4665, 0.0), (4666, 0.0), (4667, 0.0), (4668, 0.0), (4669, 0.011864919921954015), (4670, 0.0), (4671, 0.0), (4672, 0.0), (4673, 0.005551419101181916), (4674, 0.008500457828931067), (4675, 0.010394510042961809), (4676, 0.04172474410710364), (4677, 0.0), (4678, 0.0), (4679, 0.019987010141600283), (4680, 0.033301336853137985), (4681, 0.0), (4682, 0.029487901641505478), (4683, 0.0), (4684, 0.005836401795779385), (4685, 0.0), (4686, 0.005356826630458699), (4687, 0.005231408067034861), (4688, 0.0), (4689, 0.06015654935955729), (4690, 0.015703291512102088), (4691, 0.0), (4692, 0.0), (4693, 0.0), (4694, 0.0), (4695, 0.005502228222401631), (4696, 0.0), (4697, 0.0), (4698, 0.007110780274131585), (4699, 0.0), (4700, 0.013272068700884347), (4701, 0.0), (4702, 0.0), (4703, 0.0), (4704, 0.0), (4705, 0.008859799591097875), (4706, 0.0), (4707, 0.0), (4708, 0.024907257515881957), (4709, 0.021874616425580976), (4710, 0.0), (4711, 0.0), (4712, 0.017535569262547603), (4713, 0.0), (4714, 0.0), (4715, 0.0), (4716, 0.011758283337149244), (4717, 0.012070392623282045), (4718, 0.0), (4719, 0.01764505210805907), (4720, 0.012624259306790123), (4721, 0.01226164609137281), (4722, 0.02356826117708391), (4723, 0.007286269593826324), (4724, 0.0), (4725, 0.021341002101107696), (4726, 0.0), (4727, 0.0), (4728, 0.011642857368666888), (4729, 0.0), (4730, 0.019952500321579934), (4731, 0.0), (4732, 0.005637428162194365), (4733, 0.005042544710732429), (4734, 0.0), (4735, 0.0), (4736, 0.0), (4737, 0.032069489701131736), (4738, 0.009805655580902645), (4739, 0.011909331687100245), (4740, 0.0), (4741, 0.0), (4742, 0.006531886990099678), (4743, 0.005580471020781233), (4744, 0.008472818722947757), (4745, 0.0), (4746, 0.012099838731962324), (4747, 0.00648890459060271), (4748, 0.00460476791995425), (4749, 0.0), (4750, 0.0), (4751, 0.0), (4752, 0.0), (4753, 0.0), (4754, 0.005566778789557135), (4755, 0.011264048198154856), (4756, 0.0102301450846848), (4757, 0.020340416618097084), (4758, 0.0), (4759, 0.03598319338433318)]\n"
          ]
        }
      ]
    },
    {
      "cell_type": "code",
      "source": [
        "len(Recommendation_Score)"
      ],
      "metadata": {
        "colab": {
          "base_uri": "https://localhost:8080/"
        },
        "id": "wZTT0H4zFXsK",
        "outputId": "39e4929d-de7a-45d1-bc74-1b36502823c6"
      },
      "execution_count": null,
      "outputs": [
        {
          "output_type": "execute_result",
          "data": {
            "text/plain": [
              "4760"
            ]
          },
          "metadata": {},
          "execution_count": 35
        }
      ]
    },
    {
      "cell_type": "markdown",
      "source": [
        "## Get All Movies Sorted Based on Recommendation Score for your Favourite Movie"
      ],
      "metadata": {
        "id": "EWN8b5HWFiHy"
      }
    },
    {
      "cell_type": "code",
      "source": [
        "#sorting the movies based on their similarity score\n",
        "\n",
        "Sorted_Similar_Movies = sorted(Recommendation_Score, key = lambda x:x[1], reverse=True)\n",
        "print (Sorted_Similar_Movies)\n"
      ],
      "metadata": {
        "colab": {
          "base_uri": "https://localhost:8080/"
        },
        "id": "qzCxiUy5FeCz",
        "outputId": "7995d952-2864-41c9-8025-bbbeb77fbdae"
      },
      "execution_count": null,
      "outputs": [
        {
          "output_type": "stream",
          "name": "stdout",
          "text": [
            "[(4012, 1.0000000000000002), (1520, 0.15355650199259568), (1788, 0.14585684608461705), (1022, 0.13807879860598485), (977, 0.13179647794561947), (3188, 0.13106021531653766), (1453, 0.12236229805210676), (1133, 0.12182587214670024), (4596, 0.11908606153020543), (3925, 0.11051469854008501), (1548, 0.10011290575569269), (3143, 0.09606444684035279), (2745, 0.09418920947107626), (1461, 0.09121416704725956), (1821, 0.08964136162946727), (1337, 0.08880907872314664), (911, 0.08536001072585402), (2032, 0.08447480271809037), (3323, 0.08378749906810191), (854, 0.08310042918423034), (4199, 0.08253271211540002), (4122, 0.0821387514831168), (3987, 0.08158290390736381), (4246, 0.08091532844036313), (3700, 0.07929129927367252), (2381, 0.07775885768093299), (3710, 0.07684244433948789), (4178, 0.07634364892763107), (475, 0.07516087426670806), (4052, 0.0745604072436678), (2538, 0.07428079492421515), (4425, 0.07373034444072848), (948, 0.07266570638636885), (1544, 0.07181222801217833), (2528, 0.07155199396157588), (1009, 0.0700046025684923), (4420, 0.06945306065045027), (1367, 0.06926172845990912), (737, 0.06862280329641722), (3181, 0.06827709713064738), (302, 0.06412803801553257), (3601, 0.06313271267752624), (808, 0.062352930840642334), (2616, 0.062349417888689314), (620, 0.062042519031821314), (3166, 0.06182219284717223), (3995, 0.061786739705430915), (2741, 0.060990292176253576), (2852, 0.060711088735345045), (3570, 0.06029753409755679), (4689, 0.06015654935955729), (2838, 0.05967979404891258), (2543, 0.058776376485452066), (3212, 0.05857381591766952), (102, 0.05850617561585335), (2160, 0.05804992924385446), (3639, 0.05778404311391787), (2786, 0.05734374162684649), (1405, 0.057159345436729764), (1241, 0.05678177736437024), (2550, 0.0565475026850423), (4234, 0.05639791591550195), (3819, 0.0558652881105173), (1509, 0.055848601630508546), (2145, 0.05545556987485589), (2155, 0.05533697599554438), (3197, 0.055262788452415515), (1503, 0.054892823250262186), (128, 0.0539135202392898), (1302, 0.05383473662298319), (2161, 0.05299018221751003), (3026, 0.05293404205332913), (3743, 0.05211148254085776), (1935, 0.05199610130839368), (2653, 0.051718881637026565), (4534, 0.051674641621779864), (1386, 0.05128687463642838), (1992, 0.05104245101707848), (736, 0.05094774607095989), (345, 0.05088904205877702), (1134, 0.05020185982557667), (1368, 0.05013177478572069), (768, 0.04978701666563362), (4181, 0.04977931382677152), (1984, 0.04962074014253921), (2442, 0.049548837234647425), (196, 0.049547882914890456), (3260, 0.04944324229995223), (328, 0.049404240443864156), (3837, 0.04938168650817629), (1517, 0.04888571426541729), (3568, 0.04874864023880394), (4068, 0.048735633118213426), (4357, 0.04873262898535496), (4552, 0.04870613460269528), (4094, 0.04851631579044438), (2612, 0.04842701202843732), (3411, 0.048297961472491775), (3888, 0.048278639729981525), (3, 0.048108411300790445), (2910, 0.04809097814069919), (719, 0.04747520208563245), (841, 0.047328968851509175), (776, 0.04724366972389285), (1234, 0.04721252757979989), (2026, 0.04698832048989928), (1384, 0.046864286485385966), (751, 0.046706718476785744), (96, 0.04660269042059928), (1511, 0.04650633225570933), (3222, 0.04649365012821741), (1557, 0.046418779270964244), (390, 0.0462926864699965), (1329, 0.04597654259970839), (3469, 0.04570087523953199), (1883, 0.04548420776969227), (3718, 0.045372891776518556), (3432, 0.045332113748883726), (1069, 0.04521134182073892), (3083, 0.045073767493550215), (2058, 0.04487433637932057), (4600, 0.04473613245630962), (1045, 0.044655484258131664), (1126, 0.044565248615364254), (2397, 0.04438767955630685), (2220, 0.04435815106696679), (2521, 0.044112632822190787), (3022, 0.043922301054663035), (3463, 0.04369655084510338), (788, 0.043556958237564086), (3416, 0.04351442890077195), (3336, 0.04342814633098113), (3512, 0.04329186459673866), (2853, 0.043262469464810924), (3410, 0.04316937626004662), (1464, 0.043066127498131775), (1216, 0.0430335459558207), (4051, 0.043012026751966775), (706, 0.042770194873333695), (2565, 0.04268247444148854), (135, 0.04261910137249331), (2498, 0.04256243859259009), (3447, 0.0424349815297239), (1201, 0.0422940771650679), (277, 0.042078363057500796), (928, 0.042074590141061484), (2194, 0.042010420902334936), (2001, 0.041856759868982456), (2531, 0.0418516079360489), (1252, 0.041761788871222186), (4676, 0.04172474410710364), (3782, 0.04171454020204583), (2867, 0.0417095776548417), (1479, 0.04149544681648822), (1530, 0.041392127015698194), (1576, 0.04123027259966128), (162, 0.0412243421465232), (2237, 0.041140336300030514), (2109, 0.04086728924493111), (4555, 0.04073692811728641), (394, 0.04058628875378156), (923, 0.04049973018531938), (4371, 0.040432320757257126), (3997, 0.04041075855637463), (2292, 0.040190253552203084), (3632, 0.04015957722794162), (4137, 0.039985965694357056), (3684, 0.039899010838359374), (1962, 0.039855152982636734), (1953, 0.03976064135019704), (1803, 0.03971844536983586), (1002, 0.03971427126137728), (3288, 0.03961412363301421), (1229, 0.03959556549403027), (569, 0.03945392763274283), (1959, 0.039429644677513594), (2066, 0.03932440932491303), (3076, 0.039278109474532), (4121, 0.03914223481301092), (2294, 0.039073296067513155), (3168, 0.039044915473276556), (2276, 0.038729251561510664), (1484, 0.03866687772106416), (1648, 0.03866251949212199), (562, 0.03849361980651192), (2337, 0.03835776507775005), (1579, 0.038313120313059515), (227, 0.03823533995091734), (2584, 0.038159717117573086), (4103, 0.03804827567346469), (2644, 0.03797263990496988), (2030, 0.03794268590948076), (3352, 0.03787407514333745), (633, 0.03787385065245869), (4272, 0.03780033796248467), (4169, 0.03779037207528085), (2625, 0.03771165464893558), (3345, 0.03769200619760618), (4359, 0.03763557573201692), (4269, 0.037609829412871124), (2651, 0.037600921589047785), (2755, 0.0375847185873772), (3450, 0.037558466679922194), (2315, 0.037546219900809995), (178, 0.0375381357825482), (2202, 0.03748635799924377), (181, 0.03744894176972841), (1910, 0.03743284785727919), (4188, 0.03741396451607535), (3253, 0.03732801138010511), (2447, 0.03720478575114041), (3239, 0.03719490947624717), (2722, 0.03710282781547743), (1846, 0.037085495796191956), (2681, 0.03706300609656618), (3778, 0.037047069507204516), (25, 0.0368040524205002), (1353, 0.036645709288514135), (4381, 0.03663148021920489), (4395, 0.03658825855349074), (1847, 0.036298507675075774), (4414, 0.03611787164843109), (4759, 0.03598319338433318), (3036, 0.035977726184191455), (3360, 0.03585432929256495), (3794, 0.03579666587796828), (3098, 0.03577180826230945), (1996, 0.035687943139255496), (4375, 0.03557836216195114), (2504, 0.0355558666902135), (4526, 0.03548705430802252), (4262, 0.03546840510647671), (1469, 0.035325934376116336), (1274, 0.03529539670794914), (1571, 0.035231353358365664), (46, 0.03516017029035358), (4248, 0.03503338614127848), (4615, 0.035007496363163505), (4620, 0.03499442617523323), (856, 0.034859163560939065), (3228, 0.03484706988927161), (2688, 0.034704100092195836), (2281, 0.03470325411218213), (725, 0.03466644154266334), (271, 0.0346579209716399), (2003, 0.0346326942577974), (4157, 0.03460645552585087), (4483, 0.03459230534831205), (2791, 0.034583200641462156), (3069, 0.03444252279744185), (2167, 0.03441977600043382), (1774, 0.03406025814024434), (2152, 0.033988206772175435), (4152, 0.03387158257663499), (1492, 0.03377757535110016), (470, 0.03372274030706889), (13, 0.03360773498938506), (3300, 0.03358702708332954), (2785, 0.033559843127735155), (3603, 0.033524531577974415), (2944, 0.03351918411330439), (387, 0.03349275822743218), (4680, 0.033301336853137985), (409, 0.03326260710836344), (217, 0.033256725489252736), (3151, 0.033253673075814214), (691, 0.03322250516367409), (2884, 0.0331951863802978), (1270, 0.03319021884621625), (371, 0.03310453592327818), (919, 0.03279536705082502), (4486, 0.03274492570994818), (269, 0.03269615196249157), (1881, 0.03259741743645749), (2084, 0.032342237933876604), (4119, 0.03232898555445017), (1657, 0.032305843924879465), (3826, 0.03227178649185769), (2689, 0.032178293325370234), (4436, 0.03217441807287399), (632, 0.03215550415547084), (4737, 0.032069489701131736), (3466, 0.03206072078345489), (752, 0.03202923288920266), (2148, 0.03201581559712008), (3270, 0.031964230675069795), (1294, 0.03193804043720115), (2427, 0.03190836438718492), (2525, 0.031900009881254576), (2729, 0.03184208954004936), (2738, 0.03179183430166324), (657, 0.031671845958624864), (3484, 0.03164862815000694), (4009, 0.03162625618618355), (1919, 0.03157205327147006), (4120, 0.031565747754298996), (166, 0.03156563429940922), (3440, 0.031498602227754524), (1125, 0.03145679464413371), (1374, 0.031396337130452895), (1700, 0.031379943406150634), (3934, 0.03136198617574833), (2627, 0.03131086858756698), (291, 0.031233954765142354), (1506, 0.031213753018468102), (813, 0.031196635662694795), (1756, 0.031190427291645013), (2844, 0.031181323064792876), (844, 0.031163124455865526), (425, 0.03114216629797334), (100, 0.031128803818328554), (424, 0.03109928930949869), (832, 0.03100103658754793), (506, 0.03099287875758922), (2166, 0.030964467079992317), (2307, 0.030959001991676498), (4377, 0.030933543382614576), (1235, 0.030920286531982637), (3921, 0.030869362778018966), (4283, 0.030779225241584038), (2419, 0.03075750333589872), (580, 0.030686566356785683), (97, 0.03061483310294706), (829, 0.030524169659495254), (4223, 0.03051752072958608), (4648, 0.03050461056690474), (2403, 0.0304662349040854), (1861, 0.03042221211256818), (3102, 0.03037709336249484), (422, 0.03037342421104491), (1283, 0.03033049066907677), (4639, 0.03029395645806745), (3571, 0.03027181104649132), (1106, 0.0302591220059847), (361, 0.0302379203172741), (1845, 0.030231857876216767), (261, 0.03016446075697248), (368, 0.03015928577340659), (263, 0.030129871644518365), (1310, 0.02999911814684253), (141, 0.029955094403257703), (3214, 0.029942175526838703), (340, 0.029931992565285077), (3221, 0.029884763248456497), (3024, 0.029811469382731916), (206, 0.029793181552577347), (2046, 0.029777212608210712), (635, 0.029756442311461302), (1331, 0.02975298659585929), (1500, 0.029717680699969808), (122, 0.02965180753235349), (1407, 0.02962317705804707), (3424, 0.029577320130243997), (530, 0.029548303263926816), (1378, 0.02952371625520777), (3289, 0.029509798055235167), (687, 0.029506225936332252), (4682, 0.029487901641505478), (1769, 0.029473404532822597), (2008, 0.029460421345189204), (273, 0.029337819646032205), (764, 0.02933090389172532), (4113, 0.02928659294586627), (2858, 0.029263901649972043), (799, 0.029234326071901958), (1559, 0.02921475080969457), (4448, 0.029167465676674165), (253, 0.029158616622506836), (3708, 0.029124062461633113), (3665, 0.029112514498674226), (1123, 0.02910175906093073), (108, 0.029070098088493673), (1750, 0.029048837659154163), (3769, 0.029041699674278065), (2823, 0.02903060573121243), (4069, 0.029029201331151305), (4345, 0.028977831264739504), (2773, 0.02892401866012544), (3681, 0.028875084201499576), (653, 0.028861833634102368), (1261, 0.02870142195158194), (212, 0.028685895073228232), (2020, 0.028671520254900624), (2519, 0.028634027723686326), (3444, 0.02853324554743114), (3845, 0.028522322556815784), (297, 0.028486768117436313), (4585, 0.028473014495410474), (2404, 0.02841810492876904), (4222, 0.02838025871639006), (590, 0.02837294269335668), (418, 0.028244880688518704), (2546, 0.02822026332046594), (3420, 0.028200440050159904), (3195, 0.02811199699077644), (1109, 0.028080439303972166), (392, 0.02803738514494914), (3765, 0.027999909490634606), (3881, 0.02793767502907425), (1602, 0.027929204484168087), (2057, 0.027902171098804038), (1925, 0.027839320507590477), (2560, 0.027824479273165066), (3287, 0.02779916532267843), (2817, 0.02779017679815617), (2633, 0.027748483803401485), (542, 0.02772360658937043), (4313, 0.02768557226703873), (3009, 0.02767768590147664), (1286, 0.02766747847963592), (909, 0.02766614559417755), (3905, 0.027663660880042316), (3275, 0.027571104153464147), (864, 0.02755153497053836), (1139, 0.027512117312001), (3536, 0.027508557380227047), (4347, 0.027474463378598053), (2574, 0.02739587487374669), (2222, 0.027350401775244934), (1965, 0.02725258234001928), (2041, 0.027237932443146005), (779, 0.027154361316560904), (1915, 0.027110631416552906), (3280, 0.027095175673566917), (3786, 0.02707600806920339), (3810, 0.02700451399102293), (1340, 0.026980565877870136), (1514, 0.02695305944068638), (1893, 0.026945682079761363), (1709, 0.02684995575336028), (3303, 0.02684161655347527), (3788, 0.026839137519587105), (1508, 0.026823185569194538), (1046, 0.026702922452663497), (2972, 0.026699746326121425), (1951, 0.026685554152367348), (1087, 0.02666128886621227), (2363, 0.026619541112399794), (4271, 0.02659491865606043), (267, 0.02658506149030014), (4059, 0.026562147748224667), (1961, 0.026554714203372916), (3550, 0.02650810323417818), (969, 0.02649734393285405), (1450, 0.02646155160199503), (344, 0.026384537251052317), (4070, 0.026372507444431884), (2610, 0.026261613723280494), (2787, 0.026224852443510308), (747, 0.02620860592516837), (1297, 0.0261211265473562), (1721, 0.026117741475875637), (3451, 0.02610133493564175), (1365, 0.02606789817474155), (2459, 0.02604562662947722), (4642, 0.025843548157550286), (4435, 0.025837001009347372), (4576, 0.0257439781282202), (2732, 0.02574310486432331), (1738, 0.025725154245509238), (2147, 0.02567237123920232), (3397, 0.025634470809793395), (175, 0.025600640040200195), (3344, 0.025558924532319706), (3592, 0.025509415527725905), (3265, 0.025495490702599412), (3205, 0.02543858874158858), (3446, 0.025435022184104483), (2581, 0.02536884813314068), (99, 0.025346066823940718), (2221, 0.025229104159510796), (1523, 0.025214984383723132), (2730, 0.025213691478536304), (2992, 0.025192387681030205), (4267, 0.025182474986496006), (1797, 0.02507898650430098), (2576, 0.025033056512562307), (4325, 0.025003841871712264), (2656, 0.024947641074655504), (1936, 0.024945586802587575), (1725, 0.024932987635294675), (82, 0.024911418551687), (4708, 0.024907257515881957), (4117, 0.024882806821214163), (582, 0.024812123282830327), (2212, 0.024804025782341404), (1888, 0.02475133501536978), (2099, 0.02472952929737449), (1637, 0.024697888777229497), (45, 0.02468700391760775), (2962, 0.024594093625355876), (1325, 0.02458577184282335), (916, 0.024535536133447278), (386, 0.024402991770058592), (1427, 0.024383186325542126), (4023, 0.024345119042344945), (3797, 0.0243321314402212), (1300, 0.02428303677999514), (4217, 0.024272208743880377), (3276, 0.024254107845633838), (703, 0.024158319633138886), (3787, 0.024087971739123765), (683, 0.02406525594092295), (1144, 0.024035326460800734), (3736, 0.0239806570310184), (250, 0.023937814888406454), (1736, 0.023931201260815365), (2478, 0.023915051278367537), (4450, 0.023907352224787903), (3144, 0.023877052079644183), (2320, 0.023853891961132773), (1952, 0.023834922023390707), (1871, 0.023829511748951638), (2720, 0.023797894742745008), (1199, 0.023792961204039603), (2780, 0.023785989284458107), (1659, 0.023780814292523447), (1207, 0.023749774006506977), (929, 0.023715316270920342), (2575, 0.023703255500778647), (677, 0.02364613075736157), (4624, 0.023641910475003837), (3003, 0.02361326977737946), (664, 0.023590345593973286), (4005, 0.023588776737213428), (4722, 0.02356826117708391), (2043, 0.023531784590700884), (4312, 0.023435418143697012), (3623, 0.023385538314400277), (2012, 0.023353214137952237), (123, 0.02334980637557401), (1052, 0.023304151540786966), (4211, 0.023288477182413173), (3108, 0.02325944793166913), (3965, 0.023209976995349612), (607, 0.023209604187890087), (1949, 0.023182735246628627), (658, 0.02316237669898522), (2870, 0.023150979286707476), (2334, 0.023141103962471953), (3486, 0.0231040235129646), (1243, 0.02309506867414084), (2561, 0.023080040800266523), (388, 0.023068725063301952), (4118, 0.023034665946365024), (1850, 0.023025098700490354), (356, 0.023005764412920085), (1848, 0.023002871932439765), (1817, 0.023002450865928385), (4323, 0.02298548485065032), (2782, 0.022955581853859333), (3135, 0.02295079719394007), (91, 0.022931825006463562), (372, 0.022823126752739835), (2348, 0.022822658950284024), (4374, 0.022793336659529595), (3655, 0.022709109928160873), (1539, 0.02270615070184463), (1816, 0.02267686279061499), (3169, 0.022658710243107866), (1791, 0.022647736380670268), (3193, 0.022643305660085027), (1413, 0.022581219275535754), (2469, 0.022578248482695448), (86, 0.02257542273284056), (1101, 0.02252608444102144), (1555, 0.02248515150003001), (3157, 0.02247977813566845), (1955, 0.022465102575159768), (2654, 0.02246170009881486), (1537, 0.022447789985264564), (2893, 0.02244234755024111), (2647, 0.02243685901212773), (33, 0.022426582091788175), (2662, 0.022405191949492455), (2882, 0.02240313371975599), (334, 0.02238373916371748), (2587, 0.022355339570792138), (1985, 0.022319667670975978), (1214, 0.022293755385202355), (555, 0.022277863820509714), (2991, 0.022277697956801304), (2304, 0.02215954285442203), (1309, 0.022109857388576737), (3555, 0.02210680063199323), (2064, 0.02210639908330639), (2566, 0.02209801198337637), (1594, 0.022097072396637434), (1678, 0.022035645328004304), (1981, 0.022034659114832322), (1781, 0.02201300828674258), (3111, 0.021995786236957), (2495, 0.02199132076591303), (4452, 0.021985867023410783), (1587, 0.021963876506080053), (3955, 0.02196134754659589), (3073, 0.021923523356885063), (4709, 0.021874616425580976), (4061, 0.021857367542951513), (4026, 0.02180105505641753), (3192, 0.021797322576944722), (1341, 0.021777246280403506), (44, 0.02176141470911635), (4319, 0.02175237078153175), (2387, 0.021743663401423512), (996, 0.021704810663006828), (2940, 0.021688381642863613), (442, 0.021685354991392215), (4369, 0.02166448439588589), (2795, 0.02163647853840337), (908, 0.0216332939889719), (3237, 0.021612548655708778), (2178, 0.02160312603109883), (2444, 0.021602243288258376), (2586, 0.021599897768823303), (3464, 0.02157117968753648), (1697, 0.021559041920532797), (3421, 0.021555365490630574), (3706, 0.021537374818690554), (4404, 0.021522894968861086), (4504, 0.021505829334106386), (950, 0.02143820647191301), (84, 0.02136719843598005), (1154, 0.021341340258632043), (4725, 0.021341002101107696), (955, 0.021326761839905183), (3271, 0.021315715324285826), (2151, 0.021314514477987913), (264, 0.02126597739537135), (568, 0.021244389697901923), (2481, 0.021244134122571888), (618, 0.021219703157356613), (3297, 0.02119398058620584), (4050, 0.021177410463494226), (2239, 0.021166128309000023), (456, 0.021153961641776933), (4556, 0.021130800833445373), (1617, 0.021126210464352584), (1043, 0.02109453028758053), (878, 0.021084819716105818), (2706, 0.021069335986523156), (3715, 0.021064807310146493), (2582, 0.020987155645424332), (4233, 0.02097009923593507), (63, 0.02095134566132829), (1476, 0.02085826248896671), (3465, 0.02085757492239744), (3142, 0.020852348523803608), (2492, 0.02082482609924946), (1585, 0.020822281980429215), (3141, 0.020808165595325438), (494, 0.020799886667921163), (1359, 0.020788433233799367), (778, 0.02077080794322591), (1494, 0.020764124797792795), (4112, 0.020746875650033886), (4492, 0.020723186843284648), (757, 0.020686669752752726), (4206, 0.02068199605497839), (2106, 0.020658635274352483), (221, 0.020652519684883915), (1112, 0.020650010948502565), (1496, 0.020625420570721493), (413, 0.020620364246202744), (1897, 0.02061936163020574), (2115, 0.020604467818973696), (945, 0.020579428246751835), (170, 0.020550726552782027), (3998, 0.020500862308670258), (4523, 0.02048270621290168), (2600, 0.020482645210526652), (246, 0.0204712187307858), (129, 0.020465426150311966), (1121, 0.02045686483727333), (2422, 0.020451077262284973), (160, 0.020444877772209127), (3182, 0.02041594811499549), (369, 0.020398488348854393), (1939, 0.02039420106991162), (3565, 0.020379198883575957), (4016, 0.020370939152410294), (426, 0.02036245382592449), (485, 0.020358452436798846), (4149, 0.020355310438102136), (3733, 0.020352597214837058), (2642, 0.02035115728638463), (1258, 0.020343264371445596), (2068, 0.020343009458444715), (4757, 0.020340416618097084), (3841, 0.020309178579376478), (785, 0.020308584432514702), (1113, 0.0202697111267244), (1188, 0.020257653985877647), (3585, 0.020255700709452436), (3154, 0.020254262132272785), (3825, 0.020252839934157336), (3890, 0.020250129101003683), (193, 0.02023197597755393), (1630, 0.020231573309078196), (125, 0.020219580603641357), (690, 0.02020823927535588), (807, 0.020207080735444232), (3328, 0.02020270256241938), (1304, 0.020198391205848796), (1420, 0.020191025054301634), (4007, 0.020143801524861962), (454, 0.020130127706555485), (2107, 0.02010932907202365), (1366, 0.02009904493027175), (2763, 0.0200806693696412), (561, 0.020063852183842316), (1084, 0.02005984549921786), (4071, 0.02005423002915333), (352, 0.020001542987844234), (211, 0.019999811846430404), (2513, 0.019996360721949054), (4679, 0.019987010141600283), (1759, 0.019980768752755486), (2949, 0.01997702703787541), (4730, 0.019952500321579934), (1456, 0.019931630888374477), (2234, 0.019926348015975894), (4327, 0.019925882021039083), (1210, 0.01991555500889322), (3294, 0.019909114974248045), (4125, 0.019900557565097045), (934, 0.019887444903681415), (4075, 0.01986977792502724), (1973, 0.019856304620256497), (4288, 0.019811660703662803), (3631, 0.019807742345360403), (3355, 0.01979972181083921), (780, 0.019791845467037696), (3492, 0.01977950400935323), (2036, 0.01977142326487516), (3398, 0.01975955322101614), (3184, 0.019751968994030016), (2553, 0.019748331988039408), (2133, 0.01973270153600437), (984, 0.019730012951568614), (1488, 0.019715720341401243), (1675, 0.019711523073475574), (543, 0.01971002801795849), (3502, 0.019669483759049658), (3589, 0.01966525180545268), (665, 0.019636519653182617), (2031, 0.019628221573775924), (1634, 0.019624438009956443), (2362, 0.01961304517379595), (2663, 0.019604890883523938), (73, 0.019601990165250452), (367, 0.019544591162185255), (4192, 0.01950026965365284), (67, 0.019471373622198744), (3311, 0.01946354134552576), (1200, 0.01944675038233041), (1468, 0.019438636676238255), (282, 0.01942187562270075), (756, 0.019417903626040355), (2111, 0.019409785482251033), (1173, 0.019381990132458827), (3741, 0.019355208704811035), (3199, 0.019245952984280036), (1748, 0.01919888605397918), (818, 0.01919391115975774), (1291, 0.01919199390119857), (1775, 0.019188934758073928), (904, 0.019185507068296408), (2995, 0.01918096985092003), (741, 0.019125523754770633), (1030, 0.019117412782584366), (2229, 0.019101775101228718), (803, 0.019094753217247993), (1787, 0.019076944909915114), (4589, 0.019071549734685306), (4604, 0.01905564251638975), (214, 0.019055473383386305), (4253, 0.0190430826444706), (4440, 0.0190404241707158), (2936, 0.019039724725556834), (1358, 0.019030108283805986), (1332, 0.019012798944346234), (1987, 0.019008229097350483), (3524, 0.019006835916509514), (3335, 0.018958061292340487), (3540, 0.01890989553282316), (2047, 0.018869939714661284), (116, 0.018847946999788225), (3077, 0.018842861796920112), (1982, 0.018838083014696), (4382, 0.018832061289446166), (1591, 0.018827346998064945), (1720, 0.01882199065216339), (2077, 0.018809843479491047), (213, 0.01880119578654089), (496, 0.018793993757456395), (2721, 0.018777144494685434), (2236, 0.01877206404433395), (4064, 0.01873430578162045), (1249, 0.018733059818063294), (2168, 0.018717023731580497), (3505, 0.01870323235660066), (3238, 0.018694916463721355), (2479, 0.01869131279913555), (959, 0.01866565108325274), (3933, 0.018646411922188716), (842, 0.018631324481671787), (153, 0.018620691733405775), (912, 0.018619513993949764), (3583, 0.01861428033830319), (2468, 0.01861406516677227), (1208, 0.01860553376817539), (1566, 0.018597893695585524), (2622, 0.01858686101089705), (857, 0.01858677432030844), (1569, 0.0185423725648514), (3147, 0.01853476323773795), (3528, 0.01852107582068306), (497, 0.018494922516557835), (2814, 0.018472734856005153), (3912, 0.018462712690793668), (2834, 0.018454373893095743), (4437, 0.01844705556377755), (2069, 0.01842547116678327), (3498, 0.018411586903454534), (2898, 0.018397967713457395), (373, 0.01838208090000469), (4200, 0.018370878576875877), (3877, 0.018349380497429617), (235, 0.01833949459153812), (1119, 0.018333371476046932), (4015, 0.018325465587719678), (61, 0.01832101153044436), (3062, 0.01831064021323751), (876, 0.018305582482441674), (357, 0.01829166998865621), (4293, 0.018279120653272127), (723, 0.018260543746210407), (4285, 0.018255893890237893), (1448, 0.018254007171279868), (2191, 0.018221860816720076), (795, 0.018200827696293782), (3813, 0.01818576590816011), (712, 0.018182182845742724), (1392, 0.01814834951395797), (3533, 0.01812032492598167), (1941, 0.01811966618920989), (303, 0.018108907356068547), (275, 0.01810524556986773), (3577, 0.018092733213045834), (2810, 0.018083442756372255), (746, 0.018076324288041037), (203, 0.018050490319529315), (2747, 0.018048277740645102), (1799, 0.018019988207981615), (1865, 0.018018408001588444), (1690, 0.0180179440945443), (3522, 0.01795891908242176), (3137, 0.017937289614197462), (2351, 0.017934993133081355), (905, 0.017931309360841037), (2011, 0.01790971967671642), (992, 0.017905500346252084), (538, 0.01790244845177824), (2509, 0.01790087365440069), (3616, 0.017880999475777676), (655, 0.01787300317568769), (3418, 0.017871029740317606), (2256, 0.01785664735328868), (2244, 0.017847249739694003), (3210, 0.017823809893893122), (2714, 0.017820303545111167), (1560, 0.017819608096921707), (68, 0.017809423777252906), (3658, 0.01779156208790646), (2136, 0.017790232951188124), (3866, 0.017787350565137156), (4453, 0.0177833364744905), (293, 0.017782082997124877), (4586, 0.01778114025135742), (3044, 0.017767025089751757), (364, 0.017764145369202882), (2044, 0.017759754743923477), (3364, 0.01774849747700695), (225, 0.017689787826244287), (2774, 0.017684157715275366), (1152, 0.01768169906231575), (2493, 0.017674884440695326), (3948, 0.017669245911584003), (40, 0.017665633232676968), (4719, 0.01764505210805907), (3437, 0.017636948802754328), (2754, 0.01763135055223022), (2082, 0.01762668540848176), (865, 0.017571792165976013), (4712, 0.017535569262547603), (1858, 0.01750735952341865), (1266, 0.017495703094916198), (1838, 0.017491776398499952), (38, 0.01747950040620458), (3227, 0.01746752473990476), (1729, 0.017464043335876384), (3777, 0.017438361191197196), (2843, 0.017434893889775985), (1104, 0.01740064601120396), (4045, 0.017397697458937114), (3642, 0.017388818321979967), (3376, 0.017382277891248746), (606, 0.017375295602708722), (862, 0.017366907901695046), (2692, 0.017365201972850405), (139, 0.017360468711455003), (3373, 0.017352569096026865), (4510, 0.01734874764968798), (2984, 0.017331688493419154), (1389, 0.017299425649150827), (1149, 0.01729904801807856), (726, 0.01729725344037404), (4203, 0.017271612192474042), (1603, 0.017248662323833375), (319, 0.01724513930981377), (1565, 0.017237429799533775), (1586, 0.01722430768954292), (1486, 0.017223872111204862), (350, 0.01721219857171486), (3833, 0.017195212280979515), (2021, 0.01717180050590543), (3153, 0.017167594588929826), (1822, 0.017157200225468523), (1640, 0.017149746679288397), (95, 0.017146288118394425), (2790, 0.01712867212309063), (2665, 0.01711808754396909), (4460, 0.017097661866639146), (3471, 0.017091876205562267), (1007, 0.01708908481528678), (1099, 0.01708606649255559), (1254, 0.017045097085223088), (3907, 0.017040947536771062), (1622, 0.017023409922838663), (2443, 0.017021684096821074), (796, 0.017008554359454354), (2880, 0.017005182165000965), (609, 0.016998565820044803), (3676, 0.016982825138106235), (502, 0.016948455554216958), (93, 0.016876342290910135), (1945, 0.016875164669197074), (2580, 0.01687268042047986), (3858, 0.0168722029137182), (2144, 0.016866240620516178), (1513, 0.01686519105512456), (2035, 0.01686297368127031), (2626, 0.016859822027631345), (301, 0.016859020884321244), (825, 0.01685867994569645), (705, 0.01684873782438475), (27, 0.016830739845238724), (2811, 0.016829256351441415), (4406, 0.01679679046052879), (3436, 0.016786881410107025), (3875, 0.016774838223096056), (4571, 0.01676558201719418), (1017, 0.016760647173594188), (1432, 0.016759156004400134), (1195, 0.016757762750740327), (684, 0.016756227710465962), (1733, 0.016754880317495544), (90, 0.0167507930125404), (508, 0.016749731318486227), (280, 0.01674326256976643), (696, 0.016734386463344773), (3097, 0.01672813488630881), (2873, 0.01671852989082891), (4351, 0.01671136828431035), (2950, 0.016707098457995565), (4652, 0.01669074102025498), (4226, 0.016650551817362802), (2668, 0.0166457315968346), (1727, 0.01663247671024365), (990, 0.016621036432942826), (4093, 0.016617820620931274), (872, 0.01661390324943411), (4001, 0.016602879422164908), (3690, 0.016601224045513632), (3091, 0.01655941904230611), (2024, 0.016539963660553283), (353, 0.01651422875246878), (3218, 0.01647617934204868), (1516, 0.01647433173725762), (1572, 0.016468416363430625), (3982, 0.016465452192241777), (1071, 0.016452339876320058), (113, 0.016449086807363258), (4557, 0.016441930028796868), (2208, 0.016429441432350818), (2218, 0.016392432394291605), (1024, 0.016381223726590562), (1522, 0.016380228272895012), (1282, 0.016374657010970413), (259, 0.01636907602008896), (1852, 0.016354201083735694), (1635, 0.016346252846366302), (849, 0.016341742502068747), (2951, 0.016322250537140388), (982, 0.01632009423840239), (2554, 0.01631200133857205), (1849, 0.016302405105726274), (3514, 0.016301449225434504), (2865, 0.016301075645625423), (3927, 0.01629800401204628), (3822, 0.016295706498580424), (2081, 0.016293843151227547), (3435, 0.01627809615110374), (3919, 0.016267282030971983), (4216, 0.016264347349476748), (1108, 0.01625032986798193), (4108, 0.016249460950986477), (1718, 0.01623449039053761), (3461, 0.016223628448612498), (2878, 0.016222774573678843), (1851, 0.016222333878548312), (2353, 0.01621054295835897), (1969, 0.01620958736042174), (749, 0.0161980273960266), (1495, 0.016182929800032938), (2597, 0.016162930270051952), (2540, 0.01615663446871713), (1741, 0.016151453527150063), (144, 0.016145292725372476), (793, 0.01613696532236967), (164, 0.01613214977101009), (2241, 0.01611300542272636), (3513, 0.016109453743536867), (1592, 0.01609994227547585), (3332, 0.016079659755033254), (2071, 0.016067897537310857), (2217, 0.016038502092665587), (3443, 0.016031833954312555), (2303, 0.016016506419697915), (890, 0.01601380373244474), (2125, 0.01599036218812383), (2678, 0.015979096580779777), (2487, 0.015965644989084947), (946, 0.01595604054404096), (3678, 0.015943503592543606), (127, 0.01594054037288091), (781, 0.015925450117146217), (3552, 0.01591453773437045), (2816, 0.015900194303705054), (488, 0.015890303651059055), (727, 0.01587264217562565), (3283, 0.01586545608843449), (528, 0.0158442219151489), (3386, 0.015831459876406665), (498, 0.015809460656984263), (1660, 0.01580751320702765), (3549, 0.015804073052469978), (3599, 0.015790575584662556), (2431, 0.01577853913577382), (2014, 0.015732826410381966), (3648, 0.015714999563412557), (1597, 0.015713341292232893), (4690, 0.015703291512102088), (1688, 0.015680609739393496), (1613, 0.01567146917153639), (310, 0.015670490178542502), (2494, 0.015668560845861837), (2511, 0.015647257730115292), (1649, 0.01562644745645089), (2737, 0.015608749799803503), (1447, 0.015603427523125468), (1155, 0.015588269232348594), (931, 0.015569740413169442), (169, 0.015553878059387221), (3293, 0.015543855012400104), (734, 0.015534802960091632), (1751, 0.015534593488318043), (397, 0.01552947251402776), (28, 0.015512050753110594), (4099, 0.01550845174654927), (504, 0.015507016623402408), (2245, 0.015506274898201899), (111, 0.015503752732362966), (3531, 0.015499724316569846), (971, 0.015498246833359779), (94, 0.01549549468166244), (1001, 0.015484380639154825), (4037, 0.015474999139268902), (2153, 0.015469099671128878), (1411, 0.015455515751651432), (500, 0.015452178849571493), (3399, 0.015447795873048693), (1525, 0.015446665634731224), (2807, 0.01543469808793348), (3018, 0.015434322669353228), (3150, 0.01542327972338785), (1074, 0.015401970933114635), (486, 0.015397016399175983), (2825, 0.015385904354841988), (1726, 0.015380673799421266), (3178, 0.015367082952630177), (840, 0.015352956253160813), (3650, 0.015345663523213501), (540, 0.015342072050498368), (2193, 0.015341155555822713), (529, 0.015336767058229058), (4257, 0.015315829366362887), (182, 0.015303631123945685), (3356, 0.015301630855030258), (532, 0.015290918191149885), (1948, 0.015289044149809328), (3829, 0.015288032033443817), (742, 0.015280195501959864), (307, 0.015277803770848995), (336, 0.015277723954468988), (1501, 0.015275353920996326), (154, 0.015273743019447299), (2812, 0.015273460432000632), (4218, 0.015262951823841015), (3582, 0.01525411539038698), (852, 0.015250256908082517), (1412, 0.015250017021746866), (4135, 0.015247910118149589), (521, 0.015247633713269277), (1552, 0.015245294621854453), (2680, 0.01524106796901183), (3033, 0.015235689116044893), (2203, 0.01521693340731488), (935, 0.015202426177506964), (3595, 0.015182958043125291), (763, 0.015168668669037863), (158, 0.015166415827041929), (4447, 0.015153734099685626), (2920, 0.015153518697478888), (427, 0.01513742080713449), (731, 0.015121302380397952), (1373, 0.015092300127875786), (2224, 0.015090987495811628), (938, 0.015087081691119594), (4019, 0.015049965041313966), (1259, 0.015049132902009012), (346, 0.015043988093000334), (3066, 0.015026992088037585), (3477, 0.015017650152162113), (604, 0.015010468769265676), (1794, 0.014996023796869266), (3656, 0.014995672836593768), (2150, 0.014968913518771443), (973, 0.014964507510856428), (3201, 0.01493863075862079), (4239, 0.014920654989998061), (1898, 0.014918789605320181), (3284, 0.014891190736293216), (1164, 0.014887924195757178), (2329, 0.0148837649102755), (2514, 0.014873321746454136), (3868, 0.014870535512208174), (2056, 0.014859061026681771), (3232, 0.01485581430451452), (507, 0.014839427901136973), (3569, 0.0148357494204635), (1354, 0.014833336779743847), (2131, 0.01482423548280144), (4661, 0.014823341083107058), (3285, 0.014817134375432263), (2897, 0.014796514107644751), (2971, 0.014792282448716413), (2093, 0.014784498510514364), (883, 0.014778609534876988), (4476, 0.014743982383736505), (2424, 0.014741496235072035), (2701, 0.014729121415691639), (3295, 0.014727252658674268), (4290, 0.014725388039582229), (4442, 0.014710357132339522), (3886, 0.01470847292360661), (2352, 0.014689256056107932), (981, 0.014664236601238794), (2409, 0.014654623858932927), (35, 0.014650988858558483), (3159, 0.014646272192643852), (4055, 0.014643218868027197), (773, 0.014613398953314122), (3750, 0.014604056399384686), (3646, 0.014600729406865687), (2446, 0.014597263622824012), (3267, 0.014597034778452684), (3562, 0.01458983659157084), (215, 0.014551903816310156), (3149, 0.01455048177942516), (3320, 0.014531942020908802), (1714, 0.014521285779045802), (735, 0.014495410701640316), (642, 0.01449289423872231), (1778, 0.014486597059173444), (2455, 0.014469452931590967), (3070, 0.014447210842044365), (2666, 0.014443980137871865), (515, 0.014443528543023127), (1584, 0.014433438003941096), (4114, 0.014432310538097324), (417, 0.014424261905416166), (1642, 0.01441800682222114), (907, 0.014411415308544886), (3923, 0.01439153795561236), (2399, 0.014380619467069037), (2529, 0.01437915867800934), (2065, 0.014351731853932997), (2426, 0.014343798332840257), (414, 0.014329881191767443), (1824, 0.01430201424429039), (2433, 0.01429912938103929), (314, 0.014293981166042026), (2389, 0.014278216566168095), (1802, 0.014273854119293133), (1746, 0.014251119652876926), (2954, 0.014248572016898362), (1567, 0.014244508604992658), (1487, 0.01422228978911446), (3127, 0.014221810153760416), (4174, 0.014219164853275025), (640, 0.014211240552266552), (3633, 0.014200923512261772), (2645, 0.014195578952991277), (851, 0.014191813001358338), (1308, 0.014175894333694953), (4473, 0.014168917484326273), (130, 0.014160814213644476), (2367, 0.014148616183320811), (3071, 0.014125879658232008), (165, 0.014118971118468146), (3354, 0.014116191856843575), (1482, 0.014109437149864448), (1348, 0.014093095322413263), (597, 0.014082245246260505), (279, 0.014078451357216599), (338, 0.014074878798016017), (2395, 0.014073165660843238), (14, 0.014047728424318194), (2439, 0.014017969814833858), (1521, 0.014012592167520446), (2412, 0.014005725311443052), (4158, 0.014003999908456247), (3129, 0.014002026755264489), (2608, 0.013990497469460319), (3040, 0.01398866215550528), (2033, 0.01398747935177097), (2177, 0.013983490429361726), (3389, 0.013978142959821405), (2660, 0.013977381022772602), (1025, 0.013963731279900568), (1157, 0.013955225819747386), (75, 0.013952549603420263), (2764, 0.01393585713900912), (3957, 0.013930629764497193), (4047, 0.013912401850648846), (1477, 0.013901766717920325), (4115, 0.013877313262355138), (1903, 0.01387294430058915), (2855, 0.013863740872308922), (820, 0.013861356542266752), (2615, 0.013858100367476993), (2114, 0.01384393273934518), (4107, 0.013843609002182344), (1698, 0.013838802631371794), (2379, 0.01382840948013583), (3579, 0.01382577144501054), (583, 0.01381160621393461), (2262, 0.013808672425081728), (3139, 0.013804640756419058), (2891, 0.013793662090366596), (1784, 0.013790323407761696), (3598, 0.013785192864370722), (885, 0.013782925789261383), (2832, 0.013781652584951148), (2820, 0.013780216544355732), (3936, 0.013778160198687791), (692, 0.013776230916284948), (3949, 0.013774451216273362), (2500, 0.013747009566684397), (1719, 0.013743979415104041), (3231, 0.013729304434323034), (3448, 0.013727107284533899), (4109, 0.013717274085997825), (978, 0.013692870628473538), (2913, 0.013663548599068459), (1090, 0.013656379788675337), (4403, 0.013651853237007445), (898, 0.01364832320811105), (1312, 0.013590122054475906), (914, 0.013566132078264537), (3748, 0.013519504339731455), (2137, 0.013495742303548353), (202, 0.013492690516498127), (1115, 0.013484880459978161), (1212, 0.013482792153412656), (3439, 0.013477614053929544), (3914, 0.013464876353978618), (2253, 0.013457207701496377), (4198, 0.013444073563476404), (3796, 0.01342767474356967), (3393, 0.013420047127121746), (2933, 0.013406814058533594), (2537, 0.013346685501953375), (1465, 0.01334625943205424), (1194, 0.01329156896809609), (545, 0.013288197604579558), (4700, 0.013272068700884347), (2869, 0.013260067442767047), (3042, 0.013243010356536019), (1394, 0.013219272148821376), (4477, 0.013212616508764683), (2715, 0.013212255313857876), (3203, 0.013136246931781297), (4156, 0.013135830716020112), (3217, 0.013135384381572869), (4166, 0.013111677135144592), (3674, 0.013105382937247488), (195, 0.01307143396134648), (4102, 0.013041203053289019), (491, 0.013038999960886307), (2603, 0.013034293985777816), (2211, 0.013015818843419985), (3479, 0.013008907596164158), (1320, 0.012973559789390045), (4562, 0.012947336221954172), (3172, 0.01290558976403403), (2423, 0.01290518347110507), (1005, 0.012897191245742338), (4084, 0.012891411593391322), (2000, 0.012888546471804038), (4145, 0.012869824304024672), (721, 0.012858348482943236), (2983, 0.012828204806781146), (949, 0.012814033644328477), (3892, 0.012777382748212088), (2134, 0.01275348532457002), (2928, 0.012742939879057688), (3800, 0.01274284438488989), (1381, 0.012687911062588833), (2646, 0.01267513612902973), (614, 0.012661086424333213), (407, 0.012637674408948467), (2948, 0.012630256155846521), (4720, 0.012624259306790123), (2474, 0.012617148433292053), (2199, 0.012605921713232908), (3384, 0.012604399934834809), (3008, 0.012574606897851571), (3078, 0.012563384497407033), (266, 0.012520695319620037), (2228, 0.01249926827860657), (2797, 0.012492817421832487), (452, 0.012482027160652472), (2180, 0.012469811452873777), (3385, 0.012466958032944122), (1184, 0.012464704329964885), (3698, 0.012434959165913683), (3282, 0.012407726667321813), (3537, 0.01239111922059767), (1701, 0.012370295571296958), (207, 0.012363031841309503), (4570, 0.012360198154814721), (3763, 0.012351614216746711), (1681, 0.012345593760871217), (1321, 0.0123368035200353), (881, 0.012333551435983496), (443, 0.0123314851183545), (4133, 0.012324313159106294), (4535, 0.012317972534421509), (3544, 0.012304871065109064), (1275, 0.01230220572470165), (3686, 0.012282619656228125), (2452, 0.012281174633538157), (3007, 0.01227113846887256), (1968, 0.012264986855342275), (4721, 0.01226164609137281), (3249, 0.012258676226888006), (2903, 0.012237773344597639), (3671, 0.012225659279362783), (4031, 0.01221946207606766), (3020, 0.012207064255317902), (2727, 0.012203628417350038), (2921, 0.012202053864281406), (4512, 0.01217997348061641), (4180, 0.012142951926342889), (510, 0.01213968359964784), (3043, 0.012129929574623775), (666, 0.012128201072462961), (4514, 0.01212516517117875), (3017, 0.012101060521304144), (4746, 0.012099838731962324), (1278, 0.012097223943541327), (1695, 0.012086225302417847), (3816, 0.01208109465367427), (4032, 0.01208056621789405), (1754, 0.012078796548690892), (4717, 0.012070392623282045), (2097, 0.01205510692388723), (2854, 0.01205490879932718), (3903, 0.012048351607965756), (2181, 0.012047072370893655), (1011, 0.012045931521408027), (2756, 0.01204397837101626), (1265, 0.012042581494565295), (4408, 0.012028872128554531), (2333, 0.012022898130958297), (1810, 0.012021501562467373), (3844, 0.012017835158103219), (1670, 0.011993388671944988), (1798, 0.011992477243176258), (2781, 0.011986989959408816), (4605, 0.011986049092466419), (4147, 0.011966806373555282), (2485, 0.011954051880957196), (391, 0.011946027678443922), (2345, 0.011944477046510726), (1424, 0.01194372816233082), (3089, 0.011942410838105202), (2488, 0.011936554677752302), (1812, 0.011923906951079742), (3704, 0.011922218174127927), (3357, 0.011912235642728745), (4531, 0.011910951315490678), (4739, 0.011909331687100245), (3758, 0.011903228206227688), (1896, 0.011899922939224136), (3952, 0.01189037568015182), (2009, 0.011887059297432232), (1089, 0.011882507894114528), (943, 0.011882052245531995), (7, 0.011876655174185447), (2434, 0.011873103149866903), (3626, 0.011871624150549456), (4097, 0.011870950449563206), (4669, 0.011864919921954015), (2619, 0.01185908789074733), (2930, 0.011856359622885377), (3256, 0.011849048643905643), (2464, 0.011841851707261859), (10, 0.011838908315820757), (1452, 0.011810752644879786), (4341, 0.01180694295953215), (1169, 0.011802202742050719), (2308, 0.011800505330183866), (3764, 0.011798674172765942), (4401, 0.011792295700081617), (1841, 0.011785419874298757), (3371, 0.011784673947487735), (3554, 0.011767625203582653), (3414, 0.011767398784637844), (4338, 0.01176615181834284), (2510, 0.011760553317864842), (4716, 0.011758283337149244), (2857, 0.011751208103995577), (925, 0.011748689559591118), (4286, 0.011743211723420672), (262, 0.01174317842549037), (2368, 0.011743037101098605), (2570, 0.011735431497546557), (1049, 0.011735363052805498), (2696, 0.011729536901939104), (2535, 0.011728117490061408), (4190, 0.01172555226036791), (760, 0.011723199267562422), (2846, 0.011719522350581916), (2186, 0.01170993678764963), (2872, 0.011707346458880375), (2986, 0.011701623629303996), (2796, 0.011691222153268904), (1153, 0.011682572901873425), (3413, 0.01168169854165228), (2016, 0.011676228001009098), (3259, 0.011670426944793642), (3374, 0.011661894813821273), (3649, 0.011660985485388698), (1187, 0.011660917653811938), (2053, 0.011654751975430682), (3308, 0.011648680586109121), (3768, 0.011644446172048975), (1792, 0.011643702663139016), (4728, 0.011642857368666888), (34, 0.011636290949259238), (2630, 0.01163048978422191), (891, 0.011625374571738123), (2963, 0.011624688949525572), (3699, 0.011613714734108521), (1658, 0.011610173173416673), (4633, 0.011608929228504218), (1564, 0.011608623780331813), (1159, 0.01160759950795091), (4038, 0.011602051508702024), (4629, 0.011576951506380035), (4175, 0.011570657541745265), (3677, 0.011570290273923742), (3621, 0.011568711096121148), (482, 0.011562475903433117), (3080, 0.011554662196933864), (4105, 0.011542991090104263), (4379, 0.011539338868506244), (2486, 0.011530277561472858), (913, 0.011530266733274843), (3458, 0.011521623747588958), (3337, 0.011520603197009373), (1346, 0.01151468547895404), (4295, 0.011512174175237085), (2769, 0.011511481825849787), (3596, 0.011496928737017591), (2357, 0.01149515888769869), (1057, 0.01149344110951862), (1615, 0.011488642976611632), (2277, 0.01148265140044773), (3654, 0.01148094963102685), (1806, 0.011475511718480755), (830, 0.011473790975689156), (201, 0.011473138512358589), (3234, 0.01147291580550083), (985, 0.011469772360442929), (1930, 0.011458491942359242), (4463, 0.011457294941094773), (2702, 0.011456318161207183), (2261, 0.011455726016991793), (20, 0.01145115895695998), (4474, 0.011445152674969232), (654, 0.011438392888788562), (1507, 0.01143339556200446), (1401, 0.011427127974083035), (2319, 0.011416862521588515), (2635, 0.011415477029334297), (2252, 0.01141278302900817), (3507, 0.011406095324901715), (4522, 0.011403572414255318), (3258, 0.01139182143149167), (748, 0.011386237714754005), (4086, 0.011386166494634612), (461, 0.011383177768168721), (1489, 0.011382811004666753), (3808, 0.011381351920157169), (531, 0.011376350792622522), (220, 0.01137622425353321), (4599, 0.0113746395994522), (573, 0.011371552448901132), (918, 0.011354806570627943), (2187, 0.011353116687279632), (998, 0.011337920112966865), (1577, 0.011331592037722462), (1339, 0.01133110960065253), (1766, 0.011329231102996424), (341, 0.01132702456157173), (1299, 0.011322825260243786), (2302, 0.011317130383774052), (1227, 0.0113154413715746), (1271, 0.011305738268903529), (2691, 0.011298232192698352), (189, 0.011292511592346772), (3967, 0.011288619921958037), (1645, 0.011281302349669241), (999, 0.011274313301762892), (3963, 0.011270454958173762), (1588, 0.011269335109835743), (4755, 0.011264048198154856), (1262, 0.011263514861508676), (2924, 0.011256770044358762), (1443, 0.011256435591209129), (3930, 0.011255660906770881), (4431, 0.011246582881433532), (3515, 0.011240022960654681), (4580, 0.011232235701429718), (3652, 0.011230775338149986), (2982, 0.011225997274450682), (3039, 0.011225594121861448), (71, 0.011221248733542976), (2049, 0.011216151228054055), (2260, 0.011213708385248062), (1396, 0.011207174016626915), (2410, 0.011201591335006707), (1601, 0.011201249577543908), (2108, 0.011193023460399177), (1179, 0.01119147658513642), (1836, 0.01118997199702093), (1436, 0.011179088688304653), (1491, 0.011172900089748848), (2158, 0.011171864553897607), (2209, 0.01116730515624684), (74, 0.011159698277516368), (4089, 0.01115744008965989), (4332, 0.011156668843678911), (4210, 0.011154883647068103), (4308, 0.011154394554439043), (560, 0.011152509415483517), (4346, 0.011151024919798764), (1163, 0.011142169716934207), (4000, 0.01113581612736587), (365, 0.011124978498812112), (2501, 0.011123904718495739), (4184, 0.011118197006226044), (933, 0.011111738871847084), (2640, 0.011109261779333236), (4140, 0.01110804336677419), (3545, 0.011106987826774262), (2421, 0.011106749913228998), (4207, 0.011105596544025684), (3109, 0.011096660537269324), (1999, 0.011092861053567245), (2994, 0.01109108803477037), (2799, 0.011081144882428092), (1142, 0.011074955775288916), (1656, 0.011061670220115201), (2592, 0.011046518402570982), (2604, 0.011036030348804866), (3368, 0.011034934318242557), (754, 0.011032577704597816), (718, 0.011024082533336364), (2996, 0.011021720551793894), (3584, 0.01101010367538361), (385, 0.011007987626276515), (4640, 0.011007141406669311), (3067, 0.011002497224995973), (3964, 0.010998813788594752), (3628, 0.010993570900732112), (678, 0.010992408654730182), (81, 0.010989303554783334), (1111, 0.01098713896869129), (3984, 0.010985091692933598), (2116, 0.01098248198277668), (3581, 0.010979309917454556), (2101, 0.010975609872050903), (3146, 0.010973535873612291), (1260, 0.010970511392652914), (3688, 0.010969790351400839), (3408, 0.010964734864738819), (2223, 0.010952289203040772), (2979, 0.010950104988236963), (1338, 0.010943702077733396), (1596, 0.010943493307083484), (4315, 0.010936961840270567), (3187, 0.01093583389755867), (446, 0.010934888799944977), (2045, 0.010932594968252763), (2420, 0.010931183137425148), (2394, 0.010930821661697251), (4081, 0.010928371779865751), (821, 0.010926282010771442), (1923, 0.01090890897635392), (490, 0.010897393425731403), (1614, 0.010896033617943791), (1246, 0.010895790052601816), (2061, 0.010887803661939775), (1515, 0.010878994630083632), (4587, 0.010872872597004984), (4303, 0.01086997010878729), (260, 0.01085834377147556), (3183, 0.010856892781331444), (3456, 0.010856276814611836), (2121, 0.01085220809733331), (873, 0.010836514769605227), (3784, 0.01083476890923509), (822, 0.010832417810057384), (3198, 0.010827707318697895), (613, 0.010820993099467116), (1906, 0.010814294586169492), (1129, 0.010810117562501585), (3720, 0.010809948367335943), (1257, 0.010804830189894667), (784, 0.010803747914276641), (318, 0.010802465169667732), (1409, 0.010799290253585829), (1926, 0.010798660347249044), (241, 0.010794990189981214), (1442, 0.010776146728198528), (2391, 0.010771015864249198), (2965, 0.010769760047135557), (2507, 0.010768219491385149), (4433, 0.010764890445278629), (4132, 0.010763797566044916), (152, 0.010762947480793657), (4020, 0.01076172596576204), (966, 0.010754511518322707), (2970, 0.010754108823885014), (146, 0.010754015506194281), (667, 0.010745628849936927), (4259, 0.010742404683356707), (1518, 0.010740006453514594), (2375, 0.010732624071892797), (39, 0.010729679476708512), (3343, 0.010727868446921938), (2709, 0.01072771710763917), (3950, 0.010727508777819599), (4300, 0.010724614207254905), (4324, 0.010720164021891744), (3812, 0.010704214080062207), (362, 0.01070032539302108), (961, 0.010697006564195165), (1105, 0.010675189808807582), (1192, 0.010655669458733233), (1921, 0.010650362473910713), (1425, 0.010650119345513338), (846, 0.010649675405603107), (4489, 0.010644775634347512), (3529, 0.010638241639223998), (2601, 0.010636949593311889), (3889, 0.010631993537889151), (1224, 0.010627776004085767), (2632, 0.010624718092181464), (2777, 0.010624321543128548), (4328, 0.010615901176897941), (3349, 0.01061315344383797), (1765, 0.010610863771588918), (2978, 0.010605037611265375), (2086, 0.010601691296377311), (4173, 0.0105997803187112), (1510, 0.010597815790385122), (541, 0.010597078267070022), (363, 0.010590441053122814), (1731, 0.010589704332043993), (2776, 0.010589297280280982), (903, 0.01058589932804326), (2999, 0.01058584238820246), (3518, 0.01057700093242522), (1364, 0.010576080264936566), (2793, 0.01057308592124394), (2926, 0.01056988932254377), (4564, 0.010567858606547154), (3189, 0.010563299574757372), (1459, 0.010549448255937585), (4263, 0.010541152319123353), (2588, 0.01054082795562158), (630, 0.010534580446160324), (2309, 0.010534025837622935), (3493, 0.01053113814429488), (1556, 0.010523390293936088), (3229, 0.010521756242626907), (3079, 0.010513048919863488), (3290, 0.010510246509649617), (4422, 0.010506798329082722), (3449, 0.010504785794889704), (1191, 0.010504585903036788), (4434, 0.010503661669472286), (3496, 0.010501040937805496), (2605, 0.010494002267251156), (3175, 0.010491399321675192), (1382, 0.010485389059109371), (884, 0.010485327909289981), (3113, 0.010481128718971972), (300, 0.010481119513766757), (3400, 0.010477755467407347), (3742, 0.010477469064031337), (1683, 0.010474885795142668), (1205, 0.010473710557489658), (245, 0.010471805153496123), (2140, 0.010471667863741176), (2472, 0.010470250430127927), (1319, 0.010466237552319062), (3943, 0.01046513994051597), (879, 0.010465135181604435), (401, 0.010461310627341005), (474, 0.01045595078484305), (134, 0.01045003119028022), (415, 0.010447495199850257), (3236, 0.010444170721741267), (3245, 0.010443534446064318), (1013, 0.010439697050678334), (866, 0.010437142922868466), (405, 0.010433888124374811), (3084, 0.01042073900490843), (1220, 0.010419836661945184), (1445, 0.010419459838638566), (4446, 0.010419355785608377), (1651, 0.01041592213197528), (1255, 0.010412245331808262), (3224, 0.010411694391288093), (3790, 0.010408259611617182), (915, 0.010404713711556272), (2090, 0.010403943757485138), (4675, 0.010394510042961809), (3973, 0.010388984984963035), (1124, 0.010388097559032104), (3122, 0.010387020125440356), (1085, 0.010385996880255492), (3388, 0.010375745269878877), (4628, 0.01037352638357078), (1472, 0.01037088966629191), (1902, 0.010367178937482029), (492, 0.010364590621581031), (974, 0.010364307266366168), (2862, 0.010363946678358622), (3061, 0.010362863012135076), (1336, 0.010360153091609134), (2661, 0.010356224412602665), (941, 0.010355347014213917), (1066, 0.010353187917322652), (460, 0.010348813122486889), (1755, 0.010343436734971647), (2242, 0.010341411257771004), (1314, 0.010341363247958448), (219, 0.010331846067835075), (2110, 0.010317444053183111), (4457, 0.010307973068651843), (3728, 0.01030467281244109), (2094, 0.0103036880986551), (312, 0.0103035966790377), (2249, 0.010300188288369828), (2215, 0.010299936719776756), (1818, 0.010299777911758273), (1911, 0.010293932360510736), (1895, 0.010289476827156295), (3382, 0.01028731665886612), (963, 0.010282493441136631), (1505, 0.010276590960697043), (1722, 0.010272569534463632), (579, 0.010272256450511765), (2856, 0.0102706623119318), (1361, 0.010268744118851566), (2272, 0.01026778026473427), (4603, 0.010259053195336966), (284, 0.010253603757555525), (2569, 0.01025305674127827), (1956, 0.010252076234426425), (3539, 0.010246692114121707), (1666, 0.010244312054921646), (174, 0.010244300595288233), (1889, 0.010239821456368137), (4756, 0.0102301450846848), (1165, 0.010229118904905021), (1094, 0.010227525566311037), (4054, 0.01022644469190696), (2499, 0.010225177525692892), (2449, 0.010225109861206285), (479, 0.0102247851351125), (1118, 0.010221519631458512), (672, 0.01022024309882146), (2744, 0.010217626074603416), (2102, 0.010216466209866082), (3034, 0.01021547342785193), (4287, 0.010208742433073391), (2456, 0.010206843468300815), (1814, 0.010204937072347368), (4027, 0.010204562592045406), (2794, 0.010197001184619529), (2973, 0.010195630894317386), (3823, 0.010193421191781012), (1618, 0.010191846900787064), (3155, 0.01019108817144876), (1232, 0.010190500159044947), (3351, 0.010187236852509884), (1549, 0.01018594245192301), (2726, 0.010184760018373606), (962, 0.0101786857931057), (1345, 0.01017744156892503), (4220, 0.010171654079532359), (115, 0.010167119423055444), (671, 0.010166899938430536), (331, 0.010166107108452083), (3882, 0.010152602430760363), (2746, 0.010151840287061955), (3805, 0.010146511969239541), (3454, 0.010144977311343254), (1638, 0.01014334491838895), (1054, 0.010140619098797965), (1760, 0.01013955344830167), (3016, 0.010135969813378602), (1837, 0.010135898131518713), (306, 0.010135360741833705), (2284, 0.010130871407124256), (1840, 0.010129658112834698), (1542, 0.010128005939741534), (2685, 0.010125015999955632), (110, 0.010123759209121116), (1198, 0.010119547939784843), (1166, 0.010119012338168743), (1825, 0.010115508329390913), (2765, 0.010113507819703282), (238, 0.010110764221904534), (1197, 0.010107578237595841), (1047, 0.010105403543483046), (287, 0.01010248106737205), (2336, 0.010102076497048215), (2396, 0.01009666807948334), (3792, 0.01009044912713154), (3348, 0.01008474258920485), (3673, 0.01007889658890322), (1410, 0.010075141975918618), (1000, 0.01007261958149687), (863, 0.010071522635937889), (3306, 0.010069814009418344), (697, 0.010065965022728123), (2340, 0.01006507388918184), (2385, 0.010060828560782725), (1606, 0.010056938721460186), (3480, 0.010056907321995021), (995, 0.010056603137752362), (2813, 0.010054210318782624), (1668, 0.010051922775028883), (1533, 0.010050599533885048), (377, 0.010045568937731009), (586, 0.010045532547365323), (398, 0.01004362256412771), (1823, 0.010040221415346908), (2192, 0.010039474530556156), (2297, 0.010033615378946136), (4029, 0.010031438349920364), (1480, 0.010030971330679225), (4205, 0.010029857680187264), (3801, 0.010027889272446255), (983, 0.010022838626699988), (3517, 0.010020126234026273), (798, 0.01001687176036094), (4110, 0.01001413162919206), (3644, 0.010010473192404407), (720, 0.01001012667595037), (1307, 0.0100050820972359), (495, 0.010004754022995974), (327, 0.01000374228635022), (3375, 0.009995732342145205), (2690, 0.009994012714284807), (4164, 0.009992406059783373), (3970, 0.009989696292577531), (1330, 0.009989120726140902), (4195, 0.009988163634516156), (1589, 0.009982902170080887), (2290, 0.009981722507432705), (867, 0.00997446579507823), (1100, 0.009971865390606042), (1219, 0.009971551817861017), (1256, 0.00996553467637642), (2682, 0.009960709467180834), (4049, 0.009956521573709359), (42, 0.009947630255013383), (2055, 0.009946180610160282), (1783, 0.00994522634280011), (2435, 0.009943923866095175), (4254, 0.00994107329843335), (4282, 0.009938341586338), (3508, 0.00993588149610469), (1986, 0.0099302614976184), (4073, 0.009926027730427589), (148, 0.009918773230289056), (1485, 0.00991467293002875), (3879, 0.009909964092454248), (2062, 0.0099084995494557), (2771, 0.009907432263468397), (3500, 0.009906886835745537), (191, 0.00990676010141599), (2687, 0.009904250767434857), (2175, 0.009904120898412217), (404, 0.009896357965690742), (503, 0.009893105570953027), (2122, 0.009893049223576662), (2087, 0.009891275192285727), (2335, 0.009887329363841882), (1880, 0.009885919052180527), (1298, 0.009884891301678732), (1608, 0.009880883268738478), (2836, 0.009878626587451015), (4036, 0.009874412111390967), (1238, 0.009873937861669705), (3641, 0.009862296734376282), (3402, 0.009860081037107433), (2677, 0.009859122770090744), (2912, 0.00985812872497879), (2945, 0.009853283610758486), (2019, 0.009852980036226944), (1422, 0.00984678916737158), (1663, 0.009844016234539309), (2060, 0.009842080941850535), (1546, 0.009841969268625989), (1170, 0.009840352486747504), (3606, 0.009837880679855221), (4304, 0.009837765342722652), (1041, 0.009831704322352076), (1204, 0.009831310922949926), (3286, 0.00983100043562232), (758, 0.00983073452432883), (594, 0.00983069534966492), (1772, 0.00982905258463575), (2450, 0.00982903046100135), (1033, 0.009827273077850727), (3685, 0.009826560549711502), (1804, 0.009826347125111186), (22, 0.009823236396482395), (1029, 0.00981973499296629), (1867, 0.009817831636002276), (770, 0.00981701781107428), (114, 0.009808827206950584), (2804, 0.009808667312188112), (4738, 0.009805655580902645), (1764, 0.009801522427492864), (1693, 0.009795918425927131), (2866, 0.00979406193571894), (859, 0.0097926998104976), (2280, 0.009790997365978306), (1912, 0.009790873633829208), (3315, 0.009787263226674031), (2693, 0.00978644609903797), (473, 0.00978533180128086), (2749, 0.00978363571668562), (2440, 0.00978358276953477), (1971, 0.009782786560064366), (188, 0.009782617390317388), (1352, 0.009782603107613877), (4213, 0.0097610893028214), (1423, 0.009758260948655886), (50, 0.009756343709784286), (3366, 0.009752341704471656), (2179, 0.009750458549517909), (4106, 0.009749567947659164), (1842, 0.00974767008919396), (1771, 0.00973882341619338), (1598, 0.009726690539314785), (1190, 0.009725757796492906), (1408, 0.009721328846709773), (895, 0.009712875539925512), (2590, 0.009710949208222925), (1211, 0.009710856733264231), (3622, 0.009701516432348128), (4197, 0.009697023245033229), (2287, 0.009694087070860079), (1284, 0.00969167254853382), (2005, 0.009690765071799601), (2753, 0.009680749088126536), (1231, 0.009674363790068571), (524, 0.00967329086253171), (4252, 0.009672006519230811), (662, 0.009671951703944026), (1913, 0.009663661741013645), (4590, 0.009657078812693058), (505, 0.00964424193653161), (1363, 0.009642060534510248), (1117, 0.009641676539214243), (157, 0.009639674790955871), (3753, 0.009635728583882203), (1610, 0.009635259201182501), (197, 0.009630778634149255), (124, 0.009629375189914711), (759, 0.009629080306345494), (428, 0.009626222501403846), (2207, 0.009626198944359033), (2402, 0.009621950143928642), (2512, 0.009621198075739553), (2699, 0.009614395886181987), (3980, 0.009613891905881347), (3220, 0.009611655695010237), (3050, 0.00961044191645181), (3309, 0.009604466443930258), (702, 0.009599438332637692), (1650, 0.009591135609128772), (2050, 0.00958733984348728), (4542, 0.009578287574861207), (2594, 0.009578258035704824), (874, 0.009576384971730452), (1900, 0.009574419635309424), (1196, 0.009566273943148506), (3194, 0.009556593231322524), (2461, 0.009551167359402476), (2762, 0.009547862501438657), (649, 0.009545639429303055), (2467, 0.00954368641377483), (2931, 0.009540742797594265), (37, 0.009534903660631961), (1878, 0.009516669219216534), (325, 0.009514505109372958), (2728, 0.009500757015238993), (1457, 0.009499964506549292), (3732, 0.00949424030882188), (3177, 0.009489162771870164), (2829, 0.00948699008536686), (939, 0.00947228720158656), (1744, 0.00947117810958511), (1964, 0.009455730440491496), (1073, 0.009446041347664495), (2285, 0.009444091474216794), (1301, 0.00944383609700987), (1929, 0.009442584450637137), (3246, 0.009438793863695286), (2338, 0.009428948025079313), (1877, 0.009425149065932534), (3668, 0.009423865701464888), (1327, 0.009422008402378002), (1377, 0.009421069693392552), (1582, 0.009416946421998041), (2724, 0.009415056359601038), (546, 0.009413658552823867), (2327, 0.009409698608637568), (589, 0.009389657675541976), (2969, 0.009386329860143473), (1292, 0.009378800556372422), (4321, 0.009377519806858529), (1203, 0.009370686888323756), (2074, 0.00936001011530491), (2617, 0.009358754639178943), (1839, 0.009353726928297737), (53, 0.009349657399509178), (185, 0.009347730940652544), (1372, 0.009345730748311111), (1061, 0.009337031313233116), (78, 0.009334041535531124), (639, 0.009331242761041223), (1217, 0.009317237456668327), (699, 0.0093154741613485), (1833, 0.009308089267995864), (605, 0.009306521579565187), (311, 0.009299671720809394), (1535, 0.009292594335165305), (251, 0.009289885912392418), (2201, 0.009286240978123523), (222, 0.009283413219517174), (288, 0.009279609302620034), (1899, 0.009277524679462596), (1039, 0.009270834541025478), (3842, 0.009269329910867973), (2170, 0.009267523353906794), (3395, 0.009256645754244492), (3319, 0.009249417617970162), (1974, 0.009241289083905091), (1323, 0.00924124915937089), (2497, 0.009240874803948973), (2975, 0.00923401459066396), (383, 0.009233341023189049), (249, 0.009218976144257976), (2225, 0.009214905591211058), (1553, 0.00919235165079254), (2981, 0.009188195700607528), (2265, 0.009183626536921273), (3941, 0.009175367628380485), (4237, 0.009160710060311661), (1369, 0.009159021764422993), (1528, 0.009156321485246175), (3859, 0.009152442919425777), (733, 0.009146478072022825), (1038, 0.009139310513875001), (1827, 0.009136936502642148), (88, 0.009134484005704081), (762, 0.009132462773398575), (745, 0.009122007447150937), (403, 0.009120418891972584), (3244, 0.009120387721436128), (3865, 0.00911875857866439), (1543, 0.00911215262121456), (2296, 0.009104252219194302), (469, 0.009102608374340028), (4201, 0.009100221763629285), (4018, 0.009096980756473015), (103, 0.009087052812223866), (2770, 0.009085305946044332), (4104, 0.009084281705806635), (3839, 0.009081381338509066), (416, 0.009077948906742107), (4066, 0.009071959593858044), (566, 0.009070612130375712), (2874, 0.00906822191653344), (3304, 0.009067479510598959), (1715, 0.009065124890829175), (3329, 0.009062956448592997), (1397, 0.009061243155353775), (951, 0.009049758985168292), (2264, 0.009048975916335559), (1008, 0.009040413017076903), (4627, 0.009040088254466354), (4344, 0.009017574384003342), (4426, 0.009013395520231119), (1684, 0.009003179025522346), (3485, 0.009001796715407346), (3223, 0.008995563977548453), (161, 0.008986418383031608), (477, 0.00898386851125857), (2591, 0.00897918554357912), (738, 0.008977204334871366), (2146, 0.008976286755284198), (2007, 0.008972325727268146), (1830, 0.008970254723527455), (3767, 0.008966992884765969), (278, 0.00896569062197542), (1652, 0.008935630184843384), (4519, 0.008931128590705637), (2240, 0.008931075678295706), (1980, 0.008929063908212926), (441, 0.008903339106343684), (3063, 0.008897878574890983), (159, 0.00889497410794173), (4191, 0.008893178264185954), (57, 0.008886748784404697), (1213, 0.008879121867083308), (1251, 0.008877264326863707), (2539, 0.008875686254949), (4705, 0.008859799591097875), (1957, 0.008855857353436936), (970, 0.008848686358861149), (2833, 0.008817029563306033), (629, 0.00880675080492798), (2013, 0.008795852960145407), (836, 0.008791185744445207), (2270, 0.00877824558571628), (1616, 0.008773202385564408), (1694, 0.00876743217411408), (668, 0.008767137016190212), (3856, 0.008754769440879906), (2318, 0.008742923316300775), (4636, 0.00872545750125228), (1305, 0.008720658383996169), (1954, 0.008716249826416562), (1040, 0.008715518685557458), (294, 0.00869845271542943), (2805, 0.008693615894099069), (3751, 0.008675732928740269), (1370, 0.008642406342920886), (2022, 0.008626201639964479), (3575, 0.008621546534842619), (1418, 0.00862141549039843), (1088, 0.008618954626178937), (2331, 0.008597320702272792), (1467, 0.00859405743931244), (2006, 0.008591640753875002), (520, 0.008577374959454095), (1943, 0.008574941950861682), (2876, 0.008566639427451141), (412, 0.00855461554645806), (1078, 0.008545464806162115), (964, 0.008541831301041764), (1639, 0.008536391097252561), (2157, 0.008534144291470848), (3559, 0.008522875108552477), (707, 0.008514965278788386), (4674, 0.008500457828931067), (2076, 0.008497173336595103), (789, 0.008485948738834726), (3703, 0.008473024610078364), (4744, 0.008472818722947757), (2364, 0.008452566826940856), (1963, 0.008402003102336497), (1317, 0.008399550835339043), (2018, 0.008396930011012264), (2766, 0.008382637089760394), (1268, 0.008379828348330218), (3430, 0.00837741083830392), (2758, 0.00835711588203261), (3115, 0.008333234179944886), (1222, 0.008319250484863639), (3185, 0.008270393906037343), (2441, 0.008262985972032169), (786, 0.008261103177800554), (775, 0.008253614625712488), (2998, 0.008248756884344077), (2376, 0.008240702451843829), (3538, 0.008230535051711849), (947, 0.008230378617827909), (1344, 0.008223150723644363), (2937, 0.008137401245712217), (1676, 0.008135591493828365), (156, 0.008132037244959894), (4202, 0.00813068371078855), (2925, 0.008113340114508514), (1677, 0.008095037291343506), (4541, 0.008083684903457856), (228, 0.008027870433860166), (421, 0.008012961146470663), (2667, 0.008002050308091974), (1471, 0.007998035071568625), (2562, 0.00794602324420312), (3365, 0.00793767043391588), (351, 0.007936760822488146), (1277, 0.007904824508282978), (2768, 0.007903008898059853), (926, 0.00788816566062161), (2657, 0.007873925204848503), (2659, 0.00786710975198553), (972, 0.007835038067033145), (3574, 0.007764925953625309), (2990, 0.00774979185340468), (1306, 0.00773118287333964), (1403, 0.007719356267243131), (0, 0.007706198027733486), (2275, 0.007663818308471769), (3635, 0.007658798436398288), (2671, 0.007650689346415086), (2922, 0.007594544074531808), (4646, 0.007593163683515414), (4444, 0.0075719161063530676), (553, 0.007563587290030744), (2559, 0.0075557589451483624), (3472, 0.007540850382186794), (4606, 0.0074788116292889145), (243, 0.007474771749338143), (2818, 0.00746217351170025), (1362, 0.0074515324935823185), (330, 0.007363296586407196), (570, 0.007343181044724161), (2075, 0.007300810730663524), (2415, 0.007291299366238824), (4723, 0.007286269593826324), (2534, 0.007277738085075167), (4142, 0.007252048257408098), (4631, 0.007244609769331025), (4221, 0.007240941663155155), (2568, 0.007194445440065237), (2864, 0.007127728681138041), (4698, 0.007110780274131585), (3145, 0.0070911518702847795), (2530, 0.007069815335028038), (824, 0.007024200150499773), (940, 0.007018925633017892), (2378, 0.006978588029005457), (2778, 0.006976948308108323), (4490, 0.00697420988972764), (3744, 0.006949309879744113), (2567, 0.006914210577601085), (740, 0.006889214759842931), (4619, 0.006880770857791295), (4443, 0.006878627165996858), (670, 0.006874665219053498), (2428, 0.006857509925510407), (3588, 0.006845275127421171), (4653, 0.006829049468793223), (2772, 0.006805204001922617), (2895, 0.0068010181244546235), (3165, 0.006799170115321159), (3947, 0.006795146609886925), (4244, 0.0067787943724687315), (3383, 0.006776864624365274), (3206, 0.006754164080093132), (2188, 0.0067439032680334556), (2707, 0.006735910934815119), (3064, 0.006704236478494138), (1547, 0.0067033883097977), (1713, 0.0067002196627596), (4612, 0.0066967473909226435), (1540, 0.006688877506404684), (3263, 0.006686286197380753), (3419, 0.006681456465254596), (2118, 0.006672200003329985), (1437, 0.006659873984646782), (3680, 0.006638321491544328), (1398, 0.00661295007269296), (2676, 0.00660354349286129), (787, 0.006601698327857523), (1466, 0.006594252810515033), (3453, 0.0065912107364045494), (1815, 0.0065857586836809215), (2881, 0.006581690114593702), (1708, 0.00657967171822086), (2670, 0.006576122086618288), (3059, 0.006566566469862332), (3578, 0.006565906812526859), (4276, 0.006561001729550356), (4238, 0.006559761560741369), (2673, 0.006559140918957838), (1014, 0.006558106762610281), (2164, 0.006547066902654027), (3560, 0.006542564418267181), (4131, 0.006537854490783189), (4742, 0.006531886990099678), (2476, 0.006516140651361897), (512, 0.006515100041417352), (3869, 0.006513621778895599), (69, 0.006509816054469776), (458, 0.006502501500712859), (1460, 0.006502366223350648), (753, 0.006501416498630011), (4747, 0.00648890459060271), (533, 0.006483897811689903), (2547, 0.006470365948497263), (3312, 0.006469578724724902), (682, 0.00646679426182478), (4242, 0.006461543770181781), (2888, 0.006458328820442965), (1023, 0.006452166779948884), (2672, 0.006450590240411848), (4194, 0.006450515459690563), (1240, 0.006439627432105777), (2943, 0.006416522593024027), (2947, 0.006405181950622503), (143, 0.006398256178367005), (3532, 0.006398209083347444), (208, 0.006391714136801527), (3468, 0.006390881920899771), (2710, 0.0063878067816190405), (3846, 0.006385275335111909), (2840, 0.006382956238660589), (2356, 0.0063612105603268985), (4524, 0.006347885042030758), (514, 0.006346113490779052), (537, 0.006338719814780638), (3802, 0.006337369206760869), (716, 0.006337306474747707), (48, 0.0063354911393915725), (3972, 0.006328918069850382), (4493, 0.006311138026262497), (1091, 0.006305521700933604), (6, 0.006300114350355267), (2383, 0.006298837843526466), (3834, 0.0062966573148775995), (4116, 0.006287934216924629), (1141, 0.006286697738331354), (2555, 0.006282901346187009), (1162, 0.00628275864464455), (4098, 0.006279811335830423), (3191, 0.006279505966162466), (3202, 0.00627596982122499), (2361, 0.006268876662478366), (688, 0.006267318496079366), (2243, 0.006254308912883254), (1280, 0.006251269530442383), (3163, 0.0062493042293750405), (1904, 0.006248417296514227), (210, 0.006246964517688856), (3593, 0.006237220109750027), (1894, 0.0062370148154905014), (729, 0.006230216016336101), (3112, 0.006226925809213017), (1705, 0.0062238258449054855), (3862, 0.0062216463691634714), (4077, 0.0062214554454745035), (1976, 0.006220294808081858), (1554, 0.006214813629375398), (3692, 0.0062029524382085964), (3132, 0.006196592217577944), (41, 0.006193812508161931), (448, 0.006190664101140083), (4384, 0.006190634660784755), (550, 0.006186101603170383), (4249, 0.006184476078162134), (2522, 0.0061836258451691516), (2860, 0.006182994414531516), (2040, 0.0061817424093850645), (3404, 0.0061804914416924185), (180, 0.006180216078892945), (2819, 0.00618015423933051), (1687, 0.0061793954196049565), (4419, 0.006178801140663451), (1343, 0.006173440925016884), (3977, 0.006170407227689834), (2955, 0.006170282056190682), (3438, 0.006168759225772355), (715, 0.006167770108634171), (3697, 0.006165813036655387), (3610, 0.006161971963368741), (4630, 0.006158076759893915), (534, 0.0061564297147770125), (2506, 0.006155196317851508), (1570, 0.0061522330764165615), (4046, 0.006146154089973887), (3586, 0.006145433873334648), (826, 0.0061416368292782665), (3310, 0.006131490885392667), (4128, 0.006125843759764161), (4062, 0.0061256904885100116), (673, 0.006125428997107525), (1328, 0.006118251311387832), (1350, 0.006110155172668763), (1174, 0.006109957225075541), (2458, 0.006109885618435782), (986, 0.006108924033648961), (956, 0.006104774475591349), (1225, 0.006102132262320738), (1393, 0.006100783122157248), (2085, 0.0060990577124613995), (848, 0.006097558318326048), (595, 0.0060960494088764935), (3771, 0.006089855981087201), (1454, 0.0060885597600853795), (2088, 0.006085262206025575), (4289, 0.006081096278981062), (4430, 0.006080984631021091), (2067, 0.006080121289698835), (875, 0.006076712872226355), (2959, 0.006076438804111861), (728, 0.006073883555787909), (1732, 0.0060691081651170296), (2015, 0.006064778373771872), (513, 0.006064108473589435), (4609, 0.00605746903747695), (2740, 0.006056095322725515), (3798, 0.006055587607007437), (1735, 0.006054089253925192), (4091, 0.006053630352373305), (232, 0.0060534591502417094), (3724, 0.006051885044826638), (4281, 0.00604862476887457), (3604, 0.006041690734648421), (4392, 0.006039169032519461), (3979, 0.006037060931856758), (3661, 0.006036454379839507), (2413, 0.006034352751022159), (1876, 0.006031723556994312), (1853, 0.006027405636319451), (4033, 0.006020911191592343), (2316, 0.006014097008432307), (2233, 0.006010572487486005), (3591, 0.006009712106194059), (4390, 0.0060076037062860785), (2841, 0.006006285167647548), (1734, 0.006002461870542323), (3850, 0.0060022991094744954), (599, 0.005999949876349753), (151, 0.00599477474199331), (517, 0.005992971535926591), (4100, 0.005991533306838723), (1031, 0.005989249601797794), (3134, 0.00598919077436304), (2083, 0.005983498532961349), (1380, 0.005979365371062114), (118, 0.005974379151952212), (2091, 0.005969297549249549), (2330, 0.005962317631176857), (1901, 0.005958870638176739), (656, 0.005954935969177379), (1015, 0.005954670925670085), (3225, 0.005952997966502302), (3747, 0.005948092846840509), (3651, 0.0059477958334607575), (4294, 0.005946814179849704), (3241, 0.0059423347743469005), (1758, 0.005942247741256326), (1150, 0.00594128379502346), (3908, 0.00594073269999655), (1168, 0.005939930628422563), (4056, 0.005939190626744218), (3968, 0.005934586885960313), (3849, 0.0059332563770279996), (1887, 0.005921430381456924), (2339, 0.005920196135553045), (2124, 0.005917560586431663), (3516, 0.005913769771020609), (1122, 0.005909173076002542), (631, 0.005907769183657121), (231, 0.005902703991401449), (1599, 0.005901131339421403), (1185, 0.005900816369984831), (965, 0.005896812818897668), (1056, 0.00589292101010306), (320, 0.005885641905243314), (845, 0.005885067680034321), (4456, 0.005884325316735184), (244, 0.005884015746889087), (847, 0.005883770332238791), (1244, 0.005883669818213908), (2079, 0.005883644339948771), (1502, 0.005880357705954346), (809, 0.00588002699702159), (701, 0.005878534537503244), (3840, 0.005878346946215451), (4549, 0.005878244854496925), (3156, 0.005874473364032323), (2518, 0.005874392480772995), (994, 0.005873842588757624), (380, 0.005872222400853542), (1931, 0.005867903578791904), (600, 0.005867253477518722), (375, 0.0058652490404924925), (2713, 0.005865009884253142), (3124, 0.005862206269055901), (258, 0.005860090398833572), (1504, 0.005853791831342266), (1335, 0.0058534297175376945), (2788, 0.005846404858461466), (644, 0.005840084073567682), (4684, 0.005836401795779385), (1322, 0.005832698340385898), (3602, 0.005832538576518515), (3131, 0.005831541439082609), (4363, 0.005823163313207027), (3814, 0.005807008707000589), (3618, 0.005806651237986591), (1512, 0.00580190031571777), (592, 0.005800363450139423), (1349, 0.005799671034378905), (4255, 0.0057993711532706195), (1419, 0.005798748292405212), (3937, 0.005798478892984196), (3897, 0.005795966788468889), (3870, 0.00579573441173686), (674, 0.00579538931200888), (3807, 0.0057945524573460565), (4581, 0.005790950354920921), (3174, 0.005790734662921655), (12, 0.005789443092428869), (902, 0.005788533038249568), (1127, 0.00578360616581619), (3445, 0.005780885093251698), (1440, 0.00578041408791052), (2436, 0.005779677433785964), (3467, 0.005778963616342891), (1740, 0.005770616868824724), (869, 0.005768550105439231), (714, 0.005767149300304617), (1269, 0.005766022372027658), (1536, 0.0057632331252936), (3427, 0.005756366505817822), (2549, 0.005753496237467803), (516, 0.005752243862222877), (233, 0.005751885614331795), (4462, 0.005739180949648912), (1702, 0.0057369385645658294), (3441, 0.005734164072326259), (4224, 0.005731564057760747), (1997, 0.005731109983527282), (3730, 0.005727516802908775), (3920, 0.005724963992118661), (1455, 0.005720676318754934), (1611, 0.005720238211549987), (59, 0.005718914765256101), (4330, 0.005718577531874502), (3978, 0.005716748266287793), (2815, 0.005715686703093996), (1653, 0.005712908853098688), (3924, 0.005709366060820864), (572, 0.0057074384931218814), (3520, 0.005706237391107674), (615, 0.005706126755308268), (1285, 0.005703999649835799), (2418, 0.0057001780662509485), (4515, 0.005698885824038264), (3277, 0.005697750549292745), (4621, 0.005696909942734838), (539, 0.005696825052233644), (3597, 0.005696039422171638), (3780, 0.005694913041327958), (1406, 0.005690799156790857), (1151, 0.005680826539941503), (4543, 0.005671588538549641), (4503, 0.005669454232729378), (1138, 0.005666967840878945), (2918, 0.005663271052722332), (1604, 0.005661374260436169), (3857, 0.0056610803962098355), (3126, 0.005659750431054864), (1704, 0.005658512220206651), (2263, 0.0056551750632488325), (321, 0.005652141016208419), (1907, 0.0056520515769596024), (4439, 0.0056509035540357995), (1937, 0.0056509002469846015), (1226, 0.005650728315455624), (4310, 0.0056504965133754815), (322, 0.005649738489460437), (4550, 0.005646865382341363), (467, 0.005643780576588097), (1012, 0.005643658903889263), (2112, 0.005640491739742835), (2850, 0.00564040210700598), (2052, 0.005639036911869022), (4732, 0.005637428162194365), (1483, 0.005635181133021271), (4041, 0.005633533788123729), (4148, 0.005633087735833836), (2259, 0.005631607462781967), (1527, 0.00563117009883159), (2826, 0.005629186496676518), (2675, 0.005627121670214103), (554, 0.005620914414650303), (1696, 0.005620113019644122), (2210, 0.005615739010872855), (1679, 0.005615176152958976), (4264, 0.0056150423861230795), (451, 0.005614080315725486), (342, 0.005612465742554605), (3959, 0.005608331058857752), (3161, 0.005604703787042229), (3605, 0.005604541088471313), (2298, 0.005604156602491576), (3136, 0.00559928744731512), (3367, 0.005598450202115854), (2847, 0.005597962602793828), (1749, 0.005596727920756541), (305, 0.0055958309145474295), (1390, 0.00559501215122565), (2232, 0.005594477591868905), (700, 0.005591932287942328), (2103, 0.005591819910086018), (1315, 0.0055878440032229035), (315, 0.005587292048475407), (3264, 0.005586553396014353), (2911, 0.005585260846507715), (1044, 0.005584520443602256), (3100, 0.0055838099946432925), (4044, 0.005581914250655273), (4743, 0.005580471020781233), (619, 0.005577878115570633), (4236, 0.005577682358967827), (1263, 0.005577312039894083), (2432, 0.005574729647750382), (101, 0.005567629146323139), (4754, 0.005566778789557135), (4039, 0.005565553994159868), (2206, 0.005562405955742094), (704, 0.005560859085654071), (3773, 0.005556670781585098), (1253, 0.0055565325535662175), (4509, 0.00555582317926139), (2634, 0.0055527186688976455), (4673, 0.005551419101181916), (4551, 0.005550879184629477), (792, 0.005549799478137999), (4136, 0.005548861747890998), (472, 0.005548687496593069), (1063, 0.005547601400459464), (3734, 0.0055465976096402995), (292, 0.005546520441215812), (4076, 0.005544214864405831), (4481, 0.005542511615715269), (2184, 0.005540664902814241), (4613, 0.005538809473023797), (3612, 0.005536770918300275), (2712, 0.005534588007528542), (1293, 0.005531576039267779), (567, 0.005528274365345689), (2126, 0.005522465661855524), (1230, 0.005522351774301496), (192, 0.005516432665803713), (298, 0.005510638588682392), (4265, 0.00551037072429426), (930, 0.005510155781825824), (2674, 0.005507422240305829), (272, 0.005504824611917308), (1545, 0.005504114112641724), (2037, 0.005503978302275373), (4695, 0.005502228222401631), (2429, 0.005500889422491464), (1096, 0.00550053850657436), (2798, 0.005500195997446025), (2117, 0.005500103279794322), (1665, 0.005497539493367543), (717, 0.0054951338268625595), (3457, 0.005494970209303506), (4013, 0.005493708483625164), (1135, 0.005491752186742202), (4591, 0.005488558924017023), (3600, 0.005481946625125615), (4376, 0.005481818132312552), (954, 0.00548121268954292), (2809, 0.0054793231471324), (1796, 0.00547598508302274), (239, 0.005475103582948119), (2900, 0.005472731675204295), (1183, 0.005471656307442167), (1082, 0.005469129521835569), (1789, 0.00546905520304415), (11, 0.005466602847907943), (3660, 0.00546586284087776), (1006, 0.005463726152389997), (3233, 0.00546316281732602), (3085, 0.005461954765420424), (1385, 0.005460546165357682), (3643, 0.005460372161973828), (1140, 0.005448635064720179), (2725, 0.005445490571936988), (1619, 0.005443897987001181), (1478, 0.0054432002082449756), (3723, 0.005443113281649564), (3551, 0.00543831619523948), (216, 0.005437687698760812), (3783, 0.005437294641994927), (827, 0.005431337228490128), (2072, 0.005429849316125608), (3795, 0.005425297359702754), (2711, 0.0054244065603723576), (2935, 0.00542254748576221), (4274, 0.005421070542498917), (661, 0.005415479214805387), (2139, 0.0054152693596672625), (3526, 0.005415025995842766), (525, 0.005414292779216818), (3689, 0.005413985760151554), (868, 0.005412221462173021), (1402, 0.005411645349343629), (4193, 0.005410540969807356), (2751, 0.0054062131784434145), (4553, 0.005403917074187877), (3722, 0.0054014418658140766), (4025, 0.005393916750878133), (3114, 0.005390221976278798), (3133, 0.005388321917592722), (137, 0.005386561141394882), (2416, 0.00537997052166871), (1048, 0.005376896901310981), (1908, 0.005376749194979759), (3125, 0.0053756278372948055), (2278, 0.005372166946021732), (1223, 0.005367897395183306), (685, 0.0053677918412378504), (2899, 0.005366867597905642), (1357, 0.005364550044726242), (483, 0.0053602804896435525), (2246, 0.005358491357322576), (4686, 0.005356826630458699), (523, 0.005356761096356836), (92, 0.005354691692987515), (1689, 0.005354340121760184), (2792, 0.005350919786552333), (585, 0.005349421133345171), (4649, 0.005348748356839232), (1065, 0.0053467191260616), (56, 0.005345607271436081), (1680, 0.005344804704054531), (1076, 0.0053397278463780595), (2205, 0.005338500769097301), (4608, 0.005336464405139247), (468, 0.005335725895033299), (4467, 0.0053325786299994495), (3917, 0.005331166696643676), (3361, 0.005330179906689414), (1146, 0.005329095347517044), (3993, 0.005327391030143875), (32, 0.005325888136797585), (316, 0.005323673032079016), (3321, 0.005322830982346045), (897, 0.005322607779161744), (3594, 0.005319955506953025), (3491, 0.005315804042017151), (4592, 0.005309429145406801), (1077, 0.005308569235775964), (382, 0.005302529318501929), (2803, 0.005302151301333458), (3818, 0.00529968696940424), (3330, 0.0052990432049241695), (4186, 0.005298412217489491), (299, 0.005290812201448197), (669, 0.005287606078853785), (2268, 0.005285941326135442), (501, 0.005284154715408929), (2198, 0.005283077878429773), (2414, 0.005278652947268388), (548, 0.005278606651379076), (1239, 0.005270852977222938), (2169, 0.005268583117417711), (2718, 0.005266155695749821), (2017, 0.005263121464813904), (3701, 0.005262918740975694), (4153, 0.005262476412906217), (2742, 0.005261391971183939), (323, 0.005259511413057815), (993, 0.005253664255528484), (610, 0.005252427745573876), (1551, 0.00525101673509225), (3099, 0.005250986341047203), (347, 0.005249687066663477), (1768, 0.005246582040020146), (1273, 0.005244177960508834), (3738, 0.005243347303235432), (3860, 0.005236444561087764), (2503, 0.00523325484101522), (4687, 0.005231408067034861), (1035, 0.005229786067946328), (3630, 0.005229657110728574), (3053, 0.0052275045362866045), (769, 0.005225368268780789), (3525, 0.005225226961483903), (804, 0.005219502866504113), (4429, 0.00521947937854622), (894, 0.005214315062904661), (1627, 0.005213189165867837), (1092, 0.005210046766793352), (105, 0.0052090175618352596), (997, 0.005206733334627919), (150, 0.005203955564550663), (1526, 0.005203344718807235), (3247, 0.005202429417579724), (1857, 0.005196289362511019), (439, 0.00519526801652788), (2027, 0.005192330758216472), (1620, 0.005188923511241731), (1809, 0.005184425492207646), (3966, 0.005183929362839314), (2185, 0.005183600901274913), (565, 0.005181251911912245), (2808, 0.005177390723669648), (3557, 0.005177385462965107), (3739, 0.005177244579149066), (1281, 0.005175680116116252), (3746, 0.005173544286640799), (3709, 0.005172533920161798), (1, 0.005170954191709174), (3566, 0.005165906932661157), (1870, 0.005165123746956423), (3567, 0.0051608799476119535), (2274, 0.005156927955292115), (1059, 0.005156411803598639), (348, 0.005155085671912855), (379, 0.005147249745825539), (2317, 0.005146130203168371), (1934, 0.005145391524546316), (2250, 0.005145347980100061), (3637, 0.0051453090734811255), (3693, 0.0051435222989230246), (171, 0.00514212091476901), (112, 0.005139773493817027), (80, 0.00513964340365637), (2480, 0.0051354788368921786), (2698, 0.005134978210288175), (4438, 0.005134208366312663), (519, 0.005132739837803581), (290, 0.005132171063216318), (2128, 0.005128920905361862), (3994, 0.005127560762780771), (1431, 0.005127302222951284), (1692, 0.0051268300871645705), (2938, 0.005126625740017036), (2195, 0.0051262290466776005), (4189, 0.005122582081889201), (1977, 0.005119864862932088), (72, 0.005112640213232324), (223, 0.005112075236602274), (3065, 0.005110550590499887), (2430, 0.005109689840433633), (870, 0.005106336060400198), (1290, 0.005105598942844039), (988, 0.005101654257744707), (29, 0.0050987141543528776), (800, 0.005098654634338226), (1458, 0.005089059156153144), (3121, 0.005087380241023029), (1060, 0.005084302458137342), (2227, 0.005083459151084754), (1446, 0.005081466300451791), (333, 0.005078860636852786), (4647, 0.005077318005261438), (3696, 0.005076710545202401), (1387, 0.005076489776252508), (3011, 0.005074583228430671), (601, 0.005071943307177397), (3010, 0.005070312076532335), (119, 0.005069288517977118), (4353, 0.005066885115405661), (1745, 0.005066669980289141), (2029, 0.005066349708287634), (4548, 0.005065341663836842), (1742, 0.005064176603356478), (3407, 0.0050632657886985535), (2322, 0.0050620945775003865), (1782, 0.005059992751973604), (138, 0.005058151360594152), (4339, 0.005055904867254709), (790, 0.0050452420503765295), (1130, 0.005042911529666594), (4733, 0.005042544710732429), (3556, 0.00504168679168117), (1068, 0.0050358824891869125), (3046, 0.005034979597208155), (1132, 0.005034720497730111), (3891, 0.005034231426689926), (3657, 0.005030821057833792), (3776, 0.005025722469976951), (1793, 0.005024729805065868), (1988, 0.005019327859984462), (1360, 0.00501291450981876), (179, 0.005010886238680447), (643, 0.005009099269217621), (2822, 0.004999755529630578), (1404, 0.004997110182680464), (4658, 0.004996743809795689), (3240, 0.004992843063027104), (2859, 0.004992700852199732), (2892, 0.0049878863005221475), (3412, 0.004987017331794787), (4432, 0.004985689771586675), (4472, 0.004985254948248926), (3096, 0.00498048364073901), (1493, 0.004977121864815668), (3028, 0.004972806841803788), (3215, 0.0049705112213756395), (408, 0.004970102956225152), (602, 0.004969968546840144), (3339, 0.004968966662927969), (3481, 0.004967349115955749), (4399, 0.004966589919137153), (1379, 0.004963553440513135), (549, 0.00495975451468438), (1451, 0.004956349287824076), (9, 0.004953287855981962), (3894, 0.004950668894780222), (295, 0.0049490356090522904), (2631, 0.004946662128079304), (4626, 0.00494362236221415), (2291, 0.004941030107840157), (1430, 0.004938466272065259), (240, 0.004930397552534369), (2552, 0.004925665537279168), (4634, 0.004921517025201489), (4155, 0.004921450212589491), (1267, 0.004918548177716236), (1682, 0.004914220874781144), (18, 0.004912842643735146), (4176, 0.004910168890740766), (234, 0.0049079859278775), (2311, 0.004906133476233603), (76, 0.004905613045237122), (1828, 0.0049039087568995485), (411, 0.0049017966915181725), (3342, 0.0049014715320998955), (1662, 0.004899553473647862), (2197, 0.004896777854615899), (4095, 0.0048961806290808724), (3563, 0.004893515396449908), (3854, 0.004889069806631935), (2491, 0.004878724626041461), (2113, 0.004872862735770167), (2025, 0.004871379289752395), (4459, 0.004867975627718133), (4348, 0.004859533540412498), (621, 0.004853162442855088), (899, 0.004845684779325505), (4402, 0.0048413790583903245), (4568, 0.004841206967313416), (511, 0.004835390656312716), (1171, 0.004834805501655021), (575, 0.004831557437124175), (354, 0.004829462314357394), (3027, 0.004829201414356357), (2301, 0.0048259869811005385), (1114, 0.004825881135068041), (1568, 0.004825509572509602), (3459, 0.004823517327520687), (324, 0.0048213840028089915), (1914, 0.004818458808642502), (3226, 0.004816953721145621), (1010, 0.004816806147375261), (3213, 0.0048132282622128965), (1808, 0.004804982354191746), (577, 0.00479830941786644), (2573, 0.004798059661591837), (810, 0.004792490813731102), (4057, 0.004791390075514409), (1990, 0.004791020301453181), (3405, 0.004789506949460154), (184, 0.004787257337876849), (1296, 0.0047839443902662655), (744, 0.004780323259872363), (4143, 0.0047772938096152075), (2906, 0.004776953359076586), (3645, 0.004772798304413396), (4297, 0.004765043680505382), (2697, 0.00476469149759905), (3711, 0.004761242471844484), (957, 0.004757064505715363), (1728, 0.004754295531010987), (3045, 0.004753744162128258), (410, 0.004753152699099241), (2611, 0.004745098196360597), (1326, 0.004742532051558525), (1994, 0.004738755727109741), (2010, 0.004737175179745858), (3752, 0.004731240419261161), (1626, 0.004728981871214064), (722, 0.004728871276618692), (289, 0.0047244787949099615), (1762, 0.004722056042023304), (1095, 0.00471039217676637), (1886, 0.00470793179976643), (3327, 0.0046940453569555745), (1136, 0.004686593849363222), (4074, 0.00467542487653316), (435, 0.004658609941087783), (3946, 0.004654823491127273), (1137, 0.004653907282342706), (2156, 0.004651165169029997), (3928, 0.004642137318336348), (3211, 0.004636920907887538), (2078, 0.004636574856782816), (3852, 0.004633197668863467), (2942, 0.004628057790059704), (3403, 0.004623610606370044), (2801, 0.00460874726153623), (64, 0.004607625950330776), (4748, 0.00460476791995425), (1524, 0.004604279718277466), (3944, 0.00460422820040146), (3803, 0.004602136163314064), (2908, 0.004594866123758201), (1120, 0.004576587058859356), (60, 0.004564820981000866), (1018, 0.004560753080759173), (3409, 0.004554761958206831), (1215, 0.004543631906022385), (2767, 0.004530257138269915), (2, 0.004525573159166617), (1178, 0.004519601336618364), (1417, 0.004517772647069724), (2842, 0.004509152356938722), (2204, 0.004505589167918746), (186, 0.004492845462188287), (177, 0.004474421778525468), (924, 0.004468126720559055), (2070, 0.004464468481642561), (1707, 0.004464448090238896), (3821, 0.004462359064167599), (3731, 0.004457574041519588), (2526, 0.004444470918565006), (2761, 0.0044444317552245), (1743, 0.004438203612955548), (1221, 0.004433072753572053), (2326, 0.00443114479525725), (2789, 0.004422598743771509), (2985, 0.0044163408511907485), (1691, 0.004416033277681373), (1279, 0.004404538305135402), (4373, 0.00440058664197823), (1950, 0.0043958820945878595), (3362, 0.004369497624934951), (332, 0.004365735250366718), (2377, 0.004345393605117986), (3317, 0.004340270265425097), (1276, 0.004318475706079996), (1395, 0.004312872563668747), (3152, 0.0042889591854957596), (309, 0.004275208145574444), (381, 0.004266941592019583), (4261, 0.004257609185172435), (237, 0.004253160342466252), (2734, 0.0042329102639874884), (168, 0.004217040130878365), (3429, 0.004149133645456403), (106, 0.004147201892775777), (3316, 0.004115789441775104), (2398, 0.0040936934528905755), (853, 0.004062254661234724), (3983, 0.004057451566574207), (3546, 0.003965690397146153), (2544, 0.003960812777577697), (2636, 0.003937472224276656), (1351, 0.0038490926288442732), (4171, 0.0037611414161249123), (4, 0.0), (5, 0.0), (8, 0.0), (15, 0.0), (16, 0.0), (17, 0.0), (19, 0.0), (21, 0.0), (23, 0.0), (24, 0.0), (26, 0.0), (30, 0.0), (31, 0.0), (36, 0.0), (43, 0.0), (47, 0.0), (49, 0.0), (51, 0.0), (52, 0.0), (54, 0.0), (55, 0.0), (58, 0.0), (62, 0.0), (65, 0.0), (66, 0.0), (70, 0.0), (77, 0.0), (79, 0.0), (83, 0.0), (85, 0.0), (87, 0.0), (89, 0.0), (98, 0.0), (104, 0.0), (107, 0.0), (109, 0.0), (117, 0.0), (120, 0.0), (121, 0.0), (126, 0.0), (131, 0.0), (132, 0.0), (133, 0.0), (136, 0.0), (140, 0.0), (142, 0.0), (145, 0.0), (147, 0.0), (149, 0.0), (155, 0.0), (163, 0.0), (167, 0.0), (172, 0.0), (173, 0.0), (176, 0.0), (183, 0.0), (187, 0.0), (190, 0.0), (194, 0.0), (198, 0.0), (199, 0.0), (200, 0.0), (204, 0.0), (205, 0.0), (209, 0.0), (218, 0.0), (224, 0.0), (226, 0.0), (229, 0.0), (230, 0.0), (236, 0.0), (242, 0.0), (247, 0.0), (248, 0.0), (252, 0.0), (254, 0.0), (255, 0.0), (256, 0.0), (257, 0.0), (265, 0.0), (268, 0.0), (270, 0.0), (274, 0.0), (276, 0.0), (281, 0.0), (283, 0.0), (285, 0.0), (286, 0.0), (296, 0.0), (304, 0.0), (308, 0.0), (313, 0.0), (317, 0.0), (326, 0.0), (329, 0.0), (335, 0.0), (337, 0.0), (339, 0.0), (343, 0.0), (349, 0.0), (355, 0.0), (358, 0.0), (359, 0.0), (360, 0.0), (366, 0.0), (370, 0.0), (374, 0.0), (376, 0.0), (378, 0.0), (384, 0.0), (389, 0.0), (393, 0.0), (395, 0.0), (396, 0.0), (399, 0.0), (400, 0.0), (402, 0.0), (406, 0.0), (419, 0.0), (420, 0.0), (423, 0.0), (429, 0.0), (430, 0.0), (431, 0.0), (432, 0.0), (433, 0.0), (434, 0.0), (436, 0.0), (437, 0.0), (438, 0.0), (440, 0.0), (444, 0.0), (445, 0.0), (447, 0.0), (449, 0.0), (450, 0.0), (453, 0.0), (455, 0.0), (457, 0.0), (459, 0.0), (462, 0.0), (463, 0.0), (464, 0.0), (465, 0.0), (466, 0.0), (471, 0.0), (476, 0.0), (478, 0.0), (480, 0.0), (481, 0.0), (484, 0.0), (487, 0.0), (489, 0.0), (493, 0.0), (499, 0.0), (509, 0.0), (518, 0.0), (522, 0.0), (526, 0.0), (527, 0.0), (535, 0.0), (536, 0.0), (544, 0.0), (547, 0.0), (551, 0.0), (552, 0.0), (556, 0.0), (557, 0.0), (558, 0.0), (559, 0.0), (563, 0.0), (564, 0.0), (571, 0.0), (574, 0.0), (576, 0.0), (578, 0.0), (581, 0.0), (584, 0.0), (587, 0.0), (588, 0.0), (591, 0.0), (593, 0.0), (596, 0.0), (598, 0.0), (603, 0.0), (608, 0.0), (611, 0.0), (612, 0.0), (616, 0.0), (617, 0.0), (622, 0.0), (623, 0.0), (624, 0.0), (625, 0.0), (626, 0.0), (627, 0.0), (628, 0.0), (634, 0.0), (636, 0.0), (637, 0.0), (638, 0.0), (641, 0.0), (645, 0.0), (646, 0.0), (647, 0.0), (648, 0.0), (650, 0.0), (651, 0.0), (652, 0.0), (659, 0.0), (660, 0.0), (663, 0.0), (675, 0.0), (676, 0.0), (679, 0.0), (680, 0.0), (681, 0.0), (686, 0.0), (689, 0.0), (693, 0.0), (694, 0.0), (695, 0.0), (698, 0.0), (708, 0.0), (709, 0.0), (710, 0.0), (711, 0.0), (713, 0.0), (724, 0.0), (730, 0.0), (732, 0.0), (739, 0.0), (743, 0.0), (750, 0.0), (755, 0.0), (761, 0.0), (765, 0.0), (766, 0.0), (767, 0.0), (771, 0.0), (772, 0.0), (774, 0.0), (777, 0.0), (782, 0.0), (783, 0.0), (791, 0.0), (794, 0.0), (797, 0.0), (801, 0.0), (802, 0.0), (805, 0.0), (806, 0.0), (811, 0.0), (812, 0.0), (814, 0.0), (815, 0.0), (816, 0.0), (817, 0.0), (819, 0.0), (823, 0.0), (828, 0.0), (831, 0.0), (833, 0.0), (834, 0.0), (835, 0.0), (837, 0.0), (838, 0.0), (839, 0.0), (843, 0.0), (850, 0.0), (855, 0.0), (858, 0.0), (860, 0.0), (861, 0.0), (871, 0.0), (877, 0.0), (880, 0.0), (882, 0.0), (886, 0.0), (887, 0.0), (888, 0.0), (889, 0.0), (892, 0.0), (893, 0.0), (896, 0.0), (900, 0.0), (901, 0.0), (906, 0.0), (910, 0.0), (917, 0.0), (920, 0.0), (921, 0.0), (922, 0.0), (927, 0.0), (932, 0.0), (936, 0.0), (937, 0.0), (942, 0.0), (944, 0.0), (952, 0.0), (953, 0.0), (958, 0.0), (960, 0.0), (967, 0.0), (968, 0.0), (975, 0.0), (976, 0.0), (979, 0.0), (980, 0.0), (987, 0.0), (989, 0.0), (991, 0.0), (1003, 0.0), (1004, 0.0), (1016, 0.0), (1019, 0.0), (1020, 0.0), (1021, 0.0), (1026, 0.0), (1027, 0.0), (1028, 0.0), (1032, 0.0), (1034, 0.0), (1036, 0.0), (1037, 0.0), (1042, 0.0), (1050, 0.0), (1051, 0.0), (1053, 0.0), (1055, 0.0), (1058, 0.0), (1062, 0.0), (1064, 0.0), (1067, 0.0), (1070, 0.0), (1072, 0.0), (1075, 0.0), (1079, 0.0), (1080, 0.0), (1081, 0.0), (1083, 0.0), (1086, 0.0), (1093, 0.0), (1097, 0.0), (1098, 0.0), (1102, 0.0), (1103, 0.0), (1107, 0.0), (1110, 0.0), (1116, 0.0), (1128, 0.0), (1131, 0.0), (1143, 0.0), (1145, 0.0), (1147, 0.0), (1148, 0.0), (1156, 0.0), (1158, 0.0), (1160, 0.0), (1161, 0.0), (1167, 0.0), (1172, 0.0), (1175, 0.0), (1176, 0.0), (1177, 0.0), (1180, 0.0), (1181, 0.0), (1182, 0.0), (1186, 0.0), (1189, 0.0), (1193, 0.0), (1202, 0.0), (1206, 0.0), (1209, 0.0), (1218, 0.0), (1228, 0.0), (1233, 0.0), (1236, 0.0), (1237, 0.0), (1242, 0.0), (1245, 0.0), (1247, 0.0), (1248, 0.0), (1250, 0.0), (1264, 0.0), (1272, 0.0), (1287, 0.0), (1288, 0.0), (1289, 0.0), (1295, 0.0), (1303, 0.0), (1311, 0.0), (1313, 0.0), (1316, 0.0), (1318, 0.0), (1324, 0.0), (1333, 0.0), (1334, 0.0), (1342, 0.0), (1347, 0.0), (1355, 0.0), (1356, 0.0), (1371, 0.0), (1375, 0.0), (1376, 0.0), (1383, 0.0), (1388, 0.0), (1391, 0.0), (1399, 0.0), (1400, 0.0), (1414, 0.0), (1415, 0.0), (1416, 0.0), (1421, 0.0), (1426, 0.0), (1428, 0.0), (1429, 0.0), (1433, 0.0), (1434, 0.0), (1435, 0.0), (1438, 0.0), (1439, 0.0), (1441, 0.0), (1444, 0.0), (1449, 0.0), (1462, 0.0), (1463, 0.0), (1470, 0.0), (1473, 0.0), (1474, 0.0), (1475, 0.0), (1481, 0.0), (1490, 0.0), (1497, 0.0), (1498, 0.0), (1499, 0.0), (1519, 0.0), (1529, 0.0), (1531, 0.0), (1532, 0.0), (1534, 0.0), (1538, 0.0), (1541, 0.0), (1550, 0.0), (1558, 0.0), (1561, 0.0), (1562, 0.0), (1563, 0.0), (1573, 0.0), (1574, 0.0), (1575, 0.0), (1578, 0.0), (1580, 0.0), (1581, 0.0), (1583, 0.0), (1590, 0.0), (1593, 0.0), (1595, 0.0), (1600, 0.0), (1605, 0.0), (1607, 0.0), (1609, 0.0), (1612, 0.0), (1621, 0.0), (1623, 0.0), (1624, 0.0), (1625, 0.0), (1628, 0.0), (1629, 0.0), (1631, 0.0), (1632, 0.0), (1633, 0.0), (1636, 0.0), (1641, 0.0), (1643, 0.0), (1644, 0.0), (1646, 0.0), (1647, 0.0), (1654, 0.0), (1655, 0.0), (1661, 0.0), (1664, 0.0), (1667, 0.0), (1669, 0.0), (1671, 0.0), (1672, 0.0), (1673, 0.0), (1674, 0.0), (1685, 0.0), (1686, 0.0), (1699, 0.0), (1703, 0.0), (1706, 0.0), (1710, 0.0), (1711, 0.0), (1712, 0.0), (1716, 0.0), (1717, 0.0), (1723, 0.0), (1724, 0.0), (1730, 0.0), (1737, 0.0), (1739, 0.0), (1747, 0.0), (1752, 0.0), (1753, 0.0), (1757, 0.0), (1761, 0.0), (1763, 0.0), (1767, 0.0), (1770, 0.0), (1773, 0.0), (1776, 0.0), (1777, 0.0), (1779, 0.0), (1780, 0.0), (1785, 0.0), (1786, 0.0), (1790, 0.0), (1795, 0.0), (1800, 0.0), (1801, 0.0), (1805, 0.0), (1807, 0.0), (1811, 0.0), (1813, 0.0), (1819, 0.0), (1820, 0.0), (1826, 0.0), (1829, 0.0), (1831, 0.0), (1832, 0.0), (1834, 0.0), (1835, 0.0), (1843, 0.0), (1844, 0.0), (1854, 0.0), (1855, 0.0), (1856, 0.0), (1859, 0.0), (1860, 0.0), (1862, 0.0), (1863, 0.0), (1864, 0.0), (1866, 0.0), (1868, 0.0), (1869, 0.0), (1872, 0.0), (1873, 0.0), (1874, 0.0), (1875, 0.0), (1879, 0.0), (1882, 0.0), (1884, 0.0), (1885, 0.0), (1890, 0.0), (1891, 0.0), (1892, 0.0), (1905, 0.0), (1909, 0.0), (1916, 0.0), (1917, 0.0), (1918, 0.0), (1920, 0.0), (1922, 0.0), (1924, 0.0), (1927, 0.0), (1928, 0.0), (1932, 0.0), (1933, 0.0), (1938, 0.0), (1940, 0.0), (1942, 0.0), (1944, 0.0), (1946, 0.0), (1947, 0.0), (1958, 0.0), (1960, 0.0), (1966, 0.0), (1967, 0.0), (1970, 0.0), (1972, 0.0), (1975, 0.0), (1978, 0.0), (1979, 0.0), (1983, 0.0), (1989, 0.0), (1991, 0.0), (1993, 0.0), (1995, 0.0), (1998, 0.0), (2002, 0.0), (2004, 0.0), (2023, 0.0), (2028, 0.0), (2034, 0.0), (2038, 0.0), (2039, 0.0), (2042, 0.0), (2048, 0.0), (2051, 0.0), (2054, 0.0), (2059, 0.0), (2063, 0.0), (2073, 0.0), (2080, 0.0), (2089, 0.0), (2092, 0.0), (2095, 0.0), (2096, 0.0), (2098, 0.0), (2100, 0.0), (2104, 0.0), (2105, 0.0), (2119, 0.0), (2120, 0.0), (2123, 0.0), (2127, 0.0), (2129, 0.0), (2130, 0.0), (2132, 0.0), (2135, 0.0), (2138, 0.0), (2141, 0.0), (2142, 0.0), (2143, 0.0), (2149, 0.0), (2154, 0.0), (2159, 0.0), (2162, 0.0), (2163, 0.0), (2165, 0.0), (2171, 0.0), (2172, 0.0), (2173, 0.0), (2174, 0.0), (2176, 0.0), (2182, 0.0), (2183, 0.0), (2189, 0.0), (2190, 0.0), (2196, 0.0), (2200, 0.0), (2213, 0.0), (2214, 0.0), (2216, 0.0), (2219, 0.0), (2226, 0.0), (2230, 0.0), (2231, 0.0), (2235, 0.0), (2238, 0.0), (2247, 0.0), (2248, 0.0), (2251, 0.0), (2254, 0.0), (2255, 0.0), (2257, 0.0), (2258, 0.0), (2266, 0.0), (2267, 0.0), (2269, 0.0), (2271, 0.0), (2273, 0.0), (2279, 0.0), (2282, 0.0), (2283, 0.0), (2286, 0.0), (2288, 0.0), (2289, 0.0), (2293, 0.0), (2295, 0.0), (2299, 0.0), (2300, 0.0), (2305, 0.0), (2306, 0.0), (2310, 0.0), (2312, 0.0), (2313, 0.0), (2314, 0.0), (2321, 0.0), (2323, 0.0), (2324, 0.0), (2325, 0.0), (2328, 0.0), (2332, 0.0), (2341, 0.0), (2342, 0.0), (2343, 0.0), (2344, 0.0), (2346, 0.0), (2347, 0.0), (2349, 0.0), (2350, 0.0), (2354, 0.0), (2355, 0.0), (2358, 0.0), (2359, 0.0), (2360, 0.0), (2365, 0.0), (2366, 0.0), (2369, 0.0), (2370, 0.0), (2371, 0.0), (2372, 0.0), (2373, 0.0), (2374, 0.0), (2380, 0.0), (2382, 0.0), (2384, 0.0), (2386, 0.0), (2388, 0.0), (2390, 0.0), (2392, 0.0), (2393, 0.0), (2400, 0.0), (2401, 0.0), (2405, 0.0), (2406, 0.0), (2407, 0.0), (2408, 0.0), (2411, 0.0), (2417, 0.0), (2425, 0.0), (2437, 0.0), (2438, 0.0), (2445, 0.0), (2448, 0.0), (2451, 0.0), (2453, 0.0), (2454, 0.0), (2457, 0.0), (2460, 0.0), (2462, 0.0), (2463, 0.0), (2465, 0.0), (2466, 0.0), (2470, 0.0), (2471, 0.0), (2473, 0.0), (2475, 0.0), (2477, 0.0), (2482, 0.0), (2483, 0.0), (2484, 0.0), (2489, 0.0), (2490, 0.0), (2496, 0.0), (2502, 0.0), (2505, 0.0), (2508, 0.0), (2515, 0.0), (2516, 0.0), (2517, 0.0), (2520, 0.0), (2523, 0.0), (2524, 0.0), (2527, 0.0), (2532, 0.0), (2533, 0.0), (2536, 0.0), (2541, 0.0), (2542, 0.0), (2545, 0.0), (2548, 0.0), (2551, 0.0), (2556, 0.0), (2557, 0.0), (2558, 0.0), (2563, 0.0), (2564, 0.0), (2571, 0.0), (2572, 0.0), (2577, 0.0), (2578, 0.0), (2579, 0.0), (2583, 0.0), (2585, 0.0), (2589, 0.0), (2593, 0.0), (2595, 0.0), (2596, 0.0), (2598, 0.0), (2599, 0.0), (2602, 0.0), (2606, 0.0), (2607, 0.0), (2609, 0.0), (2613, 0.0), (2614, 0.0), (2618, 0.0), (2620, 0.0), (2621, 0.0), (2623, 0.0), (2624, 0.0), (2628, 0.0), (2629, 0.0), (2637, 0.0), (2638, 0.0), (2639, 0.0), (2641, 0.0), (2643, 0.0), (2648, 0.0), (2649, 0.0), (2650, 0.0), (2652, 0.0), (2655, 0.0), (2658, 0.0), (2664, 0.0), (2669, 0.0), (2679, 0.0), (2683, 0.0), (2684, 0.0), (2686, 0.0), (2694, 0.0), (2695, 0.0), (2700, 0.0), (2703, 0.0), (2704, 0.0), (2705, 0.0), (2708, 0.0), (2716, 0.0), (2717, 0.0), (2719, 0.0), (2723, 0.0), (2731, 0.0), (2733, 0.0), (2735, 0.0), (2736, 0.0), (2739, 0.0), (2743, 0.0), (2748, 0.0), (2750, 0.0), (2752, 0.0), (2757, 0.0), (2759, 0.0), (2760, 0.0), (2775, 0.0), (2779, 0.0), (2783, 0.0), (2784, 0.0), (2800, 0.0), (2802, 0.0), (2806, 0.0), (2821, 0.0), (2824, 0.0), (2827, 0.0), (2828, 0.0), (2830, 0.0), (2831, 0.0), (2835, 0.0), (2837, 0.0), (2839, 0.0), (2845, 0.0), (2848, 0.0), (2849, 0.0), (2851, 0.0), (2861, 0.0), (2863, 0.0), (2868, 0.0), (2871, 0.0), (2875, 0.0), (2877, 0.0), (2879, 0.0), (2883, 0.0), (2885, 0.0), (2886, 0.0), (2887, 0.0), (2889, 0.0), (2890, 0.0), (2894, 0.0), (2896, 0.0), (2901, 0.0), (2902, 0.0), (2904, 0.0), (2905, 0.0), (2907, 0.0), (2909, 0.0), (2914, 0.0), (2915, 0.0), (2916, 0.0), (2917, 0.0), (2919, 0.0), (2923, 0.0), (2927, 0.0), (2929, 0.0), (2932, 0.0), (2934, 0.0), (2939, 0.0), (2941, 0.0), (2946, 0.0), (2952, 0.0), (2953, 0.0), (2956, 0.0), (2957, 0.0), (2958, 0.0), (2960, 0.0), (2961, 0.0), (2964, 0.0), (2966, 0.0), (2967, 0.0), (2968, 0.0), (2974, 0.0), (2976, 0.0), (2977, 0.0), (2980, 0.0), (2987, 0.0), (2988, 0.0), (2989, 0.0), (2993, 0.0), (2997, 0.0), (3000, 0.0), (3001, 0.0), (3002, 0.0), (3004, 0.0), (3005, 0.0), (3006, 0.0), (3012, 0.0), (3013, 0.0), (3014, 0.0), (3015, 0.0), (3019, 0.0), (3021, 0.0), (3023, 0.0), (3025, 0.0), (3029, 0.0), (3030, 0.0), (3031, 0.0), (3032, 0.0), (3035, 0.0), (3037, 0.0), (3038, 0.0), (3041, 0.0), (3047, 0.0), (3048, 0.0), (3049, 0.0), (3051, 0.0), (3052, 0.0), (3054, 0.0), (3055, 0.0), (3056, 0.0), (3057, 0.0), (3058, 0.0), (3060, 0.0), (3068, 0.0), (3072, 0.0), (3074, 0.0), (3075, 0.0), (3081, 0.0), (3082, 0.0), (3086, 0.0), (3087, 0.0), (3088, 0.0), (3090, 0.0), (3092, 0.0), (3093, 0.0), (3094, 0.0), (3095, 0.0), (3101, 0.0), (3103, 0.0), (3104, 0.0), (3105, 0.0), (3106, 0.0), (3107, 0.0), (3110, 0.0), (3116, 0.0), (3117, 0.0), (3118, 0.0), (3119, 0.0), (3120, 0.0), (3123, 0.0), (3128, 0.0), (3130, 0.0), (3138, 0.0), (3140, 0.0), (3148, 0.0), (3158, 0.0), (3160, 0.0), (3162, 0.0), (3164, 0.0), (3167, 0.0), (3170, 0.0), (3171, 0.0), (3173, 0.0), (3176, 0.0), (3179, 0.0), (3180, 0.0), (3186, 0.0), (3190, 0.0), (3196, 0.0), (3200, 0.0), (3204, 0.0), (3207, 0.0), (3208, 0.0), (3209, 0.0), (3216, 0.0), (3219, 0.0), (3230, 0.0), (3235, 0.0), (3242, 0.0), (3243, 0.0), (3248, 0.0), (3250, 0.0), (3251, 0.0), (3252, 0.0), (3254, 0.0), (3255, 0.0), (3257, 0.0), (3261, 0.0), (3262, 0.0), (3266, 0.0), (3268, 0.0), (3269, 0.0), (3272, 0.0), (3273, 0.0), (3274, 0.0), (3278, 0.0), (3279, 0.0), (3281, 0.0), (3291, 0.0), (3292, 0.0), (3296, 0.0), (3298, 0.0), (3299, 0.0), (3301, 0.0), (3302, 0.0), (3305, 0.0), (3307, 0.0), (3313, 0.0), (3314, 0.0), (3318, 0.0), (3322, 0.0), (3324, 0.0), (3325, 0.0), (3326, 0.0), (3331, 0.0), (3333, 0.0), (3334, 0.0), (3338, 0.0), (3340, 0.0), (3341, 0.0), (3346, 0.0), (3347, 0.0), (3350, 0.0), (3353, 0.0), (3358, 0.0), (3359, 0.0), (3363, 0.0), (3369, 0.0), (3370, 0.0), (3372, 0.0), (3377, 0.0), (3378, 0.0), (3379, 0.0), (3380, 0.0), (3381, 0.0), (3387, 0.0), (3390, 0.0), (3391, 0.0), (3392, 0.0), (3394, 0.0), (3396, 0.0), (3401, 0.0), (3406, 0.0), (3415, 0.0), (3417, 0.0), (3422, 0.0), (3423, 0.0), (3425, 0.0), (3426, 0.0), (3428, 0.0), (3431, 0.0), (3433, 0.0), (3434, 0.0), (3442, 0.0), (3452, 0.0), (3455, 0.0), (3460, 0.0), (3462, 0.0), (3470, 0.0), (3473, 0.0), (3474, 0.0), (3475, 0.0), (3476, 0.0), (3478, 0.0), (3482, 0.0), (3483, 0.0), (3487, 0.0), (3488, 0.0), (3489, 0.0), (3490, 0.0), (3494, 0.0), (3495, 0.0), (3497, 0.0), (3499, 0.0), (3501, 0.0), (3503, 0.0), (3504, 0.0), (3506, 0.0), (3509, 0.0), (3510, 0.0), (3511, 0.0), (3519, 0.0), (3521, 0.0), (3523, 0.0), (3527, 0.0), (3530, 0.0), (3534, 0.0), (3535, 0.0), (3541, 0.0), (3542, 0.0), (3543, 0.0), (3547, 0.0), (3548, 0.0), (3553, 0.0), (3558, 0.0), (3561, 0.0), (3564, 0.0), (3572, 0.0), (3573, 0.0), (3576, 0.0), (3580, 0.0), (3587, 0.0), (3590, 0.0), (3607, 0.0), (3608, 0.0), (3609, 0.0), (3611, 0.0), (3613, 0.0), (3614, 0.0), (3615, 0.0), (3617, 0.0), (3619, 0.0), (3620, 0.0), (3624, 0.0), (3625, 0.0), (3627, 0.0), (3629, 0.0), (3634, 0.0), (3636, 0.0), (3638, 0.0), (3640, 0.0), (3647, 0.0), (3653, 0.0), (3659, 0.0), (3662, 0.0), (3663, 0.0), (3664, 0.0), (3666, 0.0), (3667, 0.0), (3669, 0.0), (3670, 0.0), (3672, 0.0), (3675, 0.0), (3679, 0.0), (3682, 0.0), (3683, 0.0), (3687, 0.0), (3691, 0.0), (3694, 0.0), (3695, 0.0), (3702, 0.0), (3705, 0.0), (3707, 0.0), (3712, 0.0), (3713, 0.0), (3714, 0.0), (3716, 0.0), (3717, 0.0), (3719, 0.0), (3721, 0.0), (3725, 0.0), (3726, 0.0), (3727, 0.0), (3729, 0.0), (3735, 0.0), (3737, 0.0), (3740, 0.0), (3745, 0.0), (3749, 0.0), (3754, 0.0), (3755, 0.0), (3756, 0.0), (3757, 0.0), (3759, 0.0), (3760, 0.0), (3761, 0.0), (3762, 0.0), (3766, 0.0), (3770, 0.0), (3772, 0.0), (3774, 0.0), (3775, 0.0), (3779, 0.0), (3781, 0.0), (3785, 0.0), (3789, 0.0), (3791, 0.0), (3793, 0.0), (3799, 0.0), (3804, 0.0), (3806, 0.0), (3809, 0.0), (3811, 0.0), (3815, 0.0), (3817, 0.0), (3820, 0.0), (3824, 0.0), (3827, 0.0), (3828, 0.0), (3830, 0.0), (3831, 0.0), (3832, 0.0), (3835, 0.0), (3836, 0.0), (3838, 0.0), (3843, 0.0), (3847, 0.0), (3848, 0.0), (3851, 0.0), (3853, 0.0), (3855, 0.0), (3861, 0.0), (3863, 0.0), (3864, 0.0), (3867, 0.0), (3871, 0.0), (3872, 0.0), (3873, 0.0), (3874, 0.0), (3876, 0.0), (3878, 0.0), (3880, 0.0), (3883, 0.0), (3884, 0.0), (3885, 0.0), (3887, 0.0), (3893, 0.0), (3895, 0.0), (3896, 0.0), (3898, 0.0), (3899, 0.0), (3900, 0.0), (3901, 0.0), (3902, 0.0), (3904, 0.0), (3906, 0.0), (3909, 0.0), (3910, 0.0), (3911, 0.0), (3913, 0.0), (3915, 0.0), (3916, 0.0), (3918, 0.0), (3922, 0.0), (3926, 0.0), (3929, 0.0), (3931, 0.0), (3932, 0.0), (3935, 0.0), (3938, 0.0), (3939, 0.0), (3940, 0.0), (3942, 0.0), (3945, 0.0), (3951, 0.0), (3953, 0.0), (3954, 0.0), (3956, 0.0), (3958, 0.0), (3960, 0.0), (3961, 0.0), (3962, 0.0), (3969, 0.0), (3971, 0.0), (3974, 0.0), (3975, 0.0), (3976, 0.0), (3981, 0.0), (3985, 0.0), (3986, 0.0), (3988, 0.0), (3989, 0.0), (3990, 0.0), (3991, 0.0), (3992, 0.0), (3996, 0.0), (3999, 0.0), (4002, 0.0), (4003, 0.0), (4004, 0.0), (4006, 0.0), (4008, 0.0), (4010, 0.0), (4011, 0.0), (4014, 0.0), (4017, 0.0), (4021, 0.0), (4022, 0.0), (4024, 0.0), (4028, 0.0), (4030, 0.0), (4034, 0.0), (4035, 0.0), (4040, 0.0), (4042, 0.0), (4043, 0.0), (4048, 0.0), (4053, 0.0), (4058, 0.0), (4060, 0.0), (4063, 0.0), (4065, 0.0), (4067, 0.0), (4072, 0.0), (4078, 0.0), (4079, 0.0), (4080, 0.0), (4082, 0.0), (4083, 0.0), (4085, 0.0), (4087, 0.0), (4088, 0.0), (4090, 0.0), (4092, 0.0), (4096, 0.0), (4101, 0.0), (4111, 0.0), (4123, 0.0), (4124, 0.0), (4126, 0.0), (4127, 0.0), (4129, 0.0), (4130, 0.0), (4134, 0.0), (4138, 0.0), (4139, 0.0), (4141, 0.0), (4144, 0.0), (4146, 0.0), (4150, 0.0), (4151, 0.0), (4154, 0.0), (4159, 0.0), (4160, 0.0), (4161, 0.0), (4162, 0.0), (4163, 0.0), (4165, 0.0), (4167, 0.0), (4168, 0.0), (4170, 0.0), (4172, 0.0), (4177, 0.0), (4179, 0.0), (4182, 0.0), (4183, 0.0), (4185, 0.0), (4187, 0.0), (4196, 0.0), (4204, 0.0), (4208, 0.0), (4209, 0.0), (4212, 0.0), (4214, 0.0), (4215, 0.0), (4219, 0.0), (4225, 0.0), (4227, 0.0), (4228, 0.0), (4229, 0.0), (4230, 0.0), (4231, 0.0), (4232, 0.0), (4235, 0.0), (4240, 0.0), (4241, 0.0), (4243, 0.0), (4245, 0.0), (4247, 0.0), (4250, 0.0), (4251, 0.0), (4256, 0.0), (4258, 0.0), (4260, 0.0), (4266, 0.0), (4268, 0.0), (4270, 0.0), (4273, 0.0), (4275, 0.0), (4277, 0.0), (4278, 0.0), (4279, 0.0), (4280, 0.0), (4284, 0.0), (4291, 0.0), (4292, 0.0), (4296, 0.0), (4298, 0.0), (4299, 0.0), (4301, 0.0), (4302, 0.0), (4305, 0.0), (4306, 0.0), (4307, 0.0), (4309, 0.0), (4311, 0.0), (4314, 0.0), (4316, 0.0), (4317, 0.0), (4318, 0.0), (4320, 0.0), (4322, 0.0), (4326, 0.0), (4329, 0.0), (4331, 0.0), (4333, 0.0), (4334, 0.0), (4335, 0.0), (4336, 0.0), (4337, 0.0), (4340, 0.0), (4342, 0.0), (4343, 0.0), (4349, 0.0), (4350, 0.0), (4352, 0.0), (4354, 0.0), (4355, 0.0), (4356, 0.0), (4358, 0.0), (4360, 0.0), (4361, 0.0), (4362, 0.0), (4364, 0.0), (4365, 0.0), (4366, 0.0), (4367, 0.0), (4368, 0.0), (4370, 0.0), (4372, 0.0), (4378, 0.0), (4380, 0.0), (4383, 0.0), (4385, 0.0), (4386, 0.0), (4387, 0.0), (4388, 0.0), (4389, 0.0), (4391, 0.0), (4393, 0.0), (4394, 0.0), (4396, 0.0), (4397, 0.0), (4398, 0.0), (4400, 0.0), (4405, 0.0), (4407, 0.0), (4409, 0.0), (4410, 0.0), (4411, 0.0), (4412, 0.0), (4413, 0.0), (4415, 0.0), (4416, 0.0), (4417, 0.0), (4418, 0.0), (4421, 0.0), (4423, 0.0), (4424, 0.0), (4427, 0.0), (4428, 0.0), (4441, 0.0), (4445, 0.0), (4449, 0.0), (4451, 0.0), (4454, 0.0), (4455, 0.0), (4458, 0.0), (4461, 0.0), (4464, 0.0), (4465, 0.0), (4466, 0.0), (4468, 0.0), (4469, 0.0), (4470, 0.0), (4471, 0.0), (4475, 0.0), (4478, 0.0), (4479, 0.0), (4480, 0.0), (4482, 0.0), (4484, 0.0), (4485, 0.0), (4487, 0.0), (4488, 0.0), (4491, 0.0), (4494, 0.0), (4495, 0.0), (4496, 0.0), (4497, 0.0), (4498, 0.0), (4499, 0.0), (4500, 0.0), (4501, 0.0), (4502, 0.0), (4505, 0.0), (4506, 0.0), (4507, 0.0), (4508, 0.0), (4511, 0.0), (4513, 0.0), (4516, 0.0), (4517, 0.0), (4518, 0.0), (4520, 0.0), (4521, 0.0), (4525, 0.0), (4527, 0.0), (4528, 0.0), (4529, 0.0), (4530, 0.0), (4532, 0.0), (4533, 0.0), (4536, 0.0), (4537, 0.0), (4538, 0.0), (4539, 0.0), (4540, 0.0), (4544, 0.0), (4545, 0.0), (4546, 0.0), (4547, 0.0), (4554, 0.0), (4558, 0.0), (4559, 0.0), (4560, 0.0), (4561, 0.0), (4563, 0.0), (4565, 0.0), (4566, 0.0), (4567, 0.0), (4569, 0.0), (4572, 0.0), (4573, 0.0), (4574, 0.0), (4575, 0.0), (4577, 0.0), (4578, 0.0), (4579, 0.0), (4582, 0.0), (4583, 0.0), (4584, 0.0), (4588, 0.0), (4593, 0.0), (4594, 0.0), (4595, 0.0), (4597, 0.0), (4598, 0.0), (4601, 0.0), (4602, 0.0), (4607, 0.0), (4610, 0.0), (4611, 0.0), (4614, 0.0), (4616, 0.0), (4617, 0.0), (4618, 0.0), (4622, 0.0), (4623, 0.0), (4625, 0.0), (4632, 0.0), (4635, 0.0), (4637, 0.0), (4638, 0.0), (4641, 0.0), (4643, 0.0), (4644, 0.0), (4645, 0.0), (4650, 0.0), (4651, 0.0), (4654, 0.0), (4655, 0.0), (4656, 0.0), (4657, 0.0), (4659, 0.0), (4660, 0.0), (4662, 0.0), (4663, 0.0), (4664, 0.0), (4665, 0.0), (4666, 0.0), (4667, 0.0), (4668, 0.0), (4670, 0.0), (4671, 0.0), (4672, 0.0), (4677, 0.0), (4678, 0.0), (4681, 0.0), (4683, 0.0), (4685, 0.0), (4688, 0.0), (4691, 0.0), (4692, 0.0), (4693, 0.0), (4694, 0.0), (4696, 0.0), (4697, 0.0), (4699, 0.0), (4701, 0.0), (4702, 0.0), (4703, 0.0), (4704, 0.0), (4706, 0.0), (4707, 0.0), (4710, 0.0), (4711, 0.0), (4713, 0.0), (4714, 0.0), (4715, 0.0), (4718, 0.0), (4724, 0.0), (4726, 0.0), (4727, 0.0), (4729, 0.0), (4731, 0.0), (4734, 0.0), (4735, 0.0), (4736, 0.0), (4740, 0.0), (4741, 0.0), (4745, 0.0), (4749, 0.0), (4750, 0.0), (4751, 0.0), (4752, 0.0), (4753, 0.0), (4758, 0.0)]\n"
          ]
        }
      ]
    },
    {
      "cell_type": "code",
      "source": [
        "# print the name of similar movies based on the index\n",
        "\n",
        "print('Top 30 Movies Suggested for You :\\ n ')\n",
        "\n",
        "i=1\n",
        "\n",
        "for movie in Sorted_Similar_Movies:\n",
        "   index = movie[0]\n",
        "   title_from_index = df [df.index==index]['Movie_Title'].values[0]\n",
        "   if (i<31):\n",
        "    print(i, '.',title_from_index)\n",
        "    i+=1"
      ],
      "metadata": {
        "colab": {
          "base_uri": "https://localhost:8080/"
        },
        "id": "Ex_dzK8_Fn-U",
        "outputId": "2ef30286-f7e6-4a54-ee37-916e773c7ae2"
      },
      "execution_count": null,
      "outputs": [
        {
          "output_type": "stream",
          "name": "stdout",
          "text": [
            "Top 30 Movies Suggested for You :\\ n \n",
            "1 . Hit & Run\n",
            "2 . Deck the Halls\n",
            "3 . Without a Paddle\n",
            "4 . Idiocracy\n",
            "5 . Zathura: A Space Adventure\n",
            "6 . You Again\n",
            "7 . Employee of the Month\n",
            "8 . Baby Mama\n",
            "9 . The Opposite Sex\n",
            "10 . Darling Companion\n",
            "11 . Stealth\n",
            "12 . True Lies\n",
            "13 . All the Pretty Horses\n",
            "14 . Let's Go to Prison\n",
            "15 . Dear Wendy\n",
            "16 . The Matador\n",
            "17 . The Hunting Party\n",
            "18 . The Sweetest Thing\n",
            "19 . The Helix... Loaded\n",
            "20 . The Assassination of Jesse James by the Coward Robert Ford\n",
            "21 . Legend of a Rabbit\n",
            "22 . Getaway\n",
            "23 . Mud\n",
            "24 . Dom Hemingway\n",
            "25 . Blackthorn\n",
            "26 . Paul Blart: Mall Cop\n",
            "27 . Haywire\n",
            "28 . Out of the Furnace\n",
            "29 . Y tu mamá también\n",
            "30 . Frances Ha\n"
          ]
        }
      ]
    },
    {
      "cell_type": "markdown",
      "source": [
        "## Top 10 Movies Recommended Based on Your Favorite Movie"
      ],
      "metadata": {
        "id": "WIkpbvN-FzDx"
      }
    },
    {
      "cell_type": "code",
      "source": [
        "import difflib\n",
        "\n",
        "Movie_Name = input('Enter your favorite movie name: ')\n",
        "\n",
        "list_of_all_titles = df['Movie_Title'].tolist()\n",
        "\n",
        "# Find close matches to the input movie name\n",
        "close_matches = difflib.get_close_matches(Movie_Name, list_of_all_titles)\n",
        "\n",
        "if close_matches:\n",
        "    closest_match = close_matches[0]  # Get the closest match\n",
        "    Index_of_Movie = df[df.Movie_Title == closest_match]['Movie_ID'].values[0]\n",
        "\n",
        "    Recommendation_Score = list(enumerate(Similarity_Score[Index_of_Movie]))\n",
        "\n",
        "    sorted_similar_movies = sorted(Recommendation_Score, key=lambda x: x[1], reverse=True)\n",
        "\n",
        "    print('Top 10 Movies suggested for you: \\n')\n",
        "\n",
        "    i = 1\n",
        "\n",
        "    for movie in sorted_similar_movies:\n",
        "        index = movie[0]\n",
        "        if index < len(df):\n",
        "            title_from_index = df[df.Movie_ID == index]['Movie_Title'].values[0]\n",
        "            print(i, '.', title_from_index)\n",
        "            i += 1\n",
        "        else:\n",
        "            print(\"Invalid index:\", index)\n",
        "\n",
        "        if i > 10:\n",
        "            break\n",
        "else:\n",
        "    print('No close matches found for the entered movie name.')"
      ],
      "metadata": {
        "colab": {
          "base_uri": "https://localhost:8080/"
        },
        "id": "yj9MWItcFv9w",
        "outputId": "9c8c0d0f-c439-4180-cad7-2b3cf4a19785"
      },
      "execution_count": null,
      "outputs": [
        {
          "output_type": "stream",
          "name": "stdout",
          "text": [
            "Enter your favorite movie name: Frozen\n",
            "Top 10 Movies suggested for you: \n",
            "\n",
            "1 . Frozen\n",
            "2 . Premonition\n",
            "3 . Made of Honor\n",
            "4 . Running with Scissors\n",
            "5 . Transsiberian\n",
            "6 . Harriet the Spy\n",
            "7 . The Hills Have Eyes 2\n",
            "8 . Albino Alligator\n",
            "9 . Dying of the Light\n",
            "10 . There Goes My Baby\n"
          ]
        }
      ]
    },
    {
      "cell_type": "markdown",
      "source": [
        "Thank you for exploring our Movie Recommendation System! I hope you enjoy your personalized movie suggestions. If you have any questions or feedback, feel free to reach out. Happy watching!"
      ],
      "metadata": {
        "id": "N80jiHw0GZBa"
      }
    }
  ]
}